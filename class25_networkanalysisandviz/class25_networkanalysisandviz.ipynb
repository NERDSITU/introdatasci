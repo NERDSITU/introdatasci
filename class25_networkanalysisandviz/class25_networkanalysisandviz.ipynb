{
 "cells": [
  {
   "cell_type": "markdown",
   "metadata": {},
   "source": [
    "<div class=\"frontmatter text-center\">\n",
    "<h1> Introduction to Data Science and Programming</h1>\n",
    "<h2>Class 25: Network analyis and visualization</h2>\n",
    "<h3>IT University of Copenhagen, Fall 2019</h3>\n",
    "<h3>Instructor: Michael Szell</h3>\n",
    "</div>"
   ]
  },
  {
   "cell_type": "markdown",
   "metadata": {},
   "source": [
    "# Source\n",
    "This notebook was adapted from:\n",
    "* A network science class by Sean Cornelius and Emma Thompson"
   ]
  },
  {
   "cell_type": "markdown",
   "metadata": {
    "slideshow": {
     "slide_type": "slide"
    }
   },
   "source": [
    "# Importing required modules"
   ]
  },
  {
   "cell_type": "code",
   "execution_count": null,
   "metadata": {
    "slideshow": {
     "slide_type": "-"
    }
   },
   "outputs": [],
   "source": [
    "import numpy as np\n",
    "import networkx as nx\n",
    "import matplotlib.pyplot as plt\n",
    "import matplotlib as mpl\n",
    "%matplotlib inline"
   ]
  },
  {
   "cell_type": "markdown",
   "metadata": {
    "slideshow": {
     "slide_type": "slide"
    }
   },
   "source": [
    "# Basic data types in NetworkX\n",
    "NetworkX provides the following classes that represent network-related data,\n",
    "as well as network analysis algorithms that operate on these objects:"
   ]
  },
  {
   "cell_type": "markdown",
   "metadata": {
    "slideshow": {
     "slide_type": "fragment"
    }
   },
   "source": [
    "**Graph**       - Undirected graph with self loops"
   ]
  },
  {
   "cell_type": "markdown",
   "metadata": {
    "slideshow": {
     "slide_type": "fragment"
    }
   },
   "source": [
    "**DiGraph**      - Directed graph with self loops"
   ]
  },
  {
   "cell_type": "markdown",
   "metadata": {
    "slideshow": {
     "slide_type": "fragment"
    }
   },
   "source": [
    "**MultiGraph**   - Undirected Graph with self loops and multiple edges"
   ]
  },
  {
   "cell_type": "markdown",
   "metadata": {
    "slideshow": {
     "slide_type": "fragment"
    }
   },
   "source": [
    "**MultiDiGraph** - Directed Graph with self loops and multiple edges"
   ]
  },
  {
   "cell_type": "markdown",
   "metadata": {
    "slideshow": {
     "slide_type": "slide"
    }
   },
   "source": [
    "# Getting started\n",
    "Create an empty, undirected network"
   ]
  },
  {
   "cell_type": "code",
   "execution_count": null,
   "metadata": {},
   "outputs": [],
   "source": [
    "G = nx.Graph()"
   ]
  },
  {
   "cell_type": "markdown",
   "metadata": {
    "slideshow": {
     "slide_type": "slide"
    }
   },
   "source": [
    "# Nodes\n",
    "Nodes can be almost anything, including numbers, strings, GPS coordinates, you name it."
   ]
  },
  {
   "cell_type": "markdown",
   "metadata": {
    "slideshow": {
     "slide_type": "fragment"
    }
   },
   "source": [
    "Nodes can be added one at a time:"
   ]
  },
  {
   "cell_type": "code",
   "execution_count": null,
   "metadata": {},
   "outputs": [],
   "source": [
    "G.add_node(0)\n",
    "G.add_node(\"John\")\n",
    "\n",
    "# tuple object representing, say, longitude and latitude\n",
    "pos = (1.2, 3.4) \n",
    "G.add_node(pos)"
   ]
  },
  {
   "cell_type": "markdown",
   "metadata": {
    "slideshow": {
     "slide_type": "fragment"
    }
   },
   "source": [
    "...or many at once from a python container"
   ]
  },
  {
   "cell_type": "code",
   "execution_count": null,
   "metadata": {},
   "outputs": [],
   "source": [
    "# [1,2,3] is a list containing 1, 2, and 3\n",
    "G.add_nodes_from([1, 2, 3])"
   ]
  },
  {
   "cell_type": "markdown",
   "metadata": {
    "slideshow": {
     "slide_type": "slide"
    }
   },
   "source": [
    "# Node attributes\n",
    "Nodes can have arbitrary attributes associated with them, contained in a string-index dictionary"
   ]
  },
  {
   "cell_type": "markdown",
   "metadata": {
    "slideshow": {
     "slide_type": "fragment"
    }
   },
   "source": [
    "Adding attributes at the time of node creation using keyword arguments:"
   ]
  },
  {
   "cell_type": "code",
   "execution_count": null,
   "metadata": {},
   "outputs": [],
   "source": [
    "G.add_node(\"Michael\", eye_color='brown', height=180)"
   ]
  },
  {
   "cell_type": "markdown",
   "metadata": {
    "slideshow": {
     "slide_type": "fragment"
    }
   },
   "source": [
    "You can also add attributes to an already existing node"
   ]
  },
  {
   "cell_type": "code",
   "execution_count": null,
   "metadata": {},
   "outputs": [],
   "source": [
    "G.add_node(\"Natalie\")\n",
    "\n",
    "# add an attribute \"books\" with value 500 to Natalie\n",
    "G.node[\"Natalie\"][\"books\"] = 500"
   ]
  },
  {
   "cell_type": "markdown",
   "metadata": {
    "slideshow": {
     "slide_type": "fragment"
    }
   },
   "source": [
    "G.node[n] gives a dictionary containing all the attribute:value pairs associated with node n"
   ]
  },
  {
   "cell_type": "code",
   "execution_count": null,
   "metadata": {},
   "outputs": [],
   "source": [
    "print(\"Michael's eyes are \", G.node[\"Michael\"][\"eye_color\"], \" and he is \", G.node['Michael']['height'], \" cm tall.\")\n",
    "print(\"Natalie has \", G.node[\"Natalie\"][\"books\"], \" books.\")"
   ]
  },
  {
   "cell_type": "markdown",
   "metadata": {
    "slideshow": {
     "slide_type": "slide"
    }
   },
   "source": [
    "# Edges\n",
    "\n",
    "An edge between node1 and node2 is represented by a tuple (node1, node2)  \n",
    "They can be added one at a time:"
   ]
  },
  {
   "cell_type": "code",
   "execution_count": null,
   "metadata": {},
   "outputs": [],
   "source": [
    "# add edge between node 0 and node 1\n",
    "G.add_edge(0, 1)"
   ]
  },
  {
   "cell_type": "markdown",
   "metadata": {},
   "source": [
    "Or many at once from a container"
   ]
  },
  {
   "cell_type": "code",
   "execution_count": null,
   "metadata": {},
   "outputs": [],
   "source": [
    "edge_list = [ (2, 1), (\"Michael\", \"Natalie\"), (3, 4) ]\n",
    "G.add_edges_from(edge_list)\n",
    "print(list(G.nodes))\n",
    "print(list(G.edges))"
   ]
  },
  {
   "cell_type": "markdown",
   "metadata": {
    "slideshow": {
     "slide_type": "fragment"
    }
   },
   "source": [
    "**Note:** Nodes will be automatically created if they don't already exist."
   ]
  },
  {
   "cell_type": "markdown",
   "metadata": {
    "slideshow": {
     "slide_type": "slide"
    }
   },
   "source": [
    "# Edge attributes\n",
    "Like nodes, edges can also have arbitrary attributes. An important and special one (for many algorithms) is \"weight\"  \n",
    "\n",
    "The syntax for adding/accessing edge attributes is the similar to that for nodes:"
   ]
  },
  {
   "cell_type": "code",
   "execution_count": null,
   "metadata": {
    "slideshow": {
     "slide_type": "fragment"
    }
   },
   "outputs": [],
   "source": [
    "G.add_edge(\"Michael\", \"Natalie\", weight=10)\n",
    "G[\"Michael\"][\"Natalie\"]"
   ]
  },
  {
   "cell_type": "markdown",
   "metadata": {},
   "source": [
    "`G[node1][node2]` is a dictionary containing all attribute:value pairs associated with the edge from node1 to node2"
   ]
  },
  {
   "cell_type": "code",
   "execution_count": null,
   "metadata": {},
   "outputs": [],
   "source": [
    "G.add_edge(\"Copenhagen\", \"Aarhus\")\n",
    "attrs = {(\"Copenhagen\", \"Aarhus\"): {'distance': 186.7}}\n",
    "nx.set_edge_attributes(G, attrs)\n",
    "\n",
    "print(list(G.edges))\n",
    "print(G[\"Copenhagen\"][\"Aarhus\"]['distance'])\n",
    "print(G.get_edge_data(\"Copenhagen\", \"Aarhus\"))"
   ]
  },
  {
   "cell_type": "markdown",
   "metadata": {
    "slideshow": {
     "slide_type": "slide"
    }
   },
   "source": [
    "# Basic operations"
   ]
  },
  {
   "cell_type": "markdown",
   "metadata": {
    "slideshow": {
     "slide_type": "subslide"
    }
   },
   "source": [
    "### Size of the network"
   ]
  },
  {
   "cell_type": "code",
   "execution_count": null,
   "metadata": {
    "slideshow": {
     "slide_type": "-"
    }
   },
   "outputs": [],
   "source": [
    "# number of nodes\n",
    "print(G.number_of_nodes())\n",
    "\n",
    "# another way\n",
    "print(len(G))\n",
    "\n",
    "# number of edges\n",
    "print(G.number_of_edges())\n",
    "\n",
    "# another way\n",
    "print(G.size())\n",
    "\n",
    "print(\"G has {0} nodes and {1} edges.\".format(len(G), G.size()))"
   ]
  },
  {
   "cell_type": "markdown",
   "metadata": {
    "slideshow": {
     "slide_type": "subslide"
    }
   },
   "source": [
    "### Testing to see whether nodes or edges exist"
   ]
  },
  {
   "cell_type": "code",
   "execution_count": null,
   "metadata": {
    "slideshow": {
     "slide_type": "-"
    }
   },
   "outputs": [],
   "source": [
    "G.has_node(\"Michael\")"
   ]
  },
  {
   "cell_type": "markdown",
   "metadata": {
    "slideshow": {
     "slide_type": "fragment"
    }
   },
   "source": [
    "Another way:"
   ]
  },
  {
   "cell_type": "code",
   "execution_count": null,
   "metadata": {},
   "outputs": [],
   "source": [
    "\"Natalie\" in G"
   ]
  },
  {
   "cell_type": "markdown",
   "metadata": {
    "slideshow": {
     "slide_type": "fragment"
    }
   },
   "source": [
    "For edges, you must use `has_edge()` (no syntax like `edge in G`)"
   ]
  },
  {
   "cell_type": "code",
   "execution_count": null,
   "metadata": {
    "slideshow": {
     "slide_type": "-"
    }
   },
   "outputs": [],
   "source": [
    "print(G.has_edge(3, 4))\n",
    "print(G.has_edge(\"Michael\", 0))"
   ]
  },
  {
   "cell_type": "markdown",
   "metadata": {
    "slideshow": {
     "slide_type": "subslide"
    }
   },
   "source": [
    "### Finding neighbors of a node"
   ]
  },
  {
   "cell_type": "code",
   "execution_count": null,
   "metadata": {
    "slideshow": {
     "slide_type": "-"
    }
   },
   "outputs": [],
   "source": [
    "list(G.neighbors(1))"
   ]
  },
  {
   "cell_type": "markdown",
   "metadata": {
    "slideshow": {
     "slide_type": "fragment"
    }
   },
   "source": [
    "* In `DiGraph` objects, `G.neighbors(node)` gives the successors of `node`, as does `G.successors(node)`  \n",
    "* Predecessors of `node` can be obtained with `G.predecessors(node)`"
   ]
  },
  {
   "cell_type": "markdown",
   "metadata": {
    "slideshow": {
     "slide_type": "subslide"
    }
   },
   "source": [
    "### Iterating over nodes and edges\n",
    "Nodes and edges can be iterated over with `G.nodes()` and `G.edges()` respectively  "
   ]
  },
  {
   "cell_type": "code",
   "execution_count": null,
   "metadata": {
    "slideshow": {
     "slide_type": "fragment"
    }
   },
   "outputs": [],
   "source": [
    "for node, data in list(G.nodes(data=True)): # data=True includes node attributes as dictionaries\n",
    "    print(\"Node {0}\\t\\t\\t: {1}\".format(node, data))"
   ]
  },
  {
   "cell_type": "code",
   "execution_count": null,
   "metadata": {
    "slideshow": {
     "slide_type": "fragment"
    }
   },
   "outputs": [],
   "source": [
    "for n1, n2, data in list(G.edges(data=True)):\n",
    "    print(\"{0} <----> {1}: {2}\".format(n1, n2, data))"
   ]
  },
  {
   "cell_type": "markdown",
   "metadata": {
    "slideshow": {
     "slide_type": "subslide"
    }
   },
   "source": [
    "### Calculating degrees"
   ]
  },
  {
   "cell_type": "code",
   "execution_count": null,
   "metadata": {},
   "outputs": [],
   "source": [
    "# one node\n",
    "print(G.degree(\"Michael\")) # returns an integer\n",
    "\n",
    "# all nodes (returns a dictionary with node : degree pairs for all nodes)\n",
    "print(G.degree())\n",
    "\n",
    "# just the degree sequence\n",
    "degree_sequence = [d for _, d in G.degree()]\n",
    "print(degree_sequence)"
   ]
  },
  {
   "cell_type": "markdown",
   "metadata": {
    "slideshow": {
     "slide_type": "fragment"
    }
   },
   "source": [
    "As you know, in directed graphs (of class `DiGraph`) there are two types of degree. Things work just as you expect\n",
    "* `G.in_degree(node) `\n",
    "* `G.out_degree(node) # same as G.degree()`\n"
   ]
  },
  {
   "cell_type": "markdown",
   "metadata": {
    "slideshow": {
     "slide_type": "slide"
    }
   },
   "source": [
    "# Other operations"
   ]
  },
  {
   "cell_type": "markdown",
   "metadata": {
    "slideshow": {
     "slide_type": "fragment"
    }
   },
   "source": [
    "* ***`subgraph(G, nbunch)` or `G.subgraph(nbunch)`***       \n",
    "subgraph of G induced by nodes in nbunch    \n",
    "\n",
    "* ***`reverse(G)`***       \n",
    "DiGraph with edges reversed \n",
    "\n",
    "* ***`union(G1, G2)`***      \n",
    "graph union    \n",
    "\n",
    "* ***`disjoint_union(G1, G2)`***     \n",
    "same, but treats nodes of G1, G2 as different \n",
    "\n",
    "* ***`intersection(G1, G2)`***      \n",
    "graph with only the edges in common between G1, G2\n",
    "\n",
    "* ***`difference(G1, G2)`***      \n",
    "graph with only the edges G1 that aren't in G2\n",
    "\n",
    "* ***`copy(G)` or `G.copy()`***     \n",
    "copy of G\n",
    "\n",
    "* ***`complement(G)` or `G.complement()`***     \n",
    "the complement graph of G \n",
    "\n",
    "* ***`convert_to_undirected(G)` or `G.to_undirected()`***     \n",
    "undirected version of G (a Graph or MultiGraph)  \n",
    "\n",
    "* ***`convert_to_directed(G)` or `G.to_directed()`***      \n",
    "directed version of G (a DiGraph of MultiDiGraph)\n",
    "\n",
    "* ***`adjacency_matrix(G)`***      \n",
    "adjacency matrix A of G (in sparse matrix format; to get full matrix, use A.toarray() )"
   ]
  },
  {
   "cell_type": "markdown",
   "metadata": {
    "slideshow": {
     "slide_type": "slide"
    }
   },
   "source": [
    "# Graph I/O\n",
    "\n",
    "Usually you will not be building a network from scratch one node/link at a time. Instead, you will\n",
    "want to read it in from an appropriate data file. NetworkX can understand the following common graph\n",
    "formats:"
   ]
  },
  {
   "cell_type": "markdown",
   "metadata": {},
   "source": [
    "* edge lists\n",
    "* adjacency lists\n",
    "* GML\n",
    "* GEXF\n",
    "* Python 'pickle'\n",
    "* GraphML\n",
    "* Pajek\n",
    "* LEDA\n",
    "* YAML"
   ]
  },
  {
   "cell_type": "markdown",
   "metadata": {
    "slideshow": {
     "slide_type": "fragment"
    }
   },
   "source": [
    "# Getting started: reading in an edge list\n",
    "\n",
    "Read in the file `test.txt` with the following options\n",
    "* lines starting with `#` are treated as comments and ignored  \n",
    "* use a `Graph` object to hold the data (i.e., network is undirected)  \n",
    "* data are separated by whitespace (' ')\n",
    "* nodes should be treated as integers (`int`)\n",
    "* encoding of the text file containing the edge list is utf-8"
   ]
  },
  {
   "cell_type": "code",
   "execution_count": null,
   "metadata": {
    "slideshow": {
     "slide_type": "-"
    }
   },
   "outputs": [],
   "source": [
    "# read in an edge list from the file 'test.txt'\n",
    "G = nx.read_edgelist('files/test.txt', comments='#',\n",
    "                     create_using=nx.Graph(), \n",
    "                     delimiter=' ', \n",
    "                     nodetype=int, \n",
    "                     encoding='utf-8')"
   ]
  },
  {
   "cell_type": "markdown",
   "metadata": {
    "slideshow": {
     "slide_type": "fragment"
    }
   },
   "source": [
    "### Allowed formats\n",
    "* Node pairs with no data  \n",
    "`1 2`\n",
    "* Node pairs with python dictionary  \n",
    "`1 2 {weight:7, color:\"green\"}`"
   ]
  },
  {
   "cell_type": "markdown",
   "metadata": {
    "slideshow": {
     "slide_type": "slide"
    }
   },
   "source": [
    "# Basic analysis\n",
    "A large number of basic analyses can be done in one line using NetworkX + numpy or builtin python functions like `min`, `max`, etc."
   ]
  },
  {
   "cell_type": "code",
   "execution_count": null,
   "metadata": {
    "slideshow": {
     "slide_type": "-"
    }
   },
   "outputs": [],
   "source": [
    "N = len(G)\n",
    "L = G.size()\n",
    "degrees = [d for _, d in G.degree()]\n",
    "kmin = min(degrees)\n",
    "kmax = max(degrees)"
   ]
  },
  {
   "cell_type": "code",
   "execution_count": null,
   "metadata": {
    "slideshow": {
     "slide_type": "fragment"
    }
   },
   "outputs": [],
   "source": [
    "print(\"Number of nodes: \", N)\n",
    "print(\"Number of edges: \", L)\n",
    "print()\n",
    "print(\"Average degree: \", 2*L/N)\n",
    "print(\"Average degree (alternate calculation)\", np.mean(degrees))\n",
    "print()\n",
    "print(\"Minimum degree: \", kmin)\n",
    "print(\"Maximum degree: \", kmax)"
   ]
  },
  {
   "cell_type": "markdown",
   "metadata": {
    "slideshow": {
     "slide_type": "slide"
    }
   },
   "source": [
    "# Drawing the network\n",
    "* NetworkX can draw networks using a large number of layout algorithms  \n",
    "* The results are not as pretty as Gephi, but NetworkX is better for a quick 'n dirty visualization and\n",
    "gives you finer-grained control over the layout."
   ]
  },
  {
   "cell_type": "code",
   "execution_count": null,
   "metadata": {
    "slideshow": {
     "slide_type": "subslide"
    }
   },
   "outputs": [],
   "source": [
    "# using the force-based or \"spring\" layout algorithm\n",
    "fig = plt.figure(figsize=(8,8))\n",
    "nx.draw_spring(G, node_size=30)"
   ]
  },
  {
   "cell_type": "code",
   "execution_count": null,
   "metadata": {
    "slideshow": {
     "slide_type": "subslide"
    }
   },
   "outputs": [],
   "source": [
    "# using the fcircular layout algorithm\n",
    "fig = plt.figure(figsize=(8,8))\n",
    "nx.draw_circular(G, node_size=30)"
   ]
  },
  {
   "cell_type": "markdown",
   "metadata": {
    "slideshow": {
     "slide_type": "slide"
    }
   },
   "source": [
    "# Plotting the degree distribution"
   ]
  },
  {
   "cell_type": "markdown",
   "metadata": {
    "slideshow": {
     "slide_type": "fragment"
    }
   },
   "source": [
    "Let's plot it in log scale first with log-binning, using `np.logspace` and `np.histogram`:"
   ]
  },
  {
   "cell_type": "code",
   "execution_count": null,
   "metadata": {},
   "outputs": [],
   "source": [
    "fig = plt.figure(figsize=(4, 3))\n",
    "axes = fig.add_axes([0, 0, 1, 1])\n",
    "\n",
    "logbins = np.logspace(np.log10(kmin), np.log10(kmax), num=10)\n",
    "h, binedges = np.histogram(degrees,  bins=logbins, density=True) # We use np.histogram to make the binning calculations. Plotting is done with axes.plot below.\n",
    "binmidpoints = (binedges[1:] + binedges[:-1]) / 2\n",
    "\n",
    "axes.plot(binmidpoints, h, \"o\")\n",
    "axes.set_xlabel(\"Degree k\")\n",
    "axes.set_ylabel(\"P(x)\")\n",
    "axes.set_xscale('log') \n",
    "axes.set_yscale('log') "
   ]
  },
  {
   "cell_type": "markdown",
   "metadata": {
    "slideshow": {
     "slide_type": "fragment"
    }
   },
   "source": [
    "This is clearly not a network with anything like a heavy-tailed degree distribution.\n",
    "So let's plot it in linear scale without any binning:"
   ]
  },
  {
   "cell_type": "code",
   "execution_count": null,
   "metadata": {},
   "outputs": [],
   "source": [
    "fig = plt.figure(figsize=(4, 3))\n",
    "axes = fig.add_axes([0, 0, 1, 1])\n",
    "\n",
    "# See: https://networkx.github.io/documentation/stable/auto_examples/drawing/plot_degree_histogram.html\n",
    "from collections import Counter\n",
    "degree_sequence = [d for _, d in G.degree()]  # degree sequence\n",
    "degreeCount = Counter(degree_sequence)\n",
    "print(degreeCount) # print for teaching\n",
    "\n",
    "# Normalize\n",
    "total = sum(degreeCount.values())\n",
    "for key in degreeCount:\n",
    "    degreeCount[key] /= total\n",
    "print(degreeCount.items()) # print for teaching\n",
    "    \n",
    "deg, prob = zip(*degreeCount.items()) # unpacks the first tuple elements into deg, unpacks the second tuple elements into prob\n",
    "\n",
    "\n",
    "axes.plot(deg, prob, \"o\")\n",
    "axes.set_xlabel(\"Degree k\")\n",
    "axes.set_ylabel(\"P(k)\");"
   ]
  },
  {
   "cell_type": "markdown",
   "metadata": {},
   "source": [
    "# Network visualization with Netwulf\n",
    "\n",
    "It's a very new package (right now version v0.1.4) developed by Ben Maier and Ulf Aslak, so use with caution: https://pypi.org/project/netwulf/\n",
    "\n",
    "That being said, many people are already using it because of its easy controls and Jupyter notebook integration.\n",
    "Install: `pip install netwulf`"
   ]
  },
  {
   "cell_type": "code",
   "execution_count": null,
   "metadata": {},
   "outputs": [],
   "source": [
    "import netwulf as wulf\n",
    "\n",
    "G = nx.barabasi_albert_graph(100,m=1)\n",
    "stylized_network, config = wulf.visualize(G)"
   ]
  }
 ],
 "metadata": {
  "celltoolbar": "Slideshow",
  "kernelspec": {
   "display_name": "Python 3",
   "language": "python",
   "name": "python3"
  },
  "language_info": {
   "codemirror_mode": {
    "name": "ipython",
    "version": 3
   },
   "file_extension": ".py",
   "mimetype": "text/x-python",
   "name": "python",
   "nbconvert_exporter": "python",
   "pygments_lexer": "ipython3",
   "version": "3.7.4"
  }
 },
 "nbformat": 4,
 "nbformat_minor": 1
}
