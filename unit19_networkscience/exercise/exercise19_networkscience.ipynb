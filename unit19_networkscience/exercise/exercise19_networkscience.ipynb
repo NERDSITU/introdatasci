{
 "cells": [
  {
   "cell_type": "markdown",
   "metadata": {},
   "source": [
    "<div class=\"frontmatter text-center\">\n",
    "<h1> Introduction to Data Science and Programming</h1>\n",
    "<h2>Exercise 19: Introduction to network science</h2>\n",
    "<h3>IT University of Copenhagen, Fall 2023</h3>\n",
    "</div>"
   ]
  },
  {
   "cell_type": "markdown",
   "metadata": {},
   "source": [
    "Using the networkx `Graph` class and assocated methods developed in the class, solve the following exercise questions."
   ]
  },
  {
   "cell_type": "code",
   "execution_count": null,
   "metadata": {},
   "outputs": [],
   "source": [
    "import networkx as nx\n",
    "import matplotlib.pyplot as plt\n",
    "import random\n",
    "import numpy as np"
   ]
  },
  {
   "cell_type": "markdown",
   "metadata": {},
   "source": [
    "### 19.1\n",
    "Inspect the the \"Zachary Karate Club\" dataset from `karate.txt` file (in the `files` folder). What type of dataset is it?"
   ]
  },
  {
   "cell_type": "code",
   "execution_count": null,
   "metadata": {},
   "outputs": [],
   "source": [
    "!head files\\karate.txt\n",
    "#If this throws an error, try using !type instead of !head (although !type prints the whole file).\n",
    "#You might also have to switch out the \\ for a /."
   ]
  },
  {
   "cell_type": "markdown",
   "metadata": {},
   "source": [
    "### 19.2\n",
    "- Make a function to load a file and return a `Graph` object, **without using `nx.from_edgelist()`**. Make node names `integers` and not `strings`.\n",
    "- Load `karate.txt` into a `Graph` `G1`.\n",
    "Hint: `G.add_edge(v1, v2)` adds the nodes `v1` and `v2` to the graph if they do not already exist."
   ]
  },
  {
   "cell_type": "code",
   "execution_count": null,
   "metadata": {},
   "outputs": [],
   "source": [
    "def from_edgelist(filepath):\n",
    "    #Your function here\n",
    "    return G\n",
    "G1 = from_edgelist(\"files/karate.txt\") #You might have to switch out / for \\."
   ]
  },
  {
   "cell_type": "markdown",
   "metadata": {},
   "source": [
    "The following line should return `True` if your code is correct:"
   ]
  },
  {
   "cell_type": "code",
   "execution_count": null,
   "metadata": {},
   "outputs": [],
   "source": [
    "sorted(G1.nodes()) == list(range(34))"
   ]
  },
  {
   "cell_type": "markdown",
   "metadata": {},
   "source": [
    "### 19.3\n",
    "Similarly, load the following five different graphs and store them as separate graphs; `G3`, `G_AB`, `G_D1`, `G_D2` and `G_ER`.\n",
    "\n",
    "``` [\"graph3.txt\", \"graphAB.txt\", \"graphDense1.txt\", \"graphDense2.txt\", \"graphER.txt\"]```\n",
    "\n",
    "(You may use a one-line list comprehension for this, if you like)"
   ]
  },
  {
   "cell_type": "code",
   "execution_count": null,
   "metadata": {},
   "outputs": [],
   "source": [
    "#Your code here"
   ]
  },
  {
   "cell_type": "markdown",
   "metadata": {},
   "source": [
    "### 19.4\n",
    "Calculate the following for each of the 5 graphs :\n",
    "- Number of nodes \n",
    "- Number of edges\n",
    "- Average degree (rounded to 2 decimals)\n",
    "- Diameter (longest shortest path)\n",
    "\n",
    "Then plot the following for each of the 5 graphs:\n",
    "- Degree distribution\n",
    "- Shortest path distribution\n",
    "\n",
    "Note: To ease your workload, make it into a function, as you will use it again in **19.5**.\n",
    "\n",
    "*Hints: `nx.diameter`, `nx.shortest_path_length`, `nx.has_path`*"
   ]
  },
  {
   "cell_type": "code",
   "execution_count": null,
   "metadata": {},
   "outputs": [],
   "source": [
    "#Your code here"
   ]
  },
  {
   "cell_type": "markdown",
   "metadata": {},
   "source": [
    "### 19.5\n",
    "- Delete 5 edges randomly, from each of the 5 above graphs and recalculate the metrics from **19.4**.\n",
    "- Do you see any major changes in any of the plots?\n",
    "- What changes do you imagine are made when removing edges in a graph? What are the consequences of this?\n",
    "\n",
    "Note that deleting edges might make your Graph disconnected (in which case a path will not exist between all pairs of nodes and thus it will not have a diameter. As a bonus exercise, you may see if you can fix this. You may use try-except statements in this part.)\n",
    "\n",
    "Hint: `random.sample`"
   ]
  },
  {
   "cell_type": "code",
   "execution_count": null,
   "metadata": {},
   "outputs": [],
   "source": [
    "random.seed(42)\n",
    "#Your code here"
   ]
  },
  {
   "cell_type": "markdown",
   "metadata": {},
   "source": [
    "### 19.6a\n",
    "- Create a function that, given a graph, returns the number of \"triangles\" (cliques of size 3) in the graph. **Do not use the triangles method from networkx**.\n",
    "- For each of the 5 original graphs (before deletion of edges), identify the number of triangles from the Graphs."
   ]
  },
  {
   "cell_type": "code",
   "execution_count": null,
   "metadata": {},
   "outputs": [],
   "source": [
    "#Your code here"
   ]
  },
  {
   "cell_type": "markdown",
   "metadata": {},
   "source": [
    "### 19.6b\n",
    "For testing, compare your output with that of the `nx.triangles` method.\n",
    "- Note: Divide the output by 3 because each triangle is counted thrice - once for each node in it.\n",
    "\n",
    "An example code and output is given for your convenience. Feel free to use it (or write your own using `nx.triangles`):\n",
    "```graphs = [G3, G_AB, G_D1, G_D2, G_ER]\n",
    "[sum(nx.triangles(graph).values())//3 for graph in graphs]```\n",
    "\n",
    "Output: `[0, 88, 19, 13, 5984]`"
   ]
  },
  {
   "cell_type": "code",
   "execution_count": null,
   "metadata": {},
   "outputs": [],
   "source": [
    "#Your test code here"
   ]
  },
  {
   "cell_type": "markdown",
   "metadata": {},
   "source": [
    "# Bonus Questions"
   ]
  },
  {
   "cell_type": "markdown",
   "metadata": {},
   "source": [
    "### 19.B1 (Advanced)\n",
    "Create a function to calculate the diameter of a graph.\n",
    "- The function should return -1 if the graph is disconnected.\n",
    "- Do not use the `nx.diameter`.\n",
    "- For an extra challenge, use as few of the following as possible:\n",
    " - `nx.shortest_path` (or `nx.shortest_path_length` etc.)\n",
    " - `nx.connected_components` (or variants hereof)\n",
    " - other methods that might make this seem too easy *(can you do it with just the basic Graph object and iteration/recursion?)*"
   ]
  },
  {
   "cell_type": "code",
   "execution_count": null,
   "metadata": {},
   "outputs": [],
   "source": [
    "#Your code here"
   ]
  }
 ],
 "metadata": {
  "kernelspec": {
   "display_name": "Python 3 (ipykernel)",
   "language": "python",
   "name": "python3"
  },
  "language_info": {
   "codemirror_mode": {
    "name": "ipython",
    "version": 3
   },
   "file_extension": ".py",
   "mimetype": "text/x-python",
   "name": "python",
   "nbconvert_exporter": "python",
   "pygments_lexer": "ipython3",
   "version": "3.9.7"
  }
 },
 "nbformat": 4,
 "nbformat_minor": 2
}
