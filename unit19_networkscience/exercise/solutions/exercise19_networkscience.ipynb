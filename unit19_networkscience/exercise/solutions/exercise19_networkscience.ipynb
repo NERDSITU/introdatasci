{
 "cells": [
  {
   "cell_type": "markdown",
   "metadata": {},
   "source": [
    "<div class=\"frontmatter text-center\">\n",
    "<h1> Introduction to Data Science and Programming</h1>\n",
    "<h2>Exercise 19: Introduction to network science</h2>\n",
    "<h3>IT University of Copenhagen, Fall 2023</h3>\n",
    "</div>"
   ]
  },
  {
   "cell_type": "markdown",
   "metadata": {},
   "source": [
    "Using the networkx `Graph` class and assocated methods developed in the class, solve the following exercise questions."
   ]
  },
  {
   "cell_type": "code",
   "execution_count": null,
   "metadata": {},
   "outputs": [],
   "source": [
    "import networkx as nx\n",
    "import matplotlib.pyplot as plt\n",
    "import random\n",
    "import numpy as np"
   ]
  },
  {
   "cell_type": "markdown",
   "metadata": {},
   "source": [
    "### 19.1\n",
    "Inspect the the \"Zachary Karate Club\" dataset from `karate.txt` file (in the `files` folder). What type of dataset is it?"
   ]
  },
  {
   "cell_type": "code",
   "execution_count": null,
   "metadata": {},
   "outputs": [],
   "source": [
    "!head files\\karate.txt\n",
    "#If this throws an error, try using !type instead of !head (although !type prints the whole file).\n",
    "#You might also have to switch out the \\ for a /."
   ]
  },
  {
   "cell_type": "markdown",
   "metadata": {},
   "source": [
    "### 19.2\n",
    "- Make a function to load a file and return a `Graph` object, **without using `nx.from_edgelist()`**. Make node names `integers` and not `strings`.\n",
    "- Load `karate.txt` into a `Graph` `G1`.\n",
    "Hint: `G.add_edge(v1, v2)` adds the nodes `v1` and `v2` to the graph if they do not already exist."
   ]
  },
  {
   "cell_type": "code",
   "execution_count": null,
   "metadata": {},
   "outputs": [],
   "source": [
    "def from_edgelist(filepath):\n",
    "    G = nx.Graph()\n",
    "    with open(filepath) as infile:\n",
    "        for line in infile:\n",
    "            v1, v2 = line.strip().split(\" \")\n",
    "            v1 = int(v1)\n",
    "            v2 = int(v2)\n",
    "            G.add_edge(v1, v2)\n",
    "    return G\n",
    "G1 = from_edgelist(\"files/karate.txt\")"
   ]
  },
  {
   "cell_type": "markdown",
   "metadata": {},
   "source": [
    "The following line should return `True` if your code is correct:"
   ]
  },
  {
   "cell_type": "code",
   "execution_count": null,
   "metadata": {},
   "outputs": [],
   "source": [
    "sorted(G1.nodes()) == list(range(34))"
   ]
  },
  {
   "cell_type": "markdown",
   "metadata": {},
   "source": [
    "### 19.3\n",
    "Similarly, load the following five different graphs and store them as separate graphs; `G3`, `G_AB`, `G_D1`, `G_D2` and `G_ER`.\n",
    "\n",
    "``` [\"graph3.txt\", \"graphAB.txt\", \"graphDense1.txt\", \"graphDense2.txt\", \"graphER.txt\"]```\n",
    "\n",
    "(You may use a one-line list comprehension for this, if you like)"
   ]
  },
  {
   "cell_type": "code",
   "execution_count": null,
   "metadata": {},
   "outputs": [],
   "source": [
    "G3, G_AB, G_D1, G_D2, G_ER = (from_edgelist(\"files/\"+filename) for filename in [\"graph3.txt\", \"graphAB.txt\", \"graphDense1.txt\", \"graphDense2.txt\", \"graphER.txt\"])"
   ]
  },
  {
   "cell_type": "markdown",
   "metadata": {},
   "source": [
    "### 19.4\n",
    "Calculate the following for each of the 5 graphs :\n",
    "- Number of nodes \n",
    "- Number of edges\n",
    "- Average degree (rounded to 2 decimals)\n",
    "- Diameter (longest shortest path)\n",
    "\n",
    "Then plot the following for each of the 5 graphs:\n",
    "- Degree distribution\n",
    "- Shortest path distribution\n",
    "\n",
    "Note: To ease your workload, make it into a function, as you will use it again in **19.5**.\n",
    "\n",
    "*Hints: `nx.diameter`, `nx.shortest_path_length`, `nx.has_path`*"
   ]
  },
  {
   "cell_type": "code",
   "execution_count": null,
   "metadata": {},
   "outputs": [],
   "source": [
    "def graph_properties(graph_names, graphs):\n",
    "    print(\"Graph\\t#Nodes\\t#Edges\\tAvg.Deg.\\tDiameter\")\n",
    "    for name, graph in zip(graph_names, graphs):\n",
    "        degree = [graph.degree(n) for n in graph.nodes()]\n",
    "        try:\n",
    "            diam = nx.diameter(graph)\n",
    "        except:\n",
    "            diam = \"Infinite\"\n",
    "        print(\n",
    "            name,\n",
    "            len(graph.nodes()),\n",
    "            len(graph.edges()),\n",
    "            round(sum(degree)/len(degree), 2),\n",
    "            \"\",\n",
    "            diam,\n",
    "            sep=\"\\t\")\n",
    "\n",
    "    fig, ax = plt.subplots(2, len(graphs), figsize=(len(graphs)*4,2*3))\n",
    "    for graph_num, (graph_name, graph) in enumerate(zip(graph_names, graphs)):\n",
    "        degrees = [graph.degree(n) for n in graph.nodes()]\n",
    "        ax[0, graph_num].hist(degrees, density=True, bins=np.arange(max(degrees)+2)-0.5)\n",
    "        ax[0, graph_num].set_title(graph_name+\" - Deg. Dist.\")\n",
    "        shortest_paths = [nx.shortest_path_length(graph, v1, v2) if nx.has_path(graph, v1, v2) else -1 for v1 in graph.nodes() for v2 in graph.nodes()]\n",
    "        ax[1, graph_num].hist(shortest_paths, density=True, bins=np.arange(max(shortest_paths)+2)-0.5)\n",
    "        ax[1, graph_num].set_xticks(range(max(shortest_paths)+1))\n",
    "        ax[1, graph_num].set_title(graph_name+\" - Shortest Path Dist.\")\n",
    "        \n",
    "\n",
    "graph_names = [\"G3\", \"G_AB\", \"G_D1\", \"G_D2\", \"G_ER\"]\n",
    "graphs = [G3, G_AB, G_D1, G_D2, G_ER]\n",
    "graph_properties(graph_names, graphs)"
   ]
  },
  {
   "cell_type": "markdown",
   "metadata": {},
   "source": [
    "### 19.5\n",
    "- Delete 5 edges randomly, from each of the 5 above graphs and recalculate the metrics from **19.4**.\n",
    "- Do you see any major changes in any of the plots?\n",
    "- What changes do you imagine are made when removing edges in a graph? What are the consequences of this?\n",
    "\n",
    "Note that deleting edges might make your Graph disconnected (in which case a path will not exist between all pairs of nodes and thus it will not have a diameter. As a bonus exercise, you may see if you can fix this. You may use try-except statements in this part.)\n",
    "\n",
    "Hint: `random.sample`"
   ]
  },
  {
   "cell_type": "code",
   "execution_count": null,
   "metadata": {},
   "outputs": [],
   "source": [
    "def del_n_edges(G, n):\n",
    "    G2 = G.copy()\n",
    "    to_remove=random.sample(G2.edges(),k=n)\n",
    "    G2.remove_edges_from(to_remove)\n",
    "    return G2\n",
    "\n",
    "random.seed(42)\n",
    "graph_names_b = [graph_name+\"_b\" for graph_name in graph_names]\n",
    "graphs_b = [del_n_edges(graph, 5) for graph in graphs]\n",
    "\n",
    "graph_properties(graph_names_b, graphs_b)"
   ]
  },
  {
   "cell_type": "markdown",
   "metadata": {},
   "source": [
    "### 19.6a\n",
    "- Create a function that, given a graph, returns the number of \"triangles\" (cliques of size 3) in the graph. **Do not use the triangles method from networkx**.\n",
    "- For each of the 5 original graphs (before deletion of edges), identify the number of triangles from the Graphs."
   ]
  },
  {
   "cell_type": "code",
   "execution_count": null,
   "metadata": {},
   "outputs": [],
   "source": [
    "def triangles(G):\n",
    "    num_triangles = 0\n",
    "    for node in G.nodes():\n",
    "        for i, neighbor1 in enumerate(list(G.neighbors(node))):\n",
    "            for neighbor2 in list(G.neighbors(node))[i+1:]:\n",
    "                if neighbor2 in G.neighbors(neighbor1):\n",
    "                    num_triangles += 1\n",
    "    return num_triangles//3\n",
    "\n",
    "[triangles(graph) for graph in graphs]"
   ]
  },
  {
   "cell_type": "markdown",
   "metadata": {},
   "source": [
    "### 19.6b\n",
    "For testing, compare your output with that of the `nx.triangles` method.\n",
    "- Note: Divide the output by 3 because each triangle is counted thrice - once for each node in it.\n",
    "\n",
    "An example code and output is given for your convenience. Feel free to use it (or write your own using `nx.triangles`):\n",
    "```graphs = [G3, G_AB, G_D1, G_D2, G_ER]\n",
    "[sum(nx.triangles(graph).values())//3 for graph in graphs]```\n",
    "\n",
    "Output: `[0, 88, 19, 13, 5984]`"
   ]
  },
  {
   "cell_type": "markdown",
   "metadata": {},
   "source": [
    "# Bonus Questions"
   ]
  },
  {
   "cell_type": "markdown",
   "metadata": {},
   "source": [
    "### 19.B1 (Advanced)\n",
    "Create a function to calculate the diameter of a graph.\n",
    "- The function should return -1 if the graph is disconnected.\n",
    "- Do not use the `nx.diameter`.\n",
    "- For an extra challenge, use as few of the following as possible:\n",
    " - `nx.shortest_path` (or `nx.shortest_path_length` etc.)\n",
    " - `nx.connected_components` (or variants hereof)\n",
    " - other methods that might make this seem too easy *(can you do it with just the basic Graph object and iteration/recursion?)*"
   ]
  }
 ],
 "metadata": {
  "kernelspec": {
   "display_name": "Python 3 (ipykernel)",
   "language": "python",
   "name": "python3"
  },
  "language_info": {
   "codemirror_mode": {
    "name": "ipython",
    "version": 3
   },
   "file_extension": ".py",
   "mimetype": "text/x-python",
   "name": "python",
   "nbconvert_exporter": "python",
   "pygments_lexer": "ipython3",
   "version": "3.9.7"
  }
 },
 "nbformat": 4,
 "nbformat_minor": 2
}
