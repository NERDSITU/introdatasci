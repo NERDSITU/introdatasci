{
 "cells": [
  {
   "cell_type": "markdown",
   "metadata": {},
   "source": [
    "<div class=\"frontmatter text-center\">\n",
    "<h1> Introduction to Data Science and Programming</h1>\n",
    "<h2>Class 24: Network models</h2>\n",
    "<h3>IT University of Copenhagen, Fall 2019</h3>\n",
    "<h3>Instructor: Michael Szell</h3>\n",
    "</div>"
   ]
  },
  {
   "cell_type": "markdown",
   "metadata": {},
   "source": [
    "# Source\n",
    "This notebook was adapted from:\n",
    "* Bruno Gonçalves / Data4Sci: https://github.com/DataForScience/Networks\n",
    "* James Bagrow: http://bagrow.com/dsv/"
   ]
  },
  {
   "cell_type": "code",
   "execution_count": null,
   "metadata": {},
   "outputs": [],
   "source": [
    "from pprint import pprint\n",
    "\n",
    "import numpy as np\n",
    "import matplotlib.pyplot as plt "
   ]
  },
  {
   "cell_type": "markdown",
   "metadata": {},
   "source": [
    "We import the previous Graph Class"
   ]
  },
  {
   "cell_type": "code",
   "execution_count": null,
   "metadata": {},
   "outputs": [],
   "source": [
    "from Graph import *"
   ]
  },
  {
   "cell_type": "code",
   "execution_count": null,
   "metadata": {},
   "outputs": [],
   "source": [
    "G = Graph()"
   ]
  },
  {
   "cell_type": "code",
   "execution_count": null,
   "metadata": {},
   "outputs": [],
   "source": [
    "dir(G)"
   ]
  },
  {
   "cell_type": "markdown",
   "metadata": {},
   "source": [
    "## Erdős-Rényi "
   ]
  },
  {
   "cell_type": "markdown",
   "metadata": {},
   "source": [
    "Network models are algorithms to generate synthetic network topologies. We start with Erdős-Rényi model where each pair of nodes is added with a fixed probability"
   ]
  },
  {
   "cell_type": "code",
   "execution_count": null,
   "metadata": {},
   "outputs": [],
   "source": [
    "@add_method(Graph)\n",
    "def erdos_renyi_graph(N, p):\n",
    "    nodes = list(range(N))\n",
    "    edges = []\n",
    "    \n",
    "    for i in range(N):\n",
    "        for j in range(i+1, N):\n",
    "            if np.random.random() < p:\n",
    "                edges.append((i, j))\n",
    "    \n",
    "    G = Graph()\n",
    "    G.add_nodes_from(nodes)\n",
    "    G.add_edges_from(edges)\n",
    "\n",
    "    return G"
   ]
  },
  {
   "cell_type": "markdown",
   "metadata": {},
   "source": [
    "Let's generate a relatively small ER graph"
   ]
  },
  {
   "cell_type": "code",
   "execution_count": null,
   "metadata": {},
   "outputs": [],
   "source": [
    "ER = Graph.erdos_renyi_graph(10000, 0.01)"
   ]
  },
  {
   "cell_type": "markdown",
   "metadata": {},
   "source": [
    "With these parameters, we expect the average degree to be $\\langle k\\rangle=Np=100$ and the distribution to be approximately Gaussian. We start by generating the degre distribution"
   ]
  },
  {
   "cell_type": "code",
   "execution_count": null,
   "metadata": {},
   "outputs": [],
   "source": [
    "Pk = ER.degree_distribution()"
   ]
  },
  {
   "cell_type": "markdown",
   "metadata": {},
   "source": [
    "And make a quick plot to verify it's shape"
   ]
  },
  {
   "cell_type": "code",
   "execution_count": null,
   "metadata": {},
   "outputs": [],
   "source": [
    "fig = plt.figure(figsize=(4, 3))\n",
    "axes = fig.add_axes([0, 0, 1, 1])\n",
    "\n",
    "axes.plot(Pk.T[0], Pk.T[1])\n",
    "axes.set_title('ER network degree distribution')\n",
    "axes.set_xlabel('k')\n",
    "axes.set_ylabel('P(k)');"
   ]
  },
  {
   "cell_type": "markdown",
   "metadata": {},
   "source": [
    "Finally, the average degree is:\n",
    "\n",
    "$$\\langle k \\rangle=\\sum_k k P(k)$$"
   ]
  },
  {
   "cell_type": "code",
   "execution_count": null,
   "metadata": {},
   "outputs": [],
   "source": [
    "kavg = np.dot(Pk.T[0], Pk.T[1])\n",
    "print(kavg)"
   ]
  },
  {
   "cell_type": "markdown",
   "metadata": {},
   "source": [
    "## Regular Ring"
   ]
  },
  {
   "cell_type": "markdown",
   "metadata": {},
   "source": [
    "We now proceed to defining a regular ring graph where each node is connected with K/2 neighbors on the left and K/2 neighbours on the right. This will be a stepping stone towards the full fledged Watts-Strogats model."
   ]
  },
  {
   "cell_type": "code",
   "execution_count": null,
   "metadata": {},
   "outputs": [],
   "source": [
    "@add_method(Graph)\n",
    "def ring_graph(N, K):\n",
    "    nodes = np.arange(N)\n",
    "    edges = []\n",
    "    \n",
    "    K = K//2\n",
    "    \n",
    "    for i in range(N):\n",
    "        for j in range(i+1, i+K+1):\n",
    "            edges.append((i, j%N))\n",
    "        \n",
    "    G = Graph()\n",
    "    G.add_nodes_from(nodes)\n",
    "    G.add_edges_from(edges)\n",
    "    \n",
    "    return G"
   ]
  },
  {
   "cell_type": "markdown",
   "metadata": {},
   "source": [
    "To generate a small regular ring we do:"
   ]
  },
  {
   "cell_type": "code",
   "execution_count": null,
   "metadata": {},
   "outputs": [],
   "source": [
    "RG = Graph.ring_graph(100, 4)"
   ]
  },
  {
   "cell_type": "markdown",
   "metadata": {},
   "source": [
    "The degree distribution is simple: All nodes have degree 4"
   ]
  },
  {
   "cell_type": "code",
   "execution_count": null,
   "metadata": {},
   "outputs": [],
   "source": [
    "Pk = RG.degree_distribution()"
   ]
  },
  {
   "cell_type": "code",
   "execution_count": null,
   "metadata": {},
   "outputs": [],
   "source": [
    "Pk"
   ]
  },
  {
   "cell_type": "markdown",
   "metadata": {},
   "source": [
    "## Watts-Strogatz model"
   ]
  },
  {
   "cell_type": "markdown",
   "metadata": {},
   "source": [
    "The first step towards defining a WS model is to implementing the rewiring procedure. This takes an existing graph and randomly rewires its edges with probability $p$"
   ]
  },
  {
   "cell_type": "code",
   "execution_count": null,
   "metadata": {},
   "outputs": [],
   "source": [
    "@add_method(Graph)\n",
    "def _rewire(self, p):\n",
    "    node_labels = list(self._nodes.keys())\n",
    "    nodes = dict(zip(node_labels, range(len(node_labels))))\n",
    "    \n",
    "    edges = self.edgelist()\n",
    "        \n",
    "    for node_i, node_j, data in edges:\n",
    "        if nodes[node_j] > nodes[node_i]: # Make sure we just rewire one end of the edge\n",
    "\n",
    "            if np.random.random() < p:\n",
    "                new_node_j = node_labels[np.random.randint(len(node_labels))]\n",
    "                self._edges[node_i][new_node_j] = self._edges[node_i][node_j]\n",
    "                self._edges[node_i].pop(node_j)\n",
    "\n",
    "                self._edges[new_node_j][node_i] = self._edges[node_j][node_i]\n",
    "                self._edges[node_j].pop(node_i)"
   ]
  },
  {
   "cell_type": "markdown",
   "metadata": {},
   "source": [
    "So if we apply it to the previous graph, we significantly impact the degree distribution"
   ]
  },
  {
   "cell_type": "code",
   "execution_count": null,
   "metadata": {},
   "outputs": [],
   "source": [
    "RG = Graph.ring_graph(10000, 4)\n",
    "RG._rewire(0.3)\n",
    "WS = RG\n",
    "Pk = WS.degree_distribution()\n"
   ]
  },
  {
   "cell_type": "markdown",
   "metadata": {},
   "source": [
    "Which now has a non-zero spread while still peaked at 4:"
   ]
  },
  {
   "cell_type": "code",
   "execution_count": null,
   "metadata": {},
   "outputs": [],
   "source": [
    "fig = plt.figure(figsize=(4, 3))\n",
    "axes = fig.add_axes([0, 0, 1, 1])\n",
    "\n",
    "axes.plot(Pk.T[0], Pk.T[1])\n",
    "axes.set_title('Watts-Strogatz network degree distribution')\n",
    "axes.set_xlabel('k')\n",
    "axes.set_ylabel('P(k)');"
   ]
  },
  {
   "cell_type": "markdown",
   "metadata": {},
   "source": [
    "The Watts-Strogatz model is then:"
   ]
  },
  {
   "cell_type": "code",
   "execution_count": null,
   "metadata": {},
   "outputs": [],
   "source": [
    "@add_method(Graph)\n",
    "def watts_strogatz_graph(N, K, p):\n",
    "    G = Graph.ring_graph(N, K)\n",
    "    G._rewire(p)\n",
    "    \n",
    "    return G"
   ]
  },
  {
   "cell_type": "markdown",
   "metadata": {},
   "source": [
    "## Barabasi-Albert model"
   ]
  },
  {
   "cell_type": "markdown",
   "metadata": {},
   "source": [
    "We also implement the Barabasi-Albert model for the case where we start with 3 fully connected nodes and add one edge at each time step:"
   ]
  },
  {
   "cell_type": "code",
   "execution_count": null,
   "metadata": {},
   "outputs": [],
   "source": [
    "@add_method(Graph)\n",
    "def barabasi_albert_graph(N):\n",
    "    G = Graph()\n",
    "\n",
    "    nodes = range(N)\n",
    "    G.add_nodes_from(nodes)\n",
    "\n",
    "    edges = [0,1,1,2,2,0]\n",
    "\n",
    "    for node_i in range(3, N):\n",
    "        pos = np.random.randint(len(edges))\n",
    "        node_j = edges[pos]\n",
    "\n",
    "        edges.append(node_i)\n",
    "        edges.append(node_j)\n",
    "\n",
    "    edges = zip(nodes, edges[1::2])\n",
    "\n",
    "    G.add_edges_from(edges)\n",
    "\n",
    "    return G"
   ]
  },
  {
   "cell_type": "markdown",
   "metadata": {},
   "source": [
    "As expected, the degree distribution is heavy-tailed:"
   ]
  },
  {
   "cell_type": "code",
   "execution_count": null,
   "metadata": {},
   "outputs": [],
   "source": [
    "BA = Graph.barabasi_albert_graph(100000)\n",
    "Pk = BA.degree_distribution()"
   ]
  },
  {
   "cell_type": "code",
   "execution_count": null,
   "metadata": {},
   "outputs": [],
   "source": [
    "fig = plt.figure(figsize=(4, 3))\n",
    "axes = fig.add_axes([0, 0, 1, 1])\n",
    "\n",
    "axes.loglog(Pk.T[0], Pk.T[1])\n",
    "axes.set_title('BA network degree distribution')\n",
    "axes.set_xlabel('k')\n",
    "axes.set_ylabel('P(k)');"
   ]
  },
  {
   "cell_type": "markdown",
   "metadata": {},
   "source": [
    "# Random Walks and Paths"
   ]
  },
  {
   "cell_type": "markdown",
   "metadata": {},
   "source": [
    "A path on a graph is a sequence of visited nodes. Here we implement a random walk over a graph to generate a sequence of randomly visited nodes. "
   ]
  },
  {
   "cell_type": "code",
   "execution_count": null,
   "metadata": {},
   "outputs": [],
   "source": [
    "@add_method(Graph)\n",
    "def random_walk(self, source, steps):\n",
    "    path = [source]\n",
    "    \n",
    "    for i in range(steps):\n",
    "        source = path[-1]\n",
    "        NN = [node for node in self._edges[source]]\n",
    "        \n",
    "        chosen = NN[np.random.randint(len(NN))]\n",
    "        path.append(chosen)\n",
    "        \n",
    "    return path"
   ]
  },
  {
   "cell_type": "markdown",
   "metadata": {},
   "source": [
    "We generate a path of 1,000,000 steps"
   ]
  },
  {
   "cell_type": "code",
   "execution_count": null,
   "metadata": {},
   "outputs": [],
   "source": [
    "path = BA.random_walk(0, 1000000)"
   ]
  },
  {
   "cell_type": "markdown",
   "metadata": {},
   "source": [
    "And count how many times each node is visited"
   ]
  },
  {
   "cell_type": "code",
   "execution_count": null,
   "metadata": {},
   "outputs": [],
   "source": [
    "visits = Counter(path)\n",
    "counts = list(visits.items())\n",
    "counts.sort(key=lambda x:x[1], reverse=True)"
   ]
  },
  {
   "cell_type": "markdown",
   "metadata": {},
   "source": [
    "The top 10 most visited nodes are:"
   ]
  },
  {
   "cell_type": "code",
   "execution_count": null,
   "metadata": {},
   "outputs": [],
   "source": [
    "counts[:10]"
   ]
  },
  {
   "cell_type": "markdown",
   "metadata": {},
   "source": [
    "For comparison, their degrees are:"
   ]
  },
  {
   "cell_type": "code",
   "execution_count": null,
   "metadata": {},
   "outputs": [],
   "source": [
    "deg = BA.degrees()\n",
    "top10 = [i for i, j in counts[:10]]\n",
    "\n",
    "for i, node in enumerate(top10):\n",
    "    print(node, deg[node], counts[i][1])"
   ]
  },
  {
   "cell_type": "markdown",
   "metadata": {},
   "source": [
    "And we see that the number of visits is strongly correlated with the node degree. To make it clearer:"
   ]
  },
  {
   "cell_type": "code",
   "execution_count": null,
   "metadata": {},
   "outputs": [],
   "source": [
    "data = []\n",
    "for node in deg:\n",
    "    data.append((deg[node], visits[node]))\n",
    "data = np.array(data)\n",
    "\n",
    "# Plot\n",
    "fig = plt.figure(figsize=(6, 4))\n",
    "axes = fig.add_axes([0, 0, 1, 1])\n",
    "\n",
    "axes.loglog(data.T[0], data.T[1], 'o')\n",
    "axes.set_title('BA network random walker visits')\n",
    "axes.set_xlabel('Degree k')\n",
    "axes.set_ylabel('Visits');"
   ]
  },
  {
   "cell_type": "markdown",
   "metadata": {},
   "source": [
    "# Sampling Methods"
   ]
  },
  {
   "cell_type": "markdown",
   "metadata": {},
   "source": [
    "We also consider sampling approaches. These are often used when we must interact with some system (call an API, perform interviews, etc) to extract information about the network structure.\n",
    "\n",
    "We start with the random walk sampling. This is just a random walk on the graph as we saw above. "
   ]
  },
  {
   "cell_type": "code",
   "execution_count": null,
   "metadata": {},
   "outputs": [],
   "source": [
    "@add_method(Graph)\n",
    "def random_walk_sample(self, source, maxsteps=1000):\n",
    "    seen = []\n",
    "    queue = source\n",
    "    \n",
    "    for _ in range(maxsteps+1):\n",
    "        user_id = queue\n",
    "        seen.append(user_id)\n",
    "\n",
    "        NN = list(self.neighbors(user_id))\n",
    "        \n",
    "        # Randomly select one of the neighbors\n",
    "        queue = NN[np.random.randint(len(NN))]\n",
    "\n",
    "    return seen"
   ]
  },
  {
   "cell_type": "markdown",
   "metadata": {},
   "source": [
    "On the other hand, snowball sampling returns a compact set of nodes that forms a denser connected component:\n",
    "<img src=\"files/snowballsampling.png\" width=\"400px\"/>"
   ]
  },
  {
   "cell_type": "code",
   "execution_count": null,
   "metadata": {},
   "outputs": [],
   "source": [
    "@add_method(Graph)\n",
    "def snowball_sample(self, source, max_depth = 3):\n",
    "    seen = set()\n",
    "    queue = set()\n",
    "\n",
    "    queue.add(source)\n",
    "    queue2 = set()\n",
    "\n",
    "    for _ in range(max_depth+1):\n",
    "        while queue:\n",
    "            user_id = queue.pop()\n",
    "            seen.add(user_id)\n",
    "\n",
    "            NN = self.neighbours(user_id)\n",
    "\n",
    "            for node in NN:\n",
    "                if node not in seen:\n",
    "                    queue2.add(node)\n",
    "\n",
    "        queue.update(queue2)\n",
    "        queue2 = set()\n",
    "\n",
    "    return seen"
   ]
  },
  {
   "cell_type": "markdown",
   "metadata": {},
   "source": [
    "In the case of the WS model the regular structure of the graph is reflected by just a few nodes being returned:"
   ]
  },
  {
   "cell_type": "code",
   "execution_count": null,
   "metadata": {},
   "outputs": [],
   "source": [
    "seen = WS.snowball_sample(0, 3)\n",
    "len(seen)"
   ]
  },
  {
   "cell_type": "markdown",
   "metadata": {},
   "source": [
    "For comparison, we can also see a big difference to the BA model by performing a snowball sample with similar parameters:"
   ]
  },
  {
   "cell_type": "code",
   "execution_count": null,
   "metadata": {},
   "outputs": [],
   "source": [
    "seen = BA.snowball_sample(0)\n",
    "len(seen)"
   ]
  },
  {
   "cell_type": "markdown",
   "metadata": {},
   "source": [
    "Here we recover a substantial part of the graph. The reason for this is: in a graph with a heavy-tailed distribution we quickly reach one (or more) of the hubs that are connected to a significant portion of the total graph. "
   ]
  }
 ],
 "metadata": {
  "kernelspec": {
   "display_name": "Python 3",
   "language": "python",
   "name": "python3"
  },
  "language_info": {
   "codemirror_mode": {
    "name": "ipython",
    "version": 3
   },
   "file_extension": ".py",
   "mimetype": "text/x-python",
   "name": "python",
   "nbconvert_exporter": "python",
   "pygments_lexer": "ipython3",
   "version": "3.7.4"
  }
 },
 "nbformat": 4,
 "nbformat_minor": 2
}
