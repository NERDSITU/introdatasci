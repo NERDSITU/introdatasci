{
 "cells": [
  {
   "cell_type": "markdown",
   "metadata": {
    "slideshow": {
     "slide_type": "slide"
    }
   },
   "source": [
    "<div class=\"frontmatter text-center\">\n",
    "<h1> Introduction to Data Science and Programming</h1>\n",
    "<h2>Class 15: Simulation and program design</h2>\n",
    "<h3>IT University of Copenhagen, Fall 2019</h3>\n",
    "<h3>Instructor: Michael Szell</h3>\n",
    "</div>"
   ]
  },
  {
   "cell_type": "markdown",
   "metadata": {},
   "source": [
    "# Source\n",
    "This notebook was adapted from:\n",
    "* Zelle: Python Programming, Chapter 9"
   ]
  },
  {
   "cell_type": "code",
   "execution_count": null,
   "metadata": {},
   "outputs": [],
   "source": [
    "from random import *\n",
    "seed(10)\n",
    "print(random())\n",
    "print(random())\n",
    "print(random())\n",
    "\n",
    "seed(10)\n",
    "print(random())\n",
    "print(random())\n",
    "print(random())"
   ]
  },
  {
   "cell_type": "markdown",
   "metadata": {},
   "source": [
    "## Top-down Raquetball simulation"
   ]
  },
  {
   "cell_type": "code",
   "execution_count": null,
   "metadata": {},
   "outputs": [],
   "source": [
    "# https://github.com/danyoungmusic93/zelle-python/blob/master/chap09/rball.py\n",
    "\n",
    "# Imports\n",
    "from random import random\n",
    "\n",
    "\n",
    "# Functions\n",
    "def printIntro():\n",
    "    \"\"\"Prints the introduction\"\"\"\n",
    "    print(\"This program simulates a game of racquetball between two\")\n",
    "    print('players called \"A\" and \"B\". The abilitites of each player is')\n",
    "    print(\"indicated by a probability (a number between 0 and 1) that\")\n",
    "    print(\"reflects the likelihood of a player winning the serve.\")\n",
    "    print(\"Player A has the first serve.\")\n",
    "\n",
    "def getInputs():\n",
    "    \"\"\"Returns the three simulation parameters\"\"\"\n",
    "    a = eval(input(\"What is the prob. player A wins a serve? \"))\n",
    "    b = eval(input(\"What is the prob. player B wins a serve? \"))\n",
    "    n = eval(input(\"How many games to simulate? \"))\n",
    "    return a, b, n\n",
    "\n",
    "def simNGames(n, probA, probB):\n",
    "    \"\"\"Simulates n games of racquetball between players whose\n",
    "    abilities are represented by the probability of winning a serve.\n",
    "    Returns number of wins for A and B\n",
    "    \"\"\"\n",
    "    winsA = winsB = 0\n",
    "    for i in range(n):\n",
    "        scoreA, scoreB = simOneGame(probA, probB)\n",
    "        if scoreA > scoreB:\n",
    "            winsA = winsA + 1\n",
    "        else:\n",
    "            winsB = winsB + 1\n",
    "    return winsA, winsB\n",
    "\n",
    "def simOneGame(probA, probB):\n",
    "    \"\"\"Simulates a single game of racquetball between players whose\n",
    "    abilities are represented by the probability of winning a serveself.\n",
    "    Returns final scores for A and B\n",
    "    \"\"\"\n",
    "    serving = \"A\"\n",
    "    scoreA = 0\n",
    "    scoreB = 0\n",
    "    while not gameOver(scoreA, scoreB):\n",
    "        if serving == \"A\":\n",
    "            if random() < probA:\n",
    "                scoreA = scoreA + 1\n",
    "            else:\n",
    "                serving = \"B\"\n",
    "        elif serving == \"B\":\n",
    "            if random() < probB:\n",
    "                scoreB = scoreB + 1\n",
    "            else:\n",
    "                serving = \"A\"\n",
    "    return scoreA, scoreB\n",
    "\n",
    "def gameOver(a, b):\n",
    "    \"\"\"a and b represent scores for a racquetball game\n",
    "    Returns True if the game is over, False otherwise\n",
    "    \"\"\"\n",
    "    return a==15 or b==15\n",
    "\n",
    "def printSummary(winsA, winsB, n):\n",
    "    \"\"\"Prints a summary of wins for each players\"\"\"\n",
    "    print(\"\\nGames simulated: \", n)\n",
    "    print(\"Wins for A: {0} ({1:0.1%})\".format(winsA, winsA/n))\n",
    "    print(\"Wins for B: {0} ({1:0.1%})\".format(winsB, winsB/n))\n",
    "\n",
    "\n",
    "# Main\n",
    "printIntro()\n",
    "probA, probB, n = getInputs()\n",
    "winsA, winsB = simNGames(n, probA, probB)\n",
    "printSummary(winsA, winsB, n)"
   ]
  },
  {
   "cell_type": "markdown",
   "metadata": {},
   "source": [
    "### Exploratory unit testing"
   ]
  },
  {
   "cell_type": "code",
   "execution_count": null,
   "metadata": {},
   "outputs": [],
   "source": [
    "print(gameOver(0,0))\n",
    "print(gameOver(5,10))\n",
    "print(gameOver(15,3))\n",
    "print(gameOver(3,15))"
   ]
  },
  {
   "cell_type": "code",
   "execution_count": null,
   "metadata": {},
   "outputs": [],
   "source": [
    "print(simOneGame(.5,.5))\n",
    "print(simOneGame(.5,.5))\n",
    "print(simOneGame(.3,.3))\n",
    "print(simOneGame(.3,.3))\n",
    "print(simOneGame(.4,.9))\n",
    "print(simOneGame(.4,.9))\n",
    "print(simOneGame(.9,.4))\n",
    "print(simOneGame(.9,.4))\n",
    "print(simOneGame(.4,.6))\n",
    "print(simOneGame(.4,.6))"
   ]
  },
  {
   "cell_type": "markdown",
   "metadata": {},
   "source": [
    "### Prototyping"
   ]
  },
  {
   "cell_type": "code",
   "execution_count": null,
   "metadata": {},
   "outputs": [],
   "source": [
    "from random import random\n",
    "\n",
    "def simOneGame(): \n",
    "    scoreA = 0\n",
    "    scoreB = 0\n",
    "    serving = \"A\"\n",
    "    for i in range(30):\n",
    "        if serving == \"A\":\n",
    "            if random() < .5:\n",
    "                scoreA = scoreA + 1 \n",
    "            else:\n",
    "                serving = \"B\"\n",
    "        else:\n",
    "            if random() < .5:\n",
    "                scoreB = scoreB + 1\n",
    "            else:\n",
    "                serving = \"A\"\n",
    "    print(scoreA, scoreB)\n",
    "    \n",
    "    \n",
    "# main program\n",
    "simOneGame()"
   ]
  },
  {
   "cell_type": "markdown",
   "metadata": {},
   "source": [
    "### Exploratory unit testing of circle_area"
   ]
  },
  {
   "cell_type": "code",
   "execution_count": null,
   "metadata": {},
   "outputs": [],
   "source": [
    "from math import pi\n",
    "\n",
    "def circle_area(r):\n",
    "    return pi*(r**2)\n",
    "\n",
    "# Test function\n",
    "radii  = [2, 0, -3, 2+5j, True, \"radius\"]\n",
    "message = \"Area of circles with r = {radius} is {area}.\"\n",
    "\n",
    "for r in radii:\n",
    "    A = circle_area(r)\n",
    "    print(message.format(radius=r, area=A))\n"
   ]
  }
 ],
 "metadata": {
  "celltoolbar": "Slideshow",
  "kernelspec": {
   "display_name": "Python 3",
   "language": "python",
   "name": "python3"
  },
  "language_info": {
   "codemirror_mode": {
    "name": "ipython",
    "version": 3
   },
   "file_extension": ".py",
   "mimetype": "text/x-python",
   "name": "python",
   "nbconvert_exporter": "python",
   "pygments_lexer": "ipython3",
   "version": "3.7.4"
  }
 },
 "nbformat": 4,
 "nbformat_minor": 1
}
