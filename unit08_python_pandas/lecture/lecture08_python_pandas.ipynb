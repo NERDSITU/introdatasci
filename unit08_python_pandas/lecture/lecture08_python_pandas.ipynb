{
 "cells": [
  {
   "cell_type": "markdown",
   "metadata": {
    "slideshow": {
     "slide_type": "slide"
    }
   },
   "source": [
    "<div class=\"frontmatter text-center\">\n",
    "<h1>Introduction to Data Science and Programming</h1>\n",
    "<h2>Lecture 8: Python Crash Course - Pandas</h2>\n",
    "<h3>IT University of Copenhagen, Fall 2023</h3>\n",
    "<h3>Instructor: Anastassia Vybornova</h3>\n",
    "</div>"
   ]
  },
  {
   "cell_type": "markdown",
   "metadata": {
    "slideshow": {
     "slide_type": "slide"
    }
   },
   "source": [
    "# Recap of Lecture 07\n",
    "\n",
    "> shown in class: `chdir, dir, cd, python` commands (for Anaconda Prompt on Windows)"
   ]
  },
  {
   "cell_type": "markdown",
   "metadata": {
    "slideshow": {
     "slide_type": "slide"
    }
   },
   "source": [
    "<style type=\"text/css\">\n",
    ".tg  {border-collapse:collapse;border-spacing:0;}\n",
    ".tg td{border-color:black;border-style:solid;border-width:1px;font-family:Arial, sans-serif;font-size:14px;\n",
    "  overflow:hidden;padding:10px 5px;word-break:normal;}\n",
    ".tg th{border-color:black;border-style:solid;border-width:1px;font-family:Arial, sans-serif;font-size:14px;\n",
    "  font-weight:normal;overflow:hidden;padding:10px 5px;word-break:normal;}\n",
    ".tg .tg-c3ow{border-color:inherit;text-align:center;vertical-align:top}\n",
    ".tg .tg-0pky{border-color:inherit;text-align:left;vertical-align:top}\n",
    ".tg .tg-7btt{border-color:inherit;font-weight:bold;text-align:center;vertical-align:top}\n",
    ".tg .tg-fymr{border-color:inherit;font-weight:bold;text-align:left;vertical-align:top}\n",
    "</style>\n",
    "<table class=\"tg\">\n",
    "<thead>\n",
    "  <tr>\n",
    "    <th class=\"tg-0pky\"></th>\n",
    "    <th class=\"tg-7btt\">windows</th>\n",
    "    <th class=\"tg-7btt\">macOS</th>\n",
    "  </tr>\n",
    "</thead>\n",
    "<tbody>\n",
    "  <tr>\n",
    "    <td class=\"tg-fymr\">print out the current working directory</td>\n",
    "    <td class=\"tg-c3ow\">chdir</td>\n",
    "    <td class=\"tg-c3ow\">pwd</td>\n",
    "  </tr>\n",
    "  <tr>\n",
    "    <td class=\"tg-fymr\">list contents of current working directory</td>\n",
    "    <td class=\"tg-c3ow\">dir</td>\n",
    "    <td class=\"tg-c3ow\">ls</td>\n",
    "  </tr>\n",
    "  <tr>\n",
    "    <td class=\"tg-fymr\">change directory</td>\n",
    "    <td class=\"tg-c3ow\" colspan=\"2\">cd &lt;relative path&gt;</td>\n",
    "  </tr>\n",
    "  <tr>\n",
    "    <td class=\"tg-fymr\">run a python file</td>\n",
    "    <td class=\"tg-c3ow\" colspan=\"2\">python &lt;filename.py&gt;</td>\n",
    "  </tr>\n",
    "</tbody>\n",
    "</table>"
   ]
  },
  {
   "cell_type": "markdown",
   "metadata": {
    "slideshow": {
     "slide_type": "slide"
    }
   },
   "source": [
    "Message from Michael: \n",
    "\n",
    "## Please install WSL (Ubuntu distribution)\n",
    "\n",
    "* WSL: Windows Subsystem for Linux\n",
    "* Instructions: [here](https://learn.microsoft.com/en-gb/windows/wsl/install)\n",
    "* If all goes well: you \"just\" have to run `wsl --install` from your CLI (details see instructions)\n",
    "* Why? Because then you can use a Linux shell on your Windows machine!\n",
    "* We will send out more detailed instructions, and help you in the StudyLab/LiveCoding"
   ]
  },
  {
   "cell_type": "code",
   "execution_count": null,
   "metadata": {
    "slideshow": {
     "slide_type": "slide"
    }
   },
   "outputs": [],
   "source": [
    "# list comprehension\n",
    "[i**2 for i in range(10,20)]"
   ]
  },
  {
   "cell_type": "code",
   "execution_count": null,
   "metadata": {
    "slideshow": {
     "slide_type": "slide"
    }
   },
   "outputs": [],
   "source": [
    "# list comprehension\n",
    "# [expression for member in iterable if condition]\n",
    "[i**2 for i in range(10,20) if i**2 > 250]"
   ]
  },
  {
   "cell_type": "markdown",
   "metadata": {},
   "source": [
    "<hr>"
   ]
  },
  {
   "cell_type": "markdown",
   "metadata": {
    "slideshow": {
     "slide_type": "slide"
    }
   },
   "source": [
    "Today you will learn:\n",
    "\n",
    "* `seed()`ing in the random module\n",
    "* (more or less) common file formats for tabular data \n",
    "* the `pandas` package (\"Excel on steroids\")"
   ]
  },
  {
   "cell_type": "markdown",
   "metadata": {
    "slideshow": {
     "slide_type": "slide"
    }
   },
   "source": [
    "# A `random` fact\n",
    "\n",
    "`random.seed()` makes \"random\" numbers \"reproducible\""
   ]
  },
  {
   "cell_type": "code",
   "execution_count": null,
   "metadata": {
    "slideshow": {
     "slide_type": "slide"
    }
   },
   "outputs": [],
   "source": [
    "# if i don't indicate any \"seed\", running this cell several times\n",
    "# will produce a new \"random\" number at each time:\n",
    "import random\n",
    "random.choices(range(10), k = 10)"
   ]
  },
  {
   "cell_type": "code",
   "execution_count": null,
   "metadata": {
    "slideshow": {
     "slide_type": "slide"
    }
   },
   "outputs": [],
   "source": [
    "# if i indicate a \"seed\", running this cell several times\n",
    "# will produce THE SAME \"random\" number at each time:\n",
    "import random\n",
    "random.seed(42) # what you use as seed is up to you; ~\"same seed > same results\"\n",
    "random.choices(range(10), k = 10)"
   ]
  },
  {
   "cell_type": "markdown",
   "metadata": {
    "slideshow": {
     "slide_type": "slide"
    }
   },
   "source": [
    "# Common (?) file formats for tabular data\n",
    "* `.txt` plain text file, not formatted\n",
    "* `.csv` text in comma-separated values, not formatted\n",
    "* `.xls`, `.xlsx` Microsoft Excel worksheets\n",
    "* `.json` \"JavaScript Object Specification\""
   ]
  },
  {
   "cell_type": "markdown",
   "metadata": {
    "slideshow": {
     "slide_type": "slide"
    }
   },
   "source": [
    "# `csv`: \"comma\" separated values\n",
    "\n",
    "`.csv` is often used even when the separator is not a comma, but a tab, a whitespace, a semicolon, ...\n",
    "\n",
    "<p style=\"text-align:left;\">\n",
    "    <img src=\"images/csv.png\" alt=\"csv file\" width=1000px>\n",
    "</p>"
   ]
  },
  {
   "cell_type": "markdown",
   "metadata": {
    "slideshow": {
     "slide_type": "slide"
    }
   },
   "source": [
    "# `json` JavaScript Object Specification\n",
    "\n",
    "* format understood by many programming languages (not only JavaScript!)\n",
    "* can store different (tree-like) data structures, not only tables\n",
    "* often used for server-web application data transfer\n",
    "* data types allowed in json: numbers, strings, booleans, \"arrays\" (similar to lists in Python), \"objects\" (name-value pair collections, similar to dictionaries in Python)\n",
    "\n",
    "<p style=\"text-align:left;\">\n",
    "    <img src=\"images/json.png\" alt=\"json file\" width=1000px>\n",
    "</p>\n"
   ]
  },
  {
   "cell_type": "markdown",
   "metadata": {
    "slideshow": {
     "slide_type": "slide"
    }
   },
   "source": [
    "# Jupyter notebook is actually  a json file, too!\n",
    "\n",
    "<p style=\"text-align:left;\">\n",
    "    <img src=\"images/ipynb.png\" alt=\"ipynb file opened with text editor\" width=1000px>\n",
    "</p>\n"
   ]
  },
  {
   "cell_type": "markdown",
   "metadata": {
    "slideshow": {
     "slide_type": "slide"
    }
   },
   "source": [
    "# Our table of the day: Titanic passengers\n",
    "\n",
    "[(Link to raw data)](https://raw.githubusercontent.com/pandas-dev/pandas/main/doc/data/titanic.csv)\n",
    "\n",
    "same data, stored in different file formats, in `data` folder"
   ]
  },
  {
   "cell_type": "code",
   "execution_count": null,
   "metadata": {
    "slideshow": {
     "slide_type": "slide"
    }
   },
   "outputs": [],
   "source": [
    "# reading in tabular data in csv format - the painful way\n",
    "import csv\n",
    "with open(\"data/titanic.csv\", \"r\") as opened_file:\n",
    "    my_reader = csv.reader(opened_file)\n",
    "    rows = [row for row in my_reader]\n",
    "rows"
   ]
  },
  {
   "cell_type": "code",
   "execution_count": null,
   "metadata": {
    "slideshow": {
     "slide_type": "slide"
    }
   },
   "outputs": [],
   "source": [
    "# reading in tabular data in json format - the painful way\n",
    "import json\n",
    "with open(\"data/titanic.json\", \"r\") as opened_file:\n",
    "    my_json = json.load(opened_file)\n",
    "my_json"
   ]
  },
  {
   "cell_type": "markdown",
   "metadata": {
    "slideshow": {
     "slide_type": "slide"
    }
   },
   "source": [
    "# Enter: `pandas`\n",
    "\n",
    "for tabular data\n",
    "\n",
    "* reading in data `.read_csv()`, writing data `.to_csv()`\n",
    "* displaying parts of the data set `.head(), .tail()`\n",
    "* displaying column and row names `.columns, .index` \n",
    "* displaying and changing column datatypes `.dtypes`, `.astype()`\n",
    "* displaying summary statistics: `.describe()`\n",
    "* accessing columns `[]`, rows `.loc[]`, and single values `.loc[]`\n",
    "* boolean indexing by condition `[condition]`\n",
    "* boolean indexing by several conditions `[(condition1) & (condition2)]`\n",
    "* filtering out missing values `.isna()` or available values `.notna()`\n",
    "* creating a copy `.copy()`\n",
    "* adding new columns `[]`\n",
    "* dropping rows and columns `.drop()`\n",
    "* sorting rows by values: `.sort_values()`"
   ]
  },
  {
   "cell_type": "code",
   "execution_count": null,
   "metadata": {
    "slideshow": {
     "slide_type": "slide"
    }
   },
   "outputs": [],
   "source": [
    "# import pandas with the alias \"pd\"\n",
    "# pandas is a separate Python PACKAGE\n",
    "# it doesn't \"usually\" come with Python\n",
    "# but it is part of the Anaconda distribution\n",
    "# so you SHOULD already have it on your machine\n",
    "import pandas as pd"
   ]
  },
  {
   "cell_type": "code",
   "execution_count": null,
   "metadata": {
    "slideshow": {
     "slide_type": "slide"
    }
   },
   "outputs": [],
   "source": [
    "# read_csv(filepath) reads in a csv from a file and returns a pandas DataFrame:\n",
    "pd.read_csv(\"data/titanic.csv\")"
   ]
  },
  {
   "cell_type": "code",
   "execution_count": null,
   "metadata": {
    "slideshow": {
     "slide_type": "slide"
    }
   },
   "outputs": [],
   "source": [
    "# .read_csv() assumes that sep=\",\"... but i can indicate a different separator:\n",
    "pd.read_csv(\"data/titanic_semicolon.csv\")"
   ]
  },
  {
   "cell_type": "code",
   "execution_count": null,
   "metadata": {
    "slideshow": {
     "slide_type": "slide"
    }
   },
   "outputs": [],
   "source": [
    "# .read_csv() assumes that sep=\",\"... \n",
    "# but i can indicate a different separator:\n",
    "pd.read_csv(\"data/titanic_semicolon.csv\", sep = \";\")"
   ]
  },
  {
   "cell_type": "code",
   "execution_count": null,
   "metadata": {
    "slideshow": {
     "slide_type": "slide"
    }
   },
   "outputs": [],
   "source": [
    "# let's save the pandas DataFrame into a variable, df:\n",
    "df = pd.read_csv(\"data/titanic.csv\")"
   ]
  },
  {
   "cell_type": "code",
   "execution_count": null,
   "metadata": {
    "slideshow": {
     "slide_type": "slide"
    }
   },
   "outputs": [],
   "source": [
    "# now we can display the first (by default 5) rows:\n",
    "df.head(3)\n",
    "# if you provide an integer argument n, will display the first n rows"
   ]
  },
  {
   "cell_type": "code",
   "execution_count": null,
   "metadata": {
    "slideshow": {
     "slide_type": "slide"
    }
   },
   "outputs": [],
   "source": [
    "# to display the last (by default 5) rows:\n",
    "df.tail(10) # if you provide an integer argument n, will display the last n rows\n"
   ]
  },
  {
   "cell_type": "code",
   "execution_count": null,
   "metadata": {
    "slideshow": {
     "slide_type": "slide"
    }
   },
   "outputs": [],
   "source": [
    "# length of the dataframe = number of ROWS\n",
    "len(df)"
   ]
  },
  {
   "cell_type": "code",
   "execution_count": null,
   "metadata": {
    "slideshow": {
     "slide_type": "slide"
    }
   },
   "outputs": [],
   "source": [
    "# the type of the variable is \"pandas dataframe\":\n",
    "type(df)"
   ]
  },
  {
   "cell_type": "code",
   "execution_count": null,
   "metadata": {
    "slideshow": {
     "slide_type": "slide"
    }
   },
   "outputs": [],
   "source": [
    "# this object (the pandas DataFrame) has ATTRIBUTES:\n",
    "# characteristics accessible by .attributename\n",
    "df.dtypes # .dtypes contains the data types of all columns"
   ]
  },
  {
   "cell_type": "code",
   "execution_count": null,
   "metadata": {
    "slideshow": {
     "slide_type": "slide"
    }
   },
   "outputs": [],
   "source": [
    "# another attribute is .index (containing the ROW LABELS)\n",
    "df.index"
   ]
  },
  {
   "cell_type": "code",
   "execution_count": null,
   "metadata": {
    "slideshow": {
     "slide_type": "slide"
    }
   },
   "outputs": [],
   "source": [
    "# another attribute is .columns (containing the COLUMN LABELS)\n",
    "df.columns"
   ]
  },
  {
   "cell_type": "code",
   "execution_count": null,
   "metadata": {
    "slideshow": {
     "slide_type": "slide"
    }
   },
   "outputs": [],
   "source": [
    "# .shape contains the shape (nrows, ncols) of the dataframe\n",
    "df.shape"
   ]
  },
  {
   "cell_type": "markdown",
   "metadata": {
    "slideshow": {
     "slide_type": "slide"
    }
   },
   "source": [
    "# Get some summary statistics\n",
    "\n",
    "(count, mean, std, min, max, for each column separately)"
   ]
  },
  {
   "cell_type": "code",
   "execution_count": null,
   "metadata": {
    "slideshow": {
     "slide_type": "slide"
    }
   },
   "outputs": [],
   "source": [
    "df.describe()\n",
    "# count: number of values (that are NOT NaN)"
   ]
  },
  {
   "cell_type": "markdown",
   "metadata": {
    "slideshow": {
     "slide_type": "slide"
    }
   },
   "source": [
    "# Accessing specific columns in the data frame\n",
    "\n",
    "...a little bit like indexing:\n",
    "\n",
    "`df[]` with single column label, or with list of column labels:\n",
    "\n",
    "#### `df[columnlabel]` \n",
    "#### `df[[col1, col2, col3]]` \n"
   ]
  },
  {
   "cell_type": "code",
   "execution_count": null,
   "metadata": {
    "slideshow": {
     "slide_type": "slide"
    }
   },
   "outputs": [],
   "source": [
    "# access the columns separately with square brackets \n",
    "# and their column name (\"label\"):\n",
    "df[\"Survived\"] # returns ONLY the column \"Name\""
   ]
  },
  {
   "cell_type": "code",
   "execution_count": null,
   "metadata": {
    "slideshow": {
     "slide_type": "slide"
    }
   },
   "outputs": [],
   "source": [
    "# access the columns separately with square brackets \n",
    "# and their column name (\"label\"):\n",
    "df[\"Age\"] # returns ONLY the column \"Age\""
   ]
  },
  {
   "cell_type": "code",
   "execution_count": null,
   "metadata": {
    "slideshow": {
     "slide_type": "slide"
    }
   },
   "outputs": [],
   "source": [
    "# access specific columns by giving a list of column names as index: \n",
    "df[[\"Age\", \"Name\", \"Survived\"]]"
   ]
  },
  {
   "cell_type": "markdown",
   "metadata": {
    "slideshow": {
     "slide_type": "slide"
    }
   },
   "source": [
    "# Accessing specific rows in the data frame\n",
    "\n",
    "`df.loc[]` with single row label (index) or with list of row labels:\n",
    "\n",
    "#### `df.loc[rowlabel]` \n",
    "#### `df.loc[[row1,row2,row3]]` "
   ]
  },
  {
   "cell_type": "code",
   "execution_count": null,
   "metadata": {
    "slideshow": {
     "slide_type": "slide"
    }
   },
   "outputs": [],
   "source": [
    "# remember, our row labels (in this case) are simply integer numbers:\n",
    "df.head()"
   ]
  },
  {
   "cell_type": "code",
   "execution_count": null,
   "metadata": {
    "slideshow": {
     "slide_type": "slide"
    }
   },
   "outputs": [],
   "source": [
    "# accessing rows by index: df.loc[] with index (row label) as argument\n",
    "df.loc[0] # returns only first row"
   ]
  },
  {
   "cell_type": "code",
   "execution_count": null,
   "metadata": {
    "slideshow": {
     "slide_type": "slide"
    }
   },
   "outputs": [],
   "source": [
    "# accessing rows by index: df.loc[] with list of indeces (row labels) as argument\n",
    "df.loc[[0,1,2]] # returns first 3 rows"
   ]
  },
  {
   "cell_type": "markdown",
   "metadata": {
    "slideshow": {
     "slide_type": "slide"
    }
   },
   "source": [
    "## Accessing specific rows AND columns in the data frame\n",
    "\n",
    "#### `df.loc[rowlabels, columnlabels]` \n"
   ]
  },
  {
   "cell_type": "code",
   "execution_count": null,
   "metadata": {
    "slideshow": {
     "slide_type": "slide"
    }
   },
   "outputs": [],
   "source": [
    "# row labels: first three rows; column label: \"Name\"\n",
    "df.loc[[0,1,2], \"Name\"]"
   ]
  },
  {
   "cell_type": "code",
   "execution_count": null,
   "metadata": {
    "slideshow": {
     "slide_type": "slide"
    }
   },
   "outputs": [],
   "source": [
    "# row labels: first three rows; column labels: \"Name\" & \"Age\"\n",
    "df.loc[[0,1,2], [\"Name\", \"Age\"]]"
   ]
  },
  {
   "cell_type": "code",
   "execution_count": null,
   "metadata": {
    "slideshow": {
     "slide_type": "slide"
    }
   },
   "outputs": [],
   "source": [
    "# row labels: first row; column labels: [\"Name\", \"Sex\"]\n",
    "df.loc[0, [\"Name\", \"Sex\"]]"
   ]
  },
  {
   "cell_type": "code",
   "execution_count": null,
   "metadata": {
    "slideshow": {
     "slide_type": "slide"
    }
   },
   "outputs": [],
   "source": [
    "# accessing one single value\n",
    "df.loc[0, \"Name\"]"
   ]
  },
  {
   "cell_type": "markdown",
   "metadata": {
    "slideshow": {
     "slide_type": "slide"
    }
   },
   "source": [
    "# Try it out yourself\n",
    "\n",
    "Each of the tasks below is 1 line of code!\n",
    "\n",
    "* Access only the column \"Fare\" `[]`\n",
    "* Access only the columns \"Fare\" and \"Age\" `[[]]`\n",
    "* Access only the rows with row labels 3, 4, and 5 `.loc[]`\n",
    "* Access only the rows 3, 4, 5, and only the columns \"Survived\" and \"Name\"\n",
    "* Access the name of the last passenger in the dataframe"
   ]
  },
  {
   "cell_type": "code",
   "execution_count": null,
   "metadata": {
    "slideshow": {
     "slide_type": "slide"
    }
   },
   "outputs": [],
   "source": [
    "# access the column Fare\n",
    "df[\"Fare\"]"
   ]
  },
  {
   "cell_type": "code",
   "execution_count": null,
   "metadata": {
    "slideshow": {
     "slide_type": "slide"
    }
   },
   "outputs": [],
   "source": [
    "# access the columns Fare and Age\n",
    "df[[\"Fare\", \"Age\"]]"
   ]
  },
  {
   "cell_type": "code",
   "execution_count": null,
   "metadata": {
    "slideshow": {
     "slide_type": "slide"
    }
   },
   "outputs": [],
   "source": [
    "# access the rows [3,4,5]\n",
    "df.loc[[3,4,5]]"
   ]
  },
  {
   "cell_type": "code",
   "execution_count": null,
   "metadata": {
    "slideshow": {
     "slide_type": "slide"
    }
   },
   "outputs": [],
   "source": [
    "# access the rows [3,4,5] and the columns [\"Survived\", \"Name\"]\n",
    "df.loc[[3,4,5], [\"Survived\", \"Name\"]]"
   ]
  },
  {
   "cell_type": "code",
   "execution_count": null,
   "metadata": {
    "slideshow": {
     "slide_type": "slide"
    }
   },
   "outputs": [],
   "source": [
    "# access the name of the last passenger in the dataframe\n",
    "df.loc[len(df)-1]"
   ]
  },
  {
   "cell_type": "markdown",
   "metadata": {
    "slideshow": {
     "slide_type": "slide"
    }
   },
   "source": [
    "# Break until 11:15\n",
    "\n",
    "# Deleting rows and columns with `.drop()`"
   ]
  },
  {
   "cell_type": "code",
   "execution_count": null,
   "metadata": {
    "slideshow": {
     "slide_type": "slide"
    }
   },
   "outputs": [],
   "source": [
    "# remove a row: axis = 0\n",
    "# df.drop(labels=3, axis=0)\n",
    "# df.head()\n",
    "# this removes the row with label 3"
   ]
  },
  {
   "cell_type": "code",
   "execution_count": null,
   "metadata": {
    "slideshow": {
     "slide_type": "slide"
    }
   },
   "outputs": [],
   "source": [
    "# remove a column: axis = 1\n",
    "df.drop(labels=\"Age\", axis = 1)\n",
    "# this removes the column \"Age\""
   ]
  },
  {
   "cell_type": "code",
   "execution_count": null,
   "metadata": {
    "slideshow": {
     "slide_type": "slide"
    }
   },
   "outputs": [],
   "source": [
    "# how to CHANGE the dataframe instead of changing the VIEW?\n",
    "df = df.drop(labels=\"Age\", axis = 1)\n",
    "# either overwrite the variable"
   ]
  },
  {
   "cell_type": "code",
   "execution_count": null,
   "metadata": {
    "slideshow": {
     "slide_type": "slide"
    }
   },
   "outputs": [],
   "source": [
    "# how to CHANGE the dataframe instead of changing the VIEW?\n",
    "df.drop(labels=\"Name\", axis = 1, inplace=True)\n",
    "df.head()\n",
    "# OR set inplace=True"
   ]
  },
  {
   "cell_type": "code",
   "execution_count": null,
   "metadata": {
    "slideshow": {
     "slide_type": "slide"
    }
   },
   "outputs": [],
   "source": [
    "# now both \"Name\" and \"Age\" columns are removed:\n",
    "df.head(3)"
   ]
  },
  {
   "cell_type": "code",
   "execution_count": null,
   "metadata": {
    "slideshow": {
     "slide_type": "slide"
    }
   },
   "outputs": [],
   "source": [
    "# let's read in the data one more time, after we messed with it:\n",
    "df = pd.read_csv(\"data/titanic.csv\")"
   ]
  },
  {
   "cell_type": "markdown",
   "metadata": {
    "slideshow": {
     "slide_type": "slide"
    }
   },
   "source": [
    "# Boolean indexing (by condition)\n",
    "\n",
    "##### `df[columnlabel]` can be combined with comparison `> < == !=` operators\n",
    "##### `df[condition]` returns only those rows where condition is True\n",
    "##### `df[(condition1) & (condition2)]` returns only those rows where both conditions are True"
   ]
  },
  {
   "cell_type": "code",
   "execution_count": null,
   "metadata": {
    "slideshow": {
     "slide_type": "slide"
    }
   },
   "outputs": [],
   "source": [
    "# let's see what happens if we use a comparison operator with a single column:\n",
    "# returns for each row either True or False\n",
    "df[\"Age\"] > 18 # was this person over 18 on that ship?"
   ]
  },
  {
   "cell_type": "code",
   "execution_count": null,
   "metadata": {
    "slideshow": {
     "slide_type": "slide"
    }
   },
   "outputs": [],
   "source": [
    "# we can use that condition to index only rows where condition is True:\n",
    "my_condition = df[\"Age\"] > 18 # who was over 18 on that ship?\n",
    "df[my_condition]"
   ]
  },
  {
   "cell_type": "code",
   "execution_count": null,
   "metadata": {
    "slideshow": {
     "slide_type": "slide"
    }
   },
   "outputs": [],
   "source": [
    "# a shorter (but perhaps more confusing at first) way to write this: \n",
    "# df[condition] (where condition contains a df column)\n",
    "df[ df[\"Age\"]>18 ]"
   ]
  },
  {
   "cell_type": "code",
   "execution_count": null,
   "metadata": {
    "slideshow": {
     "slide_type": "slide"
    }
   },
   "outputs": [],
   "source": [
    "# filtering by several conditions:\n",
    "# put each condition inside () round brackets\n",
    "# combine them with & (meaning \"and\") or | (meaining \"or\")\n",
    "# everyone that was over 18 AND survived \n",
    "df[ (df[\"Age\"]>18) & (df[\"Survived\"]==1) ]"
   ]
  },
  {
   "cell_type": "code",
   "execution_count": null,
   "metadata": {
    "slideshow": {
     "slide_type": "slide"
    }
   },
   "outputs": [],
   "source": [
    "# everyone that is male and under 25\n",
    "df[ (df[\"Sex\"]==\"male\") & (df[\"Age\"]<25) ]"
   ]
  },
  {
   "cell_type": "markdown",
   "metadata": {
    "slideshow": {
     "slide_type": "slide"
    }
   },
   "source": [
    "# Filtering out missing values (NAs) with boolean conditions\n",
    "\n",
    "* `NaN` .... \"not a number\" in maths and pandas\n",
    "* `na` (in pandas): \"not available\" (includes both `NaN` and `None`)\n",
    "* pandas functions: `isna()` and `notna()`"
   ]
  },
  {
   "cell_type": "code",
   "execution_count": null,
   "metadata": {
    "slideshow": {
     "slide_type": "slide"
    }
   },
   "outputs": [],
   "source": [
    "df.head()\n",
    "# in rows with index 0,2,4 the Cabin data is missing"
   ]
  },
  {
   "cell_type": "code",
   "execution_count": null,
   "metadata": {
    "slideshow": {
     "slide_type": "slide"
    }
   },
   "outputs": [],
   "source": [
    "df[\"Cabin\"].isna()\n",
    "# returns for each row whether data is NOT AVAILABLE (True) or available (False)"
   ]
  },
  {
   "cell_type": "code",
   "execution_count": null,
   "metadata": {
    "slideshow": {
     "slide_type": "slide"
    }
   },
   "outputs": [],
   "source": [
    "df[\"Cabin\"].notna()\n",
    "# returns for each row whether data is AVAILABLE (True) and not available (False)"
   ]
  },
  {
   "cell_type": "code",
   "execution_count": null,
   "metadata": {
    "slideshow": {
     "slide_type": "slide"
    }
   },
   "outputs": [],
   "source": [
    "# boolean indexing to only have rows where we know the Cabin value:\n",
    "# my_condition = \n",
    "# df[\"Cabin\"].notna()\n",
    "# type(my_condition)\n",
    "# df[my_condition]\n",
    "# or, shorter: \n",
    "# df[ df[\"Cabin\"].notna() ]\n",
    "row = df.loc[0]\n",
    "row\n",
    "type(row)"
   ]
  },
  {
   "cell_type": "markdown",
   "metadata": {
    "slideshow": {
     "slide_type": "slide"
    }
   },
   "source": [
    "# Changing values in a cell\n",
    "\n",
    "#### `df.loc[rowlabel, columnlabel] = new_value`"
   ]
  },
  {
   "cell_type": "code",
   "execution_count": null,
   "metadata": {
    "slideshow": {
     "slide_type": "slide"
    }
   },
   "outputs": [],
   "source": [
    "# this will change the value in the cell of the first row, column \"Name\"\n",
    "df.loc[0, \"Name\"] = \"S.O.S\" # assigning CHANGES the object!\n",
    "df.head()"
   ]
  },
  {
   "cell_type": "code",
   "execution_count": null,
   "metadata": {
    "slideshow": {
     "slide_type": "slide"
    }
   },
   "outputs": [],
   "source": [
    "# this will change the value in the cells of the first 3 rows, column \"Name\"\n",
    "df.loc[[0,1,2], \"Name\"] = \"Not Me Please!\" # assigning CHANGES the object!\n",
    "df.head()"
   ]
  },
  {
   "cell_type": "markdown",
   "metadata": {
    "slideshow": {
     "slide_type": "slide"
    }
   },
   "source": [
    "# Creating a copy of the dataframe\n",
    "\n",
    "If you want to manipulate a subset of the dataframe, ALWAYS use `.copy()`"
   ]
  },
  {
   "cell_type": "code",
   "execution_count": null,
   "metadata": {
    "slideshow": {
     "slide_type": "slide"
    }
   },
   "outputs": [],
   "source": [
    "# until now, we have been just creating VIEWS of the data sets:\n",
    "df[ df[\"Age\"]>18 ] # this returns a VIEW of the filtered dataframe,\n",
    "# NOT the dataframe itself; we CANNOT MANIPULATE this object"
   ]
  },
  {
   "cell_type": "code",
   "execution_count": null,
   "metadata": {
    "slideshow": {
     "slide_type": "slide"
    }
   },
   "outputs": [],
   "source": [
    "# don't save the VIEW into a variable!!\n",
    "df_adults = df[df[\"Age\"]>18] # this gives us a VIEW of the dataframe\n",
    "# because now pandas is confused:\n",
    "df_adults.loc[5,\"Name\"] = \"Rosie\"\n",
    "# SettingWithCopyWarning: A value is trying to be set on a copy of a slice from a DataFrame"
   ]
  },
  {
   "cell_type": "code",
   "execution_count": null,
   "metadata": {
    "slideshow": {
     "slide_type": "slide"
    }
   },
   "outputs": [],
   "source": [
    "# Save a COPY of the view into a new variable:\n",
    "df_adults = df[df[\"Age\"]>18].copy() # this gives us a COPY of the dataframe\n",
    "# now pandas is not confused anymore:\n",
    "df_adults.loc[0,\"Name\"] = \"Rosie\"\n",
    "df_adults.head()"
   ]
  },
  {
   "cell_type": "markdown",
   "metadata": {
    "slideshow": {
     "slide_type": "slide"
    }
   },
   "source": [
    "### When working with subsets of a dataframe, use `.copy()`"
   ]
  },
  {
   "cell_type": "markdown",
   "metadata": {
    "slideshow": {
     "slide_type": "slide"
    }
   },
   "source": [
    "# Try it out yourself!\n",
    "\n",
    "* read in the data one more time (we messed around with the old data frame) with `pd.read_csv()`\n",
    "* filter by 2 conditions: `\"Sex\"==\"female\"` and `\"Age\">60` (CORR: NOT 70!)\n",
    "* save a COPY of the filtered data set to the variable `old_ladies`\n",
    "* how many old ladies were on the Titanic? (`len()`)\n",
    "* how may of the old ladies were badass ladies that survived? `\"Survived\"==1`\n",
    "* what is the mean fare that the old ladies paid? (`.describe()`, or calculate it yourself dividing the sum of the \"Fare\" column by the length of the dataframe)\n"
   ]
  },
  {
   "cell_type": "code",
   "execution_count": null,
   "metadata": {
    "slideshow": {
     "slide_type": "slide"
    }
   },
   "outputs": [],
   "source": [
    "# read in the data\n",
    "df = pd.read_csv(\"data/titanic.csv\")"
   ]
  },
  {
   "cell_type": "code",
   "execution_count": null,
   "metadata": {
    "slideshow": {
     "slide_type": "slide"
    }
   },
   "outputs": [],
   "source": [
    "# filter by 2 conditions and save a COPY\n",
    "old_ladies = df[ (df[\"Age\"]>60) & (df[\"Sex\"]==\"female\") ].copy()\n",
    "old_ladies"
   ]
  },
  {
   "cell_type": "code",
   "execution_count": null,
   "metadata": {
    "slideshow": {
     "slide_type": "slide"
    }
   },
   "outputs": [],
   "source": [
    "# number of old ladies:\n",
    "len(old_ladies)"
   ]
  },
  {
   "cell_type": "code",
   "execution_count": null,
   "metadata": {
    "slideshow": {
     "slide_type": "slide"
    }
   },
   "outputs": [],
   "source": [
    "# number of survived ladies:\n",
    "len(old_ladies[ old_ladies[\"Survived\"]==1 ])"
   ]
  },
  {
   "cell_type": "code",
   "execution_count": null,
   "metadata": {
    "slideshow": {
     "slide_type": "slide"
    }
   },
   "outputs": [],
   "source": [
    "# compute the mean fare with .describe()...\n",
    "old_ladies.describe()"
   ]
  },
  {
   "cell_type": "code",
   "execution_count": null,
   "metadata": {
    "slideshow": {
     "slide_type": "slide"
    }
   },
   "outputs": [],
   "source": [
    "# ...or compute the mean fare yourself\n",
    "sum(old_ladies[\"Fare\"]) / len(old_ladies)"
   ]
  },
  {
   "cell_type": "markdown",
   "metadata": {
    "slideshow": {
     "slide_type": "slide"
    }
   },
   "source": [
    "# Adding new columns to the dataframe"
   ]
  },
  {
   "cell_type": "code",
   "execution_count": null,
   "metadata": {
    "slideshow": {
     "slide_type": "slide"
    }
   },
   "outputs": [],
   "source": [
    "# adding a new column\n",
    "df[\"had_a_bad_trip\"] = True # adds a new column, with the same value in ALL rows\n",
    "df.head()"
   ]
  },
  {
   "cell_type": "code",
   "execution_count": null,
   "metadata": {
    "slideshow": {
     "slide_type": "slide"
    }
   },
   "outputs": [],
   "source": [
    "# adding a new column based on another column\n",
    "df[\"Fare_DKK\"] = df[\"Fare\"] * 900 # multiply the value in each row of \"Fare\" by 900\n",
    "df[\"Fare_EUR\"] = df[\"Fare\"] * 120 # multiply the value in each row of \"Fare\" by 120\n",
    "df.head()"
   ]
  },
  {
   "cell_type": "markdown",
   "metadata": {
    "slideshow": {
     "slide_type": "slide"
    }
   },
   "source": [
    "# Sorting by value with `.sort_values()`"
   ]
  },
  {
   "cell_type": "code",
   "execution_count": null,
   "metadata": {
    "slideshow": {
     "slide_type": "slide"
    }
   },
   "outputs": [],
   "source": [
    "df.sort_values(by = \"Age\") # by default: ascending"
   ]
  },
  {
   "cell_type": "code",
   "execution_count": null,
   "metadata": {
    "slideshow": {
     "slide_type": "slide"
    }
   },
   "outputs": [],
   "source": [
    "# to sort by descending values: set ascending=False \n",
    "df.sort_values(by = \"Age\", ascending=False) "
   ]
  },
  {
   "cell_type": "code",
   "execution_count": null,
   "metadata": {
    "slideshow": {
     "slide_type": "slide"
    }
   },
   "outputs": [],
   "source": [
    "# how to make your changes last (and not just affect the view):\n",
    "# same as with .drop(), either overwrite the variable...\n",
    "df = df.sort_values(by=\"Age\", ascending = False)"
   ]
  },
  {
   "cell_type": "code",
   "execution_count": null,
   "metadata": {
    "slideshow": {
     "slide_type": "slide"
    }
   },
   "outputs": [],
   "source": [
    "# ... or set inplace=True\n",
    "df.sort_values(by = \"Fare\", ascending=False, inplace=True)\n",
    "df.head()"
   ]
  },
  {
   "cell_type": "code",
   "execution_count": null,
   "metadata": {
    "slideshow": {
     "slide_type": "slide"
    }
   },
   "outputs": [],
   "source": [
    "# df is now sorted by descending Fare:\n",
    "df.head(5)"
   ]
  },
  {
   "cell_type": "markdown",
   "metadata": {
    "slideshow": {
     "slide_type": "slide"
    }
   },
   "source": [
    "# Save to csv with `.to_csv()`"
   ]
  },
  {
   "cell_type": "code",
   "execution_count": null,
   "metadata": {
    "slideshow": {
     "slide_type": "slide"
    }
   },
   "outputs": [],
   "source": [
    "# writing to a csv is as easy as reading in from as csv:\n",
    "df.to_csv(\"data/mydf.csv\")"
   ]
  },
  {
   "cell_type": "markdown",
   "metadata": {
    "slideshow": {
     "slide_type": "slide"
    }
   },
   "source": [
    "# Recap of today: pandas!\n",
    "\n",
    "Methods/functions for data frames (df):\n",
    "* `read_csv(), .to_csv()` \n",
    "* `.head(), .tail(), .describe()`\n",
    "* `.drop(), .sort_values(), .copy()`\n",
    "\n",
    "Methods we've used for separate df columns (and also for entire df): `.astype(), .isna(), .notna()`\n",
    "\n",
    "**Attributes** of data frames: `.index, .columns, .dtypes`\n",
    "\n",
    "**Indexing:** `[]`, `.loc[]`"
   ]
  },
  {
   "cell_type": "markdown",
   "metadata": {
    "slideshow": {
     "slide_type": "slide"
    }
   },
   "source": [
    "# Resources for more pandas\n",
    "\n",
    "YouTube video course: [Pandas for Beginners](https://www.youtube.com/playlist?list=PLUaB-1hjhk8GZOuylZqLz-Qt9RIdZZMBE) by Alex the Analyst\n",
    "\n",
    "Stefanie Molin & Ken Jee: [Hands-On Data Analysis with Pandas](https://ebookcentral.proquest.com/lib/itucopenhagen/reader.action?docID=6579305) \n",
    "\n",
    "Hannah Stepanek: [Thinking in pandas](https://link-springer-com.ep.ituproxy.kb.dk/book/10.1007/978-1-4842-5839-2) (see also our the \"self-study resources\" course page)\n",
    "\n",
    "> ITU has free online access to many resources, log in with your credentials at [kb.dk](kb.dk)"
   ]
  }
 ],
 "metadata": {
  "celltoolbar": "Slideshow",
  "kernelspec": {
   "display_name": "Python 3 (ipykernel)",
   "language": "python",
   "name": "python3"
  },
  "language_info": {
   "codemirror_mode": {
    "name": "ipython",
    "version": 3
   },
   "file_extension": ".py",
   "mimetype": "text/x-python",
   "name": "python",
   "nbconvert_exporter": "python",
   "pygments_lexer": "ipython3",
   "version": "3.9.7"
  }
 },
 "nbformat": 4,
 "nbformat_minor": 2
}
