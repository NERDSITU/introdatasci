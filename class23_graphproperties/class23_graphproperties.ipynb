{
 "cells": [
  {
   "cell_type": "markdown",
   "metadata": {
    "slideshow": {
     "slide_type": "slide"
    }
   },
   "source": [
    "<div class=\"frontmatter text-center\">\n",
    "<h1> Introduction to Data Science and Programming</h1>\n",
    "<h2>Class 23: Graph properties</h2>\n",
    "<h3>IT University of Copenhagen, Fall 2019</h3>\n",
    "<h3>Instructor: Michael Szell</h3>\n",
    "</div>"
   ]
  },
  {
   "cell_type": "markdown",
   "metadata": {},
   "source": [
    "# Source\n",
    "This notebook was adapted from:\n",
    "* Bruno Gonçalves / Data4Sci: https://github.com/DataForScience/Networks"
   ]
  },
  {
   "cell_type": "code",
   "execution_count": null,
   "metadata": {},
   "outputs": [],
   "source": [
    "from pprint import pprint\n",
    "\n",
    "import numpy as np\n",
    "import matplotlib.pyplot as plt"
   ]
  },
  {
   "cell_type": "markdown",
   "metadata": {},
   "source": [
    "# Graph class"
   ]
  },
  {
   "cell_type": "markdown",
   "metadata": {},
   "source": [
    "We now integrate our prefered graph representation (adjacency dict) into a class that we can build on. For now we provide it with just placeholders for our data"
   ]
  },
  {
   "cell_type": "code",
   "execution_count": null,
   "metadata": {},
   "outputs": [],
   "source": [
    "class Graph:\n",
    "    def __init__(self, directed=False):\n",
    "        self._nodes = {}\n",
    "        self._edges = {}\n",
    "        self._directed = directed"
   ]
  },
  {
   "cell_type": "markdown",
   "metadata": {},
   "source": [
    "For ease of explanation, we will be adding methods to this class as we progress. To allow for this in a convenient way, we must declare a Python decorator that will be in charge of modifying the class as we implement further functionality."
   ]
  },
  {
   "cell_type": "markdown",
   "metadata": {},
   "source": [
    "Understanding this function is not important for the scope of the lecture, but if you are curious, you can find more information on [Decorators](https://www.python.org/dev/peps/pep-0318/) and [setattr](https://docs.python.org/3/library/functions.html#setattr) in the offical Python documentation."
   ]
  },
  {
   "cell_type": "code",
   "execution_count": null,
   "metadata": {},
   "outputs": [],
   "source": [
    "def add_method(cls):\n",
    "    def decorator(func):\n",
    "        setattr(cls, func.__name__, func)\n",
    "        return func\n",
    "    return decorator"
   ]
  },
  {
   "cell_type": "markdown",
   "metadata": {},
   "source": [
    "We can already instantiate our skeleton class:"
   ]
  },
  {
   "cell_type": "code",
   "execution_count": null,
   "metadata": {},
   "outputs": [],
   "source": [
    "G = Graph()"
   ]
  },
  {
   "cell_type": "markdown",
   "metadata": {},
   "source": [
    "and verify that it has nothing hiding inside other than the default Python methods and the fields we defined"
   ]
  },
  {
   "cell_type": "code",
   "execution_count": null,
   "metadata": {},
   "outputs": [],
   "source": [
    "?dir"
   ]
  },
  {
   "cell_type": "code",
   "execution_count": null,
   "metadata": {},
   "outputs": [],
   "source": [
    "dir(G)"
   ]
  },
  {
   "cell_type": "markdown",
   "metadata": {},
   "source": [
    "## Nodes"
   ]
  },
  {
   "cell_type": "markdown",
   "metadata": {},
   "source": [
    "Now we add our first utility methods. *add_node* will be responsible for adding a single node to the Graph, while *add_nodes_from* will prove useful to add nodes in bulk. We can also add node attributes by passing keyword arguments to any of these two functions. Here is a detailed explanation of keyword arguments: https://realpython.com/python-kwargs-and-args/ In short, `**kwargs` allows to unpack a dictionary."
   ]
  },
  {
   "cell_type": "code",
   "execution_count": null,
   "metadata": {},
   "outputs": [],
   "source": [
    "@add_method(Graph)\n",
    "def add_node(self, node, **kwargs):\n",
    "    self._nodes[node] = kwargs"
   ]
  },
  {
   "cell_type": "code",
   "execution_count": null,
   "metadata": {},
   "outputs": [],
   "source": [
    "@add_method(Graph)\n",
    "def add_nodes_from(self, nodes, **kwargs):\n",
    "    for node in nodes:\n",
    "        if isinstance(node, tuple):\n",
    "            self._nodes[node[0]] = node[1:]\n",
    "        else:\n",
    "            self._nodes[node] = kwargs"
   ]
  },
  {
   "cell_type": "markdown",
   "metadata": {},
   "source": [
    "Let's check that it works as promised:"
   ]
  },
  {
   "cell_type": "code",
   "execution_count": null,
   "metadata": {},
   "outputs": [],
   "source": [
    "G.add_node(\"A\", color=\"blue\")"
   ]
  },
  {
   "cell_type": "code",
   "execution_count": null,
   "metadata": {},
   "outputs": [],
   "source": [
    "G._nodes"
   ]
  },
  {
   "cell_type": "code",
   "execution_count": null,
   "metadata": {},
   "outputs": [],
   "source": [
    "G.add_node(\"Z\", color=\"green\", size=14)"
   ]
  },
  {
   "cell_type": "code",
   "execution_count": null,
   "metadata": {},
   "outputs": [],
   "source": [
    "G._nodes"
   ]
  },
  {
   "cell_type": "code",
   "execution_count": null,
   "metadata": {},
   "outputs": [],
   "source": [
    "G.add_nodes_from(\"ABC\", color='red')"
   ]
  },
  {
   "cell_type": "code",
   "execution_count": null,
   "metadata": {},
   "outputs": [],
   "source": [
    "G._nodes"
   ]
  },
  {
   "cell_type": "markdown",
   "metadata": {},
   "source": [
    "Here it is important to note 2 things:\n",
    "\n",
    "- Since add_nodes_from expects the first argument to be a list of nodes, it treated each character of the string as an individual node\n",
    "- By adding the same node twice we overwrite the previous version."
   ]
  },
  {
   "cell_type": "markdown",
   "metadata": {},
   "source": [
    "# Edges"
   ]
  },
  {
   "cell_type": "markdown",
   "metadata": {},
   "source": [
    "Now we add the equivalent functionality for edges."
   ]
  },
  {
   "cell_type": "code",
   "execution_count": null,
   "metadata": {},
   "outputs": [],
   "source": [
    "@add_method(Graph)\n",
    "def add_edge(self, node_i, node_j, **kwargs):\n",
    "    if node_i not in self._nodes:\n",
    "        self.add_node(node_i)\n",
    "    \n",
    "    if node_j not in self._nodes:\n",
    "        self.add_node(node_j)\n",
    "    \n",
    "    if node_i not in self._edges:\n",
    "        self._edges[node_i] = {}\n",
    "        \n",
    "    if node_j not in self._edges[node_i]:\n",
    "        self._edges[node_i][node_j] = {}\n",
    "        \n",
    "    self._edges[node_i][node_j] = kwargs\n",
    "    \n",
    "    if not self._directed:\n",
    "        if node_j not in self._edges:\n",
    "            self._edges[node_j] = {}\n",
    "\n",
    "        if node_i not in self._edges[node_j]:\n",
    "            self._edges[node_j][node_i] = {}\n",
    "\n",
    "        self._edges[node_j][node_i] = kwargs\n",
    "        \n",
    "@add_method(Graph)\n",
    "def add_edges_from(self, edges, **kwargs):\n",
    "    for edge in edges:\n",
    "        self.add_edge(*edge, **kwargs)"
   ]
  },
  {
   "cell_type": "markdown",
   "metadata": {},
   "source": [
    "Before we proceed, let us create a new Graph object:"
   ]
  },
  {
   "cell_type": "code",
   "execution_count": null,
   "metadata": {},
   "outputs": [],
   "source": [
    "G = Graph()"
   ]
  },
  {
   "cell_type": "code",
   "execution_count": null,
   "metadata": {},
   "outputs": [],
   "source": [
    "G._directed"
   ]
  },
  {
   "cell_type": "markdown",
   "metadata": {},
   "source": [
    "And add the edges from the edge list we considered before"
   ]
  },
  {
   "cell_type": "code",
   "execution_count": null,
   "metadata": {},
   "outputs": [],
   "source": [
    "edge_list = [\n",
    "    ('A', 'B'),\n",
    "    ('A', 'C'),\n",
    "    ('A', 'E'),\n",
    "    ('B', 'C'),\n",
    "    ('C', 'D'),\n",
    "    ('C', 'E'),\n",
    "    ('D', 'E')]"
   ]
  },
  {
   "cell_type": "code",
   "execution_count": null,
   "metadata": {},
   "outputs": [],
   "source": [
    "G.add_edges_from(edge_list)"
   ]
  },
  {
   "cell_type": "markdown",
   "metadata": {},
   "source": [
    "And we can easily check that it looks correct, both for nodes and edges"
   ]
  },
  {
   "cell_type": "code",
   "execution_count": null,
   "metadata": {},
   "outputs": [],
   "source": [
    "G._nodes"
   ]
  },
  {
   "cell_type": "code",
   "execution_count": null,
   "metadata": {},
   "outputs": [],
   "source": [
    "G._edges"
   ]
  },
  {
   "cell_type": "markdown",
   "metadata": {},
   "source": [
    "For Completeness, we add a function to return a list of all the edges and their attributes (if any)"
   ]
  },
  {
   "cell_type": "code",
   "execution_count": null,
   "metadata": {},
   "outputs": [],
   "source": [
    "@add_method(Graph)\n",
    "def edgelist(self):\n",
    "    e = []\n",
    "    \n",
    "    for node_i in self._edges:\n",
    "        for node_j in self._edges[node_i]:\n",
    "            e.append([node_i, node_j, self._edges[node_i][node_j]])\n",
    "            \n",
    "    return e"
   ]
  },
  {
   "cell_type": "markdown",
   "metadata": {},
   "source": [
    "So we recover the undirected version of the edge list we started with"
   ]
  },
  {
   "cell_type": "code",
   "execution_count": null,
   "metadata": {},
   "outputs": [],
   "source": [
    "G.edgelist()"
   ]
  },
  {
   "cell_type": "markdown",
   "metadata": {},
   "source": [
    "## Graph properties"
   ]
  },
  {
   "cell_type": "markdown",
   "metadata": {},
   "source": [
    "Now that we have a minimally functional Graph object, we can start implementing functionality to retrieve information about the Graph."
   ]
  },
  {
   "cell_type": "markdown",
   "metadata": {},
   "source": [
    "### Node information"
   ]
  },
  {
   "cell_type": "markdown",
   "metadata": {},
   "source": [
    "Obtaining the number of nodes:"
   ]
  },
  {
   "cell_type": "code",
   "execution_count": null,
   "metadata": {},
   "outputs": [],
   "source": [
    "@add_method(Graph)\n",
    "def number_of_nodes(self):\n",
    "    return len(self._nodes)"
   ]
  },
  {
   "cell_type": "markdown",
   "metadata": {},
   "source": [
    "So we confirm that we have 5 nodes as expected"
   ]
  },
  {
   "cell_type": "code",
   "execution_count": null,
   "metadata": {},
   "outputs": [],
   "source": [
    "G.number_of_nodes()"
   ]
  },
  {
   "cell_type": "markdown",
   "metadata": {},
   "source": [
    "And to retrieve the degree of each node one must check the number of corresponding entries in the edge dictionary"
   ]
  },
  {
   "cell_type": "code",
   "execution_count": null,
   "metadata": {},
   "outputs": [],
   "source": [
    "@add_method(Graph)\n",
    "def degrees(self):\n",
    "    deg = {}\n",
    "    \n",
    "    for node in self._nodes:\n",
    "        if node in self._edges:\n",
    "            deg[node] =  len(self._edges[node])\n",
    "        else:\n",
    "            deg[node] = 0\n",
    "    \n",
    "    return deg"
   ]
  },
  {
   "cell_type": "markdown",
   "metadata": {},
   "source": [
    "With the expected results"
   ]
  },
  {
   "cell_type": "code",
   "execution_count": null,
   "metadata": {},
   "outputs": [],
   "source": [
    "G.degrees()"
   ]
  },
  {
   "cell_type": "markdown",
   "metadata": {},
   "source": [
    "### Edge Information"
   ]
  },
  {
   "cell_type": "markdown",
   "metadata": {},
   "source": [
    "The number of edges is given by:"
   ]
  },
  {
   "cell_type": "code",
   "execution_count": null,
   "metadata": {},
   "outputs": [],
   "source": [
    "@add_method(Graph)\n",
    "def number_of_edges(self):\n",
    "    n_edges = 0\n",
    "    \n",
    "    for node_i in self._edges:\n",
    "        n_edges += len(self._edges[node_i])\n",
    "    \n",
    "    # If the graph is undirected, don't double count the edges\n",
    "    if not self._directed:\n",
    "        n_edges /= 2\n",
    "    \n",
    "    return n_edges"
   ]
  },
  {
   "cell_type": "markdown",
   "metadata": {},
   "source": [
    "And so we find, as expected"
   ]
  },
  {
   "cell_type": "code",
   "execution_count": null,
   "metadata": {},
   "outputs": [],
   "source": [
    "G.number_of_edges()"
   ]
  },
  {
   "cell_type": "markdown",
   "metadata": {},
   "source": [
    "We also add a method to check if the graph id directed"
   ]
  },
  {
   "cell_type": "code",
   "execution_count": null,
   "metadata": {},
   "outputs": [],
   "source": [
    "@add_method(Graph)\n",
    "def is_directed(self):\n",
    "    return self._directed"
   ]
  },
  {
   "cell_type": "code",
   "execution_count": null,
   "metadata": {},
   "outputs": [],
   "source": [
    "G.is_directed()"
   ]
  },
  {
   "cell_type": "markdown",
   "metadata": {},
   "source": [
    "### Weights"
   ]
  },
  {
   "cell_type": "markdown",
   "metadata": {},
   "source": [
    "As we saw, each edge can potentially have a weight associated with it (it defaults to 1). We also provide a function to recover a dictionary mapping edges to weights"
   ]
  },
  {
   "cell_type": "code",
   "execution_count": null,
   "metadata": {},
   "outputs": [],
   "source": [
    "@add_method(Graph)\n",
    "def weights(self, weight=\"weight\"):\n",
    "    w = {}\n",
    "    \n",
    "    for node_i in self._edges:\n",
    "        for node_j in self._edges[node_i]:\n",
    "            if weight in self._edges[node_i][node_j]:\n",
    "                w[(node_i, node_j)] = self._edges[node_i][node_j][weight]\n",
    "            else:\n",
    "                w[(node_i, node_j)] = 1\n",
    "    return w"
   ]
  },
  {
   "cell_type": "markdown",
   "metadata": {},
   "source": [
    "As we didn't explicitly include any weight information in our graph, we find that all the weights are 1"
   ]
  },
  {
   "cell_type": "code",
   "execution_count": null,
   "metadata": {},
   "outputs": [],
   "source": [
    "G._edges['A']['B']['weight']=4"
   ]
  },
  {
   "cell_type": "code",
   "execution_count": null,
   "metadata": {},
   "outputs": [],
   "source": [
    "G.weights()"
   ]
  },
  {
   "cell_type": "markdown",
   "metadata": {},
   "source": [
    "### Topology and Correlations"
   ]
  },
  {
   "cell_type": "markdown",
   "metadata": {},
   "source": [
    "One particularly useful property of a graph is the list of nearest neighbors of a given node. With our formulation, this is particularly convenient to implement:"
   ]
  },
  {
   "cell_type": "code",
   "execution_count": null,
   "metadata": {},
   "outputs": [],
   "source": [
    "@add_method(Graph)\n",
    "def neighbours(self, node):\n",
    "    return list(self._edges[node].keys())"
   ]
  },
  {
   "cell_type": "markdown",
   "metadata": {},
   "source": [
    "So we find that node C has nearest neighbours nodes A, B, D, E:"
   ]
  },
  {
   "cell_type": "code",
   "execution_count": null,
   "metadata": {},
   "outputs": [],
   "source": [
    "G.neighbours('C')"
   ]
  },
  {
   "cell_type": "markdown",
   "metadata": {},
   "source": [
    "We are also intersted in the degree and weight distributions. Before we can compute them, we define a utility function to generate a probability distribution from a dictionary of values:"
   ]
  },
  {
   "cell_type": "code",
   "execution_count": null,
   "metadata": {},
   "outputs": [],
   "source": [
    "@add_method(Graph)\n",
    "def _build_distribution(data, normalize=True):\n",
    "    values = data.values()\n",
    "    dist = list(Counter(values).items())\n",
    "    dist.sort(key=lambda x:x[0])\n",
    "    dist = np.array(dist, dtype='float')\n",
    "           \n",
    "    if normalize:\n",
    "        norm = dist.T[1].sum()\n",
    "        dist.T[1] /= norm\n",
    "    \n",
    "    return dist"
   ]
  },
  {
   "cell_type": "markdown",
   "metadata": {},
   "source": [
    "By default the probability distribution is normalized such that the sum of all values is 1. Using this utility function we can now calculate the degree distribution:"
   ]
  },
  {
   "cell_type": "code",
   "execution_count": null,
   "metadata": {},
   "outputs": [],
   "source": [
    "@add_method(Graph)\n",
    "def degree_distribution(self, normalize=True):\n",
    "    deg = self.degrees()\n",
    "    dist = Graph._build_distribution(deg, normalize)\n",
    "    \n",
    "    return dist"
   ]
  },
  {
   "cell_type": "markdown",
   "metadata": {},
   "source": [
    "The degree distribution for our Graph is then:"
   ]
  },
  {
   "cell_type": "code",
   "execution_count": null,
   "metadata": {},
   "outputs": [],
   "source": [
    "G.degree_distribution(False)"
   ]
  },
  {
   "cell_type": "markdown",
   "metadata": {},
   "source": [
    "Where we can see that we have 2 nodes of both degree 2 and 3 and 1 of degree 4."
   ]
  },
  {
   "cell_type": "markdown",
   "metadata": {},
   "source": [
    "Similarly, for the weight distribution:"
   ]
  },
  {
   "cell_type": "code",
   "execution_count": null,
   "metadata": {},
   "outputs": [],
   "source": [
    "@add_method(Graph)\n",
    "def weight_distribution(self, normalize=True):\n",
    "    deg = self.weights()\n",
    "    dist = Graph._build_distribution(deg, normalize)\n",
    "    \n",
    "    return dist\n"
   ]
  },
  {
   "cell_type": "markdown",
   "metadata": {},
   "source": [
    "And we confirm that five edges have weight 1, while one edge has weight 4."
   ]
  },
  {
   "cell_type": "code",
   "execution_count": null,
   "metadata": {},
   "outputs": [],
   "source": [
    "G.weight_distribution()"
   ]
  },
  {
   "cell_type": "markdown",
   "metadata": {},
   "source": [
    "We now calculate the average degree of the nearest neighbours for each node."
   ]
  },
  {
   "cell_type": "code",
   "execution_count": null,
   "metadata": {},
   "outputs": [],
   "source": [
    "@add_method(Graph)\n",
    "def neighbour_degree(self):\n",
    "    knn = {}\n",
    "    deg = self.degrees()\n",
    "    \n",
    "    for node_i in self._edges:\n",
    "        NN = self.neighbours(node_i)\n",
    "        total = [deg[node_j] for node_j in NN]\n",
    "        knn[node_i] = np.mean(total)\n",
    "        \n",
    "    return knn"
   ]
  },
  {
   "cell_type": "code",
   "execution_count": null,
   "metadata": {},
   "outputs": [],
   "source": [
    "G.neighbour_degree()"
   ]
  },
  {
   "cell_type": "markdown",
   "metadata": {},
   "source": [
    "And the distribution by degree:"
   ]
  },
  {
   "cell_type": "code",
   "execution_count": null,
   "metadata": {},
   "outputs": [],
   "source": [
    "@add_method(Graph)\n",
    "def neighbour_degree_function(self):\n",
    "    knn = {}\n",
    "    count = {}\n",
    "    deg = self.degrees()\n",
    "    \n",
    "    for node_i in self._edges:\n",
    "        NN = self.neighbours(node_i)\n",
    "        total = [deg[node_j] for node_j in NN]\n",
    "        \n",
    "        curr_k = deg[node_i]\n",
    "        knn[curr_k] = knn.get(curr_k, 0) + np.mean(total)\n",
    "        count[curr_k] = count.get(curr_k, 0) + 1\n",
    "        \n",
    "    for curr_k in knn:\n",
    "        knn[curr_k]/=count[curr_k]\n",
    "    \n",
    "    knn = list(knn.items())\n",
    "    knn.sort(key=lambda x:x[0])\n",
    "    \n",
    "    return np.array(knn)"
   ]
  },
  {
   "cell_type": "markdown",
   "metadata": {},
   "source": [
    "From which we obtain:"
   ]
  },
  {
   "cell_type": "code",
   "execution_count": null,
   "metadata": {},
   "outputs": [],
   "source": [
    "G.neighbour_degree_function()"
   ]
  },
  {
   "cell_type": "markdown",
   "metadata": {},
   "source": [
    "# Zachary Karate Club"
   ]
  },
  {
   "cell_type": "markdown",
   "metadata": {},
   "source": [
    "Let's now look at an empirical Graph, from J. Anthro. Res. 33, 452 (1977)"
   ]
  },
  {
   "cell_type": "markdown",
   "metadata": {},
   "source": [
    "For convenience, we load the data from a file using numpy"
   ]
  },
  {
   "cell_type": "code",
   "execution_count": null,
   "metadata": {},
   "outputs": [],
   "source": [
    "edges = np.loadtxt('karate.txt')"
   ]
  },
  {
   "cell_type": "markdown",
   "metadata": {},
   "source": [
    "Now we can use the functions defined above to generate the corresponding graph"
   ]
  },
  {
   "cell_type": "code",
   "execution_count": null,
   "metadata": {},
   "outputs": [],
   "source": [
    "Karate = Graph()"
   ]
  },
  {
   "cell_type": "code",
   "execution_count": null,
   "metadata": {},
   "outputs": [],
   "source": [
    "Karate.add_edges_from(edges)"
   ]
  },
  {
   "cell_type": "markdown",
   "metadata": {},
   "source": [
    "Our graph has 34 nodes"
   ]
  },
  {
   "cell_type": "code",
   "execution_count": null,
   "metadata": {},
   "outputs": [],
   "source": [
    "Karate.number_of_nodes()"
   ]
  },
  {
   "cell_type": "markdown",
   "metadata": {},
   "source": [
    "And 78 edges"
   ]
  },
  {
   "cell_type": "code",
   "execution_count": null,
   "metadata": {},
   "outputs": [],
   "source": [
    "Karate.number_of_edges()"
   ]
  },
  {
   "cell_type": "markdown",
   "metadata": {},
   "source": [
    "The degree distribution is:"
   ]
  },
  {
   "cell_type": "code",
   "execution_count": null,
   "metadata": {},
   "outputs": [],
   "source": [
    "Pk = Karate.degree_distribution()"
   ]
  },
  {
   "cell_type": "code",
   "execution_count": null,
   "metadata": {},
   "outputs": [],
   "source": [
    "Pk"
   ]
  },
  {
   "cell_type": "markdown",
   "metadata": {},
   "source": [
    "Which we can plot:"
   ]
  },
  {
   "cell_type": "code",
   "execution_count": null,
   "metadata": {},
   "outputs": [],
   "source": [
    "fig = plt.figure(figsize=(4, 3))\n",
    "axes = fig.add_axes([0, 0, 1, 1])\n",
    "\n",
    "axes.bar(Pk.T[0], Pk.T[1])\n",
    "axes.set_ylim([0,0.35])\n",
    "axes.set_xlim([0,18])\n",
    "axes.set_xlabel('k')\n",
    "axes.set_ylabel('P(k)')\n",
    "axes.set_title(\"Degree distribution of Zachary Karate Club\");"
   ]
  },
  {
   "cell_type": "markdown",
   "metadata": {},
   "source": [
    "The average degree of the nearest neighbours as a function of the degree is:"
   ]
  },
  {
   "cell_type": "code",
   "execution_count": null,
   "metadata": {},
   "outputs": [],
   "source": [
    "knn = Karate.neighbour_degree_function()"
   ]
  },
  {
   "cell_type": "markdown",
   "metadata": {},
   "source": [
    "Which we plot as well"
   ]
  },
  {
   "cell_type": "code",
   "execution_count": null,
   "metadata": {},
   "outputs": [],
   "source": [
    "fig = plt.figure(figsize=(4, 3))\n",
    "axes = fig.add_axes([0, 0, 1, 1])\n",
    "\n",
    "axes.plot(knn.T[0], knn.T[1], '-o')\n",
    "axes.set_xlim([0,18])\n",
    "axes.set_ylim([0,17])\n",
    "axes.set_xlabel('$k$')\n",
    "axes.set_ylabel('$k_{nn}(k)$')\n",
    "axes.set_title(\"Average neighbor degrees of Zachary Karate Club\");"
   ]
  },
  {
   "cell_type": "markdown",
   "metadata": {},
   "source": [
    "Conclusion: knn(k) is decreasing. This is not normal in social networks and could show that something was \"wrong\", leading to the split."
   ]
  },
  {
   "cell_type": "markdown",
   "metadata": {},
   "source": [
    "***\n",
    "To wrap up this lecture, let's save the current state of our Graph class. For this we use some Jupyter Notebook magic. It's not important to understand this, but you can read about it in the [Jupyter notebook](https://jupyter-notebook.readthedocs.io/en/stable/examples/Notebook/Importing%20Notebooks.html) documentation."
   ]
  },
  {
   "cell_type": "code",
   "execution_count": null,
   "metadata": {},
   "outputs": [],
   "source": [
    "def export_class(path, filename):\n",
    "    import io\n",
    "    from nbformat import read\n",
    "\n",
    "    with io.open(path, 'r', encoding='utf-8') as f:\n",
    "        nb = read(f, 4)\n",
    "\n",
    "    fp = open(filename, \"wt\")\n",
    "\n",
    "    for cell in nb.cells:\n",
    "        if cell.cell_type == 'code':\n",
    "            first_line = cell.source.split('\\n')[0]\n",
    "            \n",
    "            if \"class \" in first_line or \"add_method\" in first_line:\n",
    "                print(cell.source, file=fp)\n",
    "\n",
    "                print(\"\\n\", file=fp)\n",
    "            elif \"import\" in first_line:\n",
    "                for line in cell.source.split('\\n'):\n",
    "                    if not line.startswith(\"%\"):\n",
    "                        print(line.strip(), file=fp)\n",
    "                        \n",
    "                print(\"\\n\", file=fp)\n",
    "\n",
    "    fp.close()"
   ]
  },
  {
   "cell_type": "markdown",
   "metadata": {},
   "source": [
    "After this line, we'll have a Python module called \"Graph.py\" containing all the methods in our Graph class."
   ]
  },
  {
   "cell_type": "code",
   "execution_count": null,
   "metadata": {},
   "outputs": [],
   "source": [
    "export_class('class23_graphproperties.ipynb', 'Graph.py')"
   ]
  }
 ],
 "metadata": {
  "kernelspec": {
   "display_name": "Python 3",
   "language": "python",
   "name": "python3"
  },
  "language_info": {
   "codemirror_mode": {
    "name": "ipython",
    "version": 3
   },
   "file_extension": ".py",
   "mimetype": "text/x-python",
   "name": "python",
   "nbconvert_exporter": "python",
   "pygments_lexer": "ipython3",
   "version": "3.7.4"
  }
 },
 "nbformat": 4,
 "nbformat_minor": 1
}
