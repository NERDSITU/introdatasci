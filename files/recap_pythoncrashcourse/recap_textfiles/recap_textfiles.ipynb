{
 "cells": [
  {
   "cell_type": "markdown",
   "metadata": {
    "slideshow": {
     "slide_type": "slide"
    }
   },
   "source": [
    "# Processing text files with `open()` and...\n",
    "\n",
    "### to read: `.read()`, `.readlines()`\n",
    "### to write: `.write()`, `writelines()`"
   ]
  },
  {
   "cell_type": "markdown",
   "metadata": {
    "slideshow": {
     "slide_type": "slide"
    }
   },
   "source": [
    "# `.read()`\n",
    "\n",
    "```python\n",
    "with open(\"filepath\", \"r\") as opened_file:\n",
    "    my_text = opened_file.read() \n",
    "# .read() will give you 1 single string\n",
    "```\n",
    "\n",
    "Note: the default mode is `\"r\"` (reading), so you don't *need* to specify it when reading in files."
   ]
  },
  {
   "cell_type": "code",
   "execution_count": null,
   "metadata": {
    "slideshow": {
     "slide_type": "slide"
    }
   },
   "outputs": [],
   "source": [
    "# let's read in poem.txt\n",
    "with open(\"data/poem.txt\", \"r\") as opened_file: \n",
    "    my_text = opened_file.read()\n",
    "my_text"
   ]
  },
  {
   "cell_type": "markdown",
   "metadata": {
    "slideshow": {
     "slide_type": "slide"
    }
   },
   "source": [
    "# `.readlines()`\n",
    "\n",
    "```python\n",
    "with open(\"filepath\", \"r\") as opened_file:\n",
    "    my_text = opened_file.readlines() \n",
    "# .readlines() will give you 1 string for each line\n",
    "```\n",
    "\n",
    "Note: the default mode is `\"r\"` (reading), so you don't *need* to specify it when reading in files."
   ]
  },
  {
   "cell_type": "code",
   "execution_count": null,
   "metadata": {
    "slideshow": {
     "slide_type": "slide"
    }
   },
   "outputs": [],
   "source": [
    "# let's read in poem.txt one more time\n",
    "with open(\"data/poem.txt\") as opened_file:\n",
    "    my_text = opened_file.readlines()\n",
    "type(my_text[0])"
   ]
  },
  {
   "cell_type": "markdown",
   "metadata": {
    "slideshow": {
     "slide_type": "slide"
    }
   },
   "source": [
    "# `.write()`\n",
    "\n",
    "```python\n",
    "with open(\"filepath\", \"w\") as opened_file:\n",
    "    opened_file.write(my_text) \n",
    "    # if text is 1 single string\n",
    "```"
   ]
  },
  {
   "cell_type": "code",
   "execution_count": null,
   "metadata": {
    "slideshow": {
     "slide_type": "slide"
    }
   },
   "outputs": [],
   "source": [
    "# run this cell to define the variable \"first_words\" (we will write it to a file)\n",
    "first_words = \"Mr. Watson - Come here - I want to see you\"\n",
    "print(first_words)"
   ]
  },
  {
   "cell_type": "code",
   "execution_count": null,
   "metadata": {
    "slideshow": {
     "slide_type": "slide"
    }
   },
   "outputs": [],
   "source": [
    "# first_words is a string, write it to file with .write():\n",
    "with open(\"data/firstwords.txt\", \"w\") as opened_file:\n",
    "    opened_file.write(first_words)"
   ]
  },
  {
   "cell_type": "markdown",
   "metadata": {
    "slideshow": {
     "slide_type": "slide"
    }
   },
   "source": [
    "# `.writelines()`\n",
    "\n",
    "```python\n",
    "with open(\"filepath\", \"w\") as opened_file:\n",
    "    opened_file.writelines(my_text) \n",
    "    # if text is a list of strings\n",
    "```"
   ]
  },
  {
   "cell_type": "code",
   "execution_count": null,
   "metadata": {
    "slideshow": {
     "slide_type": "slide"
    }
   },
   "outputs": [],
   "source": [
    "# what if first_words is a list?\n",
    "first_words = [\"Mr. Watson\\n\", \"Come here\\n\", \"I want to see you\\n\"]\n",
    "with open(\"data/firstwords_list.txt\", \"w\") as opened_file:\n",
    "    opened_file.write(first_words)"
   ]
  }
 ],
 "metadata": {
  "kernelspec": {
   "display_name": "Python 3 (ipykernel)",
   "language": "python",
   "name": "python3"
  },
  "language_info": {
   "codemirror_mode": {
    "name": "ipython",
    "version": 3
   },
   "file_extension": ".py",
   "mimetype": "text/x-python",
   "name": "python",
   "nbconvert_exporter": "python",
   "pygments_lexer": "ipython3",
   "version": "3.9.7"
  }
 },
 "nbformat": 4,
 "nbformat_minor": 2
}
