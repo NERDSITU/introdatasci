{
 "cells": [
  {
   "cell_type": "markdown",
   "metadata": {},
   "source": [
    "<div class=\"frontmatter text-center\">\n",
    "<h1>Introduction to Data Science and Programming</h1>\n",
    "<h2>Exercise 6: Python Crash Course - Strings, text, and IO</h2>\n",
    "<h3>IT University of Copenhagen, Fall 2023</h3>\n",
    "</div>"
   ]
  },
  {
   "cell_type": "markdown",
   "metadata": {},
   "source": [
    "* Task 1: Working with built-in modules\n",
    "* Task 2: Simulating a dice game\n",
    "* Tasks 3-5: String formatting & text file processing. (**Note** Task 5 is an extra challenge!)"
   ]
  },
  {
   "cell_type": "markdown",
   "metadata": {},
   "source": [
    "# Task 1: Exploring built-in Python modules\n",
    "\n",
    "In each of the code snippets below, we import a built-in module (or a single function from a module), and then call one of the module's functions.\n",
    "\n",
    "Explore the code output, as well as the [documentation](https://docs.python.org/3/py-modindex.html#) of the corresponding Python module, to answer the questions about the code snippets."
   ]
  },
  {
   "cell_type": "code",
   "execution_count": null,
   "metadata": {},
   "outputs": [],
   "source": [
    "# the operator module\n",
    "from operator import add\n",
    "result_sub = add(4,3)\n",
    "\n",
    "# what does the variable \"result\" contain?\n",
    "# >>> the result from the addition 4+3\n",
    "\n",
    "# how can you access the sub() function in the operator module,\n",
    "# for the following line of code to work?\n",
    "# result_sub = sub(4,3)\n",
    "# >>> you need to import the function sub from the module, too:\n",
    "from operator import sub\n",
    "result_sub = sub(4,3)"
   ]
  },
  {
   "cell_type": "code",
   "execution_count": null,
   "metadata": {},
   "outputs": [],
   "source": [
    "# >>> OR:\n",
    "import operator\n",
    "operator.sub(4,3)"
   ]
  },
  {
   "cell_type": "code",
   "execution_count": null,
   "metadata": {},
   "outputs": [],
   "source": [
    "# the time module:\n",
    "import time\n",
    "time_in_secs = time.time()\n",
    "print(time_in_secs)\n",
    "time_as_str = time.ctime(time_in_secs)\n",
    "print(time_as_str)\n",
    "\n",
    "# What does the number saved in the variable time_in_secs represent?\n",
    "# >>> the number of seconds that have passed since Jan 1, 1970,\n",
    "# >>> until the moment that you run your code\n",
    "\n",
    "# What does the function ctime() from the time module do?\n",
    "# >>> it converts this number of seconds into a human-readable string format"
   ]
  },
  {
   "cell_type": "code",
   "execution_count": null,
   "metadata": {},
   "outputs": [],
   "source": [
    "# the Counter function from the collections module:\n",
    "mysnacks = [\"cookies\", \"apple\", \"orange\", \"sandwich\", \"apple\", \"apple\"]\n",
    "from collections import Counter\n",
    "myCounter = Counter(mysnacks)\n",
    "# explain what the object myCounter now contains!\n",
    "myCounter\n",
    "# >>> myCounter is a dictionary, where keys are UNIQUE items from the list,\n",
    "# >>> and values are the number of times each of the items appears on the list"
   ]
  },
  {
   "cell_type": "markdown",
   "metadata": {
    "tags": []
   },
   "source": [
    "# Task 2: Simulating a dice game\n",
    "\n",
    "Now that we know how to simulate dice with the `random` module,  let's play a game! The rules are simple: you have `N` dice;  you throw them `M` times; if the sum of all your dice in all throws is bigger than `S`, you win. For example, if `N=3`, `M=2`, and `S=20`, it means that you have N=3 dice that you are allowed to throw M=2 times, and you win if all your points add up to at least S=20. \n",
    "\n",
    "**Write a function `win_dice_game` that:**\n",
    "* takes as input \n",
    "    * `n_dice` (the number of dice in the game), \n",
    "    * `n_throws` (the number of times the dice are thrown), and \n",
    "    * `points_win` (the number of points you need to have to win) \n",
    "* uses a function of your choice from the [`random` module](https://docs.python.org/3/library/random.html) to simulate the dice throw\n",
    "* computes the sum of all points from the dice throw\n",
    "* compares the sum to `points_win` and returns either `True` (if you win, i.e. if the sum is equal to or greater than `points_win`) or `False` otherwise\n",
    "\n",
    "**Use your function `win_dice_game()` to simulate 100 games**, with different settings. What percentage of games did you win if:\n",
    "* you have 2 dice, are allowed 3 throws, and need at least 20 points to win?\n",
    "* you have 5 dice, are allowed 5 throws, and need at least 120 points to win?\n",
    "\n",
    "How many games do you need to play with the second configuration (5 dice, 5 throws, and at least 120 points to win) if you want to win at least once? (Just experiment with your code by increasing/decreasing the number of games played, no mathematical formula needed - but you can **try** to come up with one!)"
   ]
  },
  {
   "cell_type": "code",
   "execution_count": null,
   "metadata": {
    "tags": []
   },
   "outputs": [],
   "source": [
    "# import random module, which we will need\n",
    "import random\n",
    "\n",
    "# define your function\n",
    "def win_dice_game(n_dice, n_throws, points_win):\n",
    "    '''\n",
    "    function that takes 3 integer values and returns True/False\n",
    "    '''\n",
    "    # initiate variable where we will sum points from all dice and all throws: \n",
    "    total_points = 0\n",
    "    # throw exactly n_throws times:\n",
    "    for _ in range(n_throws):\n",
    "        # each iteration step is one thrown of n_dice dices\n",
    "        throw_points = random.choices(\n",
    "            population=range(1,7),\n",
    "            k = n_dice\n",
    "            )\n",
    "        # convert to list so that we don't have to differentiate\n",
    "        # between throwing 1 dice and throwing n>1 dice\n",
    "        # and always use the sum() function:\n",
    "        throw_points = list(throw_points)\n",
    "        # print(\"dice show: \", throw_points)\n",
    "        # add the points from this throw to the \"points\" variable\n",
    "        # print(\"points at current throw:\", sum(throw_points))\n",
    "        total_points += sum(throw_points)\n",
    "    # after the for loop, all our throws are done,\n",
    "    # now we compare our total number of points to the number of points to win:\n",
    "    # print(\"total points:\", points)\n",
    "    if total_points >= points_win:\n",
    "        #print(\"you win!\")\n",
    "        return True\n",
    "    else:\n",
    "        #print(\"you lose!\")\n",
    "        return False\n"
   ]
  },
  {
   "cell_type": "code",
   "execution_count": null,
   "metadata": {
    "tags": []
   },
   "outputs": [],
   "source": [
    "# check if it works:\n",
    "win_dice_game(2,1,10)"
   ]
  },
  {
   "cell_type": "code",
   "execution_count": null,
   "metadata": {
    "tags": []
   },
   "outputs": [],
   "source": [
    "# simulate 100 games with:\n",
    "# 2 dice, 3 throws, 20 points to win\n",
    "games_won = 0\n",
    "for _ in range(100):\n",
    "    current_game = win_dice_game(n_dice=2, n_throws=3, points_win=20)\n",
    "    games_won += current_game\n",
    "    # since current_game is either True of False (1 or 0 in int interpretation),\n",
    "    # we can simply add it to the games_won variable\n",
    "print(games_won, \"out of 100 games won\")"
   ]
  },
  {
   "cell_type": "code",
   "execution_count": null,
   "metadata": {
    "tags": []
   },
   "outputs": [],
   "source": [
    "# simulate 100 games with:\n",
    "# 5 dice, 5 throws, 120 points to win\n",
    "games_won = 0\n",
    "for _ in range(100):\n",
    "    current_game = win_dice_game(n_dice=5, n_throws=5, points_win=120)\n",
    "    games_won += current_game\n",
    "    # since current_game is either True of False (1 or 0 in int interpretation),\n",
    "    # we can simply add it to the games_won variable\n",
    "print(games_won, \"out of 100 games won\")"
   ]
  },
  {
   "cell_type": "code",
   "execution_count": null,
   "metadata": {
    "tags": []
   },
   "outputs": [],
   "source": [
    "# simulate N games with:\n",
    "# 5 dice, 5 throws, 120 points to win\n",
    "# experimenting with N (number of games) from the list:\n",
    "games_played = [100, 500, 1000, 5000, 10000, 20000, 50000]\n",
    "for N in games_played:\n",
    "    games_won = 0\n",
    "    for _ in range(N): # current number of games\n",
    "        current_game = win_dice_game(n_dice=5, n_throws=5, points_win=120)\n",
    "        games_won += current_game\n",
    "        # since current_game is either True of False (1 or 0 in int interpretation),\n",
    "        # we can simply add it to the games_won variable\n",
    "    print(games_won, \"out of\", N, \"games won\")"
   ]
  },
  {
   "cell_type": "markdown",
   "metadata": {},
   "source": [
    "# Task 3: String formatting - Capital cities\n",
    "\n",
    "Below, we provide you with a dictionary `capitals`, that contains key-value pairs with countries as keys, and their capital cities as values. Let's do some data cleaning first:\n",
    "* Some cities' names contain numbers; these need to be deleted\n",
    "* Some cities' names consist of several words, but lack a white space; insert a white space where appropriate (for example, \"AddisAbaba\" needs to be formatted into \"Addis Ababa\").\n",
    "\n",
    "Now, use the `f'{}'` syntax to generate a file where in each line contains one sentence: `The capital of <country> is <city>.`, inserting countries and capitals from the dictionary. Save the file to `capitals.txt`. "
   ]
  },
  {
   "cell_type": "code",
   "execution_count": null,
   "metadata": {},
   "outputs": [],
   "source": [
    "capitals = {\n",
    "    \"Nigeria\" : \"Abuja\",\n",
    "    \"Colombia\" : \"0Bo0gotá\",\n",
    "    \"Gibraltar\": \"Gibr2altar\",\n",
    "    \"Ethiopia\": \"AddisAb3aba\",\n",
    "    \"United Arab Emirates\": \"AbuDhab7i\"\n",
    "}"
   ]
  },
  {
   "cell_type": "code",
   "execution_count": null,
   "metadata": {},
   "outputs": [],
   "source": [
    "# import re module\n",
    "import re\n",
    "\n",
    "# remove numbers from dictionary values with the help of the \"\\d\" or \"\\d+\" regex \n",
    "\n",
    "# loop through dictionary items\n",
    "for key, value in capitals.items():\n",
    "    # loop through all numbers that were found in the value string\n",
    "    for item in re.findall(\"\\d\", value):\n",
    "        # reassign the new value, where item (the number) is replaced by \"\" (an empty string)\n",
    "        capitals[key] = capitals[key].replace(item, \"\")        \n",
    "capitals"
   ]
  },
  {
   "cell_type": "code",
   "execution_count": null,
   "metadata": {},
   "outputs": [],
   "source": [
    "# add white spaces before capital letters \n",
    "# (you can use the regex \"[A-Z]\" to find capital letters)\n",
    "\n",
    "# the way we know that a white space is missing:\n",
    "# if there is a capital letter \"in the middle\" of the word,\n",
    "# i.e. at position >0.\n",
    "\n",
    "# as above, loop through dictionary items,\n",
    "# this time inserting a white space BEFORE a capital letter,\n",
    "# if it is at a position >0.\n",
    "# loop through dictionary items\n",
    "for key, value in capitals.items():\n",
    "    # loop through all numbers that were found in the value string (excluding the first letter)\n",
    "    for item in re.findall(\"[A-Z]\", value[1:]):\n",
    "        # replace the capital letter by (whitespace + the capital letter)\n",
    "        capitals[key] = capitals[key].replace(item, \" \" + item)\n",
    "capitals"
   ]
  },
  {
   "cell_type": "code",
   "execution_count": null,
   "metadata": {},
   "outputs": [],
   "source": [
    "# open up the file; with the opened file,\n",
    "    # loop through the dictionary items;\n",
    "    # create a sentence from keys and values (with string formatting) at each iteration step;\n",
    "    # wrte the sentence + a linebreak (expressed as \"\\n\") string to the file\n",
    "\n",
    "\n",
    "# create the file\n",
    "with open('capitals.txt', 'w') as opened_file:\n",
    "    # loop through the dictionary items\n",
    "    for key, value in capitals.items():\n",
    "        # create the sentence for this key-value pair\n",
    "        sentence = f\"The capital of {key} is {value}.\"\n",
    "        # write the sentence to the file\n",
    "        opened_file.write(sentence)\n",
    "        # add a line break\n",
    "        opened_file.write(\"\\n\")"
   ]
  },
  {
   "cell_type": "markdown",
   "metadata": {},
   "source": [
    "# Task 4: Text processing - Numbers in an article\n",
    "\n",
    "In the file `article.txt`, we provide the text of this [Guardian article](https://www.theguardian.com/commentisfree/2023/jul/12/progress-climate-european-greenlash-populist-right) by Nathalie Tucci. Let's say we are **VERY** interested in all the **numbers** that she used in the article. Your tasks:\n",
    "\n",
    "* `.read()` in the text file \n",
    "* find all the numbers (of one or more characters, with the regex `\"\\d+\"`) mentioned in the text, and print them out\n",
    "* `.split()` the text into separate sentences\n",
    "* loop through the sentences, `.append()`ing only the ones that contain numbers to a list\n",
    "* Additional challenge: try to write this list to a text file, so that every line in the text file is a sentence (with a number) from the article"
   ]
  },
  {
   "cell_type": "code",
   "execution_count": null,
   "metadata": {},
   "outputs": [],
   "source": [
    "# if not done yet, import the re module\n",
    "import re"
   ]
  },
  {
   "cell_type": "code",
   "execution_count": null,
   "metadata": {},
   "outputs": [],
   "source": [
    "# .read() in the text file\n",
    "with open('files/article.txt', 'r') as opened_file:\n",
    "    my_text = opened_file.read()"
   ]
  },
  {
   "cell_type": "code",
   "execution_count": null,
   "metadata": {},
   "outputs": [],
   "source": [
    "# print out all numbers (regex \"\\d+\") that you can find\n",
    "re.findall(\"\\d+\", my_text)"
   ]
  },
  {
   "cell_type": "code",
   "execution_count": null,
   "metadata": {},
   "outputs": [],
   "source": [
    "# split into sentences \n",
    "\n",
    "# with the \".\" as separator\n",
    "sentences = my_text.split(\". \")\n",
    "sentences # my sentences is now a list of strings, every string is a sentence (now without the \".\")"
   ]
  },
  {
   "cell_type": "code",
   "execution_count": null,
   "metadata": {},
   "outputs": [],
   "source": [
    "# find all sentences that contain numbers, and append them to a list\n",
    "\n",
    "sentences_with_numbers = []\n",
    "\n",
    "for sentence in sentences:\n",
    "    if re.search(\"\\d+\", sentence):\n",
    "        sentences_with_numbers.append(sentence)\n",
    "\n",
    "print(sentences_with_numbers)"
   ]
  },
  {
   "cell_type": "code",
   "execution_count": null,
   "metadata": {},
   "outputs": [],
   "source": [
    "# Challenge: write the sentences_with_numbers to a file\n",
    "\n",
    "with open(\"sentences_with_numbers.txt\", \"w\") as opened_file:\n",
    "    for sentence in sentences_with_numbers:\n",
    "        opened_file.write(sentence + \"\\n\") # write each sentence plus a line break\n"
   ]
  },
  {
   "cell_type": "markdown",
   "metadata": {},
   "source": [
    "## Task 5: Text processing - programmers' feelings\n",
    "\n",
    "Remember the Menti survey from lecture 01? We copied (most of) your replies to the question \"How do you feel about programming?\" into a text file, `feelings.txt` (provided together with this notebook in a zipped folder). **You want to find out what the 5 most common feelings were.** However, there is some data cleaning to do!\n",
    "\n",
    "You can go about it your own way; **or** take some inspiration from the instructions below:\n",
    "\n",
    "* Read in the file, with the method of your choice (`.read()` or `.readlines()`)\n",
    "* Remove all line breaks and tabulators (`\"\\n\", \"\\t\"`)\n",
    "* You will see that some lines contain only one word, while other lines contain several words; make sure that you can access each word separately (this will depend on what method you choce to read in the file)\n",
    "* since we don't care about upper/lowercase spelling, convert everything to lower case with the `.lower()` method \n",
    "* Create a dictionary where `keys` are words (feelings) and `values` are the number of times they appear. (`Counter` from the `collections` method might help!)\n",
    "* Print out all keys to look through them, and remove the keys that you think don't belong in the list (that don't contain feelings) from the dictionary\n",
    "* Now you can count the number of times each feeling was mentioned (again, with the method of your choice). What were the top 5 most common feelings?"
   ]
  },
  {
   "cell_type": "code",
   "execution_count": null,
   "metadata": {},
   "outputs": [],
   "source": [
    "# open the file and read it in\n",
    "\n",
    "with open(\"files/feelings.txt\", \"r\") as opened_file:\n",
    "    my_lines = opened_file.readlines()"
   ]
  },
  {
   "cell_type": "code",
   "execution_count": null,
   "metadata": {},
   "outputs": [],
   "source": [
    "# remove line breaks \"\\n\" and tabulators \"\\t\"\n",
    "# white spaces should be treated as separators between words (use them to .split() the string(s))\n",
    "# convert all words into lower case\n",
    "\n",
    "wordlist = [] # initiate an empty list of words\n",
    "for line in my_lines:\n",
    "    while \"\\n\" in line:\n",
    "        line = line.replace(\"\\n\", \"\") # removing \"new line\" signs\n",
    "    while \"\\t\" in line:\n",
    "        line = line.replace(\"\\t\", \" \") # removing \"tabulator\" signs\n",
    "    words = line.split(\" \") # split words (white space as separator)\n",
    "    for word in words:\n",
    "        if word: # i.e. if the word is not empty\n",
    "            wordlist.append(word.lower()) # append its lower-case version to the list"
   ]
  },
  {
   "cell_type": "code",
   "execution_count": null,
   "metadata": {},
   "outputs": [],
   "source": [
    "# use the Counter function from the collections module\n",
    "# to get a dictionary where keys are unique words from the list\n",
    "# and values are number of times they appear on the list\n",
    "from collections import Counter\n",
    "wordCounter = Counter(wordlist) "
   ]
  },
  {
   "cell_type": "code",
   "execution_count": null,
   "metadata": {},
   "outputs": [],
   "source": [
    "# print out the keys of the Counter dictionary (i.e. unique words)\n",
    "# make a list of words you want to remove from the dictionary\n",
    "print(wordCounter.keys())\n",
    "words_to_remove = [\"klingon\", \"computer\", \"nerdge\", \"potato\", \"stonks\", \"jens\", \"aug\", \"klingoin\", \"kligon\"]"
   ]
  },
  {
   "cell_type": "code",
   "execution_count": null,
   "metadata": {},
   "outputs": [],
   "source": [
    "# remove the words\n",
    "for word in words_to_remove:\n",
    "    del(wordCounter[word])"
   ]
  },
  {
   "cell_type": "code",
   "execution_count": null,
   "metadata": {},
   "outputs": [],
   "source": [
    "# show the highest 10 counts\n",
    "sorted(wordCounter.values(), reverse = True)[0:10]"
   ]
  },
  {
   "cell_type": "code",
   "execution_count": null,
   "metadata": {},
   "outputs": [],
   "source": [
    "# we are interested in the first 5 positions - \n",
    "# all words that have been mentioned 7 or more times\n",
    "\n",
    "# initiate a new dictionary, we will copy only the top 5 here\n",
    "frequent_feelings = {}\n",
    "\n",
    "for key, value in wordCounter.items():\n",
    "    if value >= 7:\n",
    "        frequent_feelings[key] = value       "
   ]
  },
  {
   "cell_type": "code",
   "execution_count": null,
   "metadata": {},
   "outputs": [],
   "source": [
    "print(frequent_feelings)"
   ]
  }
 ],
 "metadata": {
  "kernelspec": {
   "display_name": "Python 3 (ipykernel)",
   "language": "python",
   "name": "python3"
  },
  "language_info": {
   "codemirror_mode": {
    "name": "ipython",
    "version": 3
   },
   "file_extension": ".py",
   "mimetype": "text/x-python",
   "name": "python",
   "nbconvert_exporter": "python",
   "pygments_lexer": "ipython3",
   "version": "3.9.7"
  }
 },
 "nbformat": 4,
 "nbformat_minor": 4
}
