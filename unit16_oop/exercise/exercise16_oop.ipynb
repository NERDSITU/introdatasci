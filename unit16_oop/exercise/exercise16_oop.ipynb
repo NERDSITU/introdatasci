{
 "cells": [
  {
   "cell_type": "markdown",
   "metadata": {},
   "source": [
    "<div class=\"frontmatter text-center\">\n",
    "<h1> Introduction to Data Science and Programming</h1>\n",
    "<h2>Exercise 16: Object oriented programming</h2>\n",
    "<h3>IT University of Copenhagen, Fall 2023</h3>\n",
    "</div>"
   ]
  },
  {
   "cell_type": "code",
   "execution_count": 2,
   "metadata": {},
   "outputs": [],
   "source": [
    "from math import pi\n",
    "import random"
   ]
  },
  {
   "cell_type": "markdown",
   "metadata": {},
   "source": [
    "# Classes and Objects\n",
    "An object is, simply put, a collection of variables and functions that make up a single entity, and objects get their variables and functions from classes. This means that classes are essentially blueprints to create objects. \n",
    "\n",
    "Just like we can have many houses made from the same blueprint in real life, we can create many objects from a class. An object is also called an instance of a class.\n",
    "\n",
    "Class names are per convention usually written in pascal case (WhichLooksLikeThis), and class methods are written in dromedary case (whichLooksSlightlyDifferent)."
   ]
  },
  {
   "cell_type": "markdown",
   "metadata": {},
   "source": [
    "## Sphere\n",
    "\n",
    "\n",
    "### 16.1. Write a class to represent spheres\n",
    "A skeleton class with a finished constructor and the method `getRadius` (returns the radius) has been provided for this first exercise.\n",
    "\n",
    "Your job is to implement the following class methods: \n",
    "- `surfaceArea` -- should return the surface area as a float rounded to 3 decimal points \n",
    "- `volume` -- should return the volume as a float rounded to 3 decimal points\n",
    "\n",
    "$$sphere_{surfaceArea} = 4 \\pi r^{2} $$\n",
    "$$sphere_{volume} = \\frac{4}{3} \\pi r^{3} $$\n",
    "\n",
    "We have imported `pi` from the math library for you"
   ]
  },
  {
   "cell_type": "code",
   "execution_count": 1,
   "metadata": {},
   "outputs": [],
   "source": [
    "class Sphere: \n",
    "    def __init__(self, radius):\n",
    "        self.radius = radius\n",
    "    \n",
    "    def getRadius(self):\n",
    "        return self.radius\n",
    "    \n",
    "    def surfaceArea(self):\n",
    "        return\n",
    "    \n",
    "    def volume(self):\n",
    "        return"
   ]
  },
  {
   "cell_type": "markdown",
   "metadata": {},
   "source": [
    "### 16.2. Make a couple of instances of the new Sphere class and apply the methods\n",
    "Set the variable `sphereX` to be an instance of your new 'Sphere' class.  \n",
    "Give it the radius `X` as a parameter and use the built-in functions to obtain the radius, surface area and volume.\n",
    "___\n",
    "`sphere1 = Sphere(1)`\n",
    "\n",
    "`sphere1.getRadius()`  \n",
    "\\>\\> `1.0`  \n",
    "\n",
    "`sphere1.surfaceArea()`  \n",
    "\\>\\> `12.566`  \n",
    "\n",
    "`sphere1.volume()`  \n",
    "\\>\\> `4.189`  "
   ]
  },
  {
   "cell_type": "code",
   "execution_count": null,
   "metadata": {},
   "outputs": [],
   "source": []
  },
  {
   "cell_type": "markdown",
   "metadata": {},
   "source": [
    "## Cube\n",
    "\n",
    "### 16.3. Write a class to represent cubes\n",
    "Just like the Sphere class from before, but this time you have to do it from scratch and with a much cooler shape.\n",
    "\n",
    "The constructor (`__init__`) should, in addition to `self`, accept the side length, `s`, as a parameter. Remember, as this is a cube, all the sides will be of the same length, and so we only need to supply the length as a single parameter.\n",
    "\n",
    "Implement the following class methods: \n",
    "- `getSide` -- should return the side length as an unrounded float\n",
    "- `surfaceArea` -- should return the surface area as a float rounded to 3 decimal points \n",
    "- `volume` -- should return the volume as a float rounded to 3 decimal points\n",
    "\n",
    "$$cube_{surfaceArea} = 6 s^{2} $$\n",
    "$$cube_{volume} = s^{3} $$\n",
    "\n",
    "Make a couple of instances of the Cube class with different side lengths, and use the built-in functions you made to obtain the side lengths, surface areas and volumes.\n",
    "___\n",
    "`cube5 = Cube(5)`  \n",
    "\n",
    "`cube5.getSide()`  \n",
    "\\>\\> `5.0`  \n",
    "\n",
    "`cube5.surfaceArea()`  \n",
    "\\>\\> `150.0`  \n",
    "\n",
    "`cube5.volume()`  \n",
    "\\>\\> `125.0`"
   ]
  },
  {
   "cell_type": "code",
   "execution_count": null,
   "metadata": {},
   "outputs": [],
   "source": []
  },
  {
   "cell_type": "markdown",
   "metadata": {},
   "source": [
    "## Playing cards\n",
    "\n",
    "Here we will implement a string representation for our class, so we can print our objects in a sensible way. Try running `print(sphere1)` to see for yourself why this is necessary. \n",
    "\n",
    "The method `__str__` is one of the so-called [magic methods](https://www.geeksforgeeks.org/dunder-magic-methods-python/) in Python. If asked to convert an object into a string, i.e. for a print statement, Python uses this method if it exists.\n",
    "\n",
    "### 16.4. Implement a class to represent a playing card\n",
    "Your class should have the following methods:\n",
    "- `__init__ (self, rank, suit)` -- Creates the corresponding card\n",
    "    - rank is an integer with value 1-13 indicating the ranks ace-king\n",
    "    - suit is a single character string `'d'`, `'c'`, `'h'`, or `'s'` indicating the suit (diamonds, clubs, hearts, or spades). \n",
    " \n",
    "- `getRank(self)` -- Returns the rank of the card as an int.\n",
    "- `getSuit(self)` -- Returns the suit of the card as a single character string.\n",
    "- `value(self)` -- Returns the value of a card. \n",
    "    - Ace counts as `15`\n",
    "    - All normal numbered cards have their rank as value, i.e. 8 of hearts counts as `8`\n",
    "    - All face cards count as `10`\n",
    "- `__str__(self)` -- Returns a string that names the card. For example, `'Ace of Spades'`."
   ]
  },
  {
   "cell_type": "markdown",
   "metadata": {},
   "source": []
  },
  {
   "cell_type": "markdown",
   "metadata": {},
   "source": [
    "### 16.5. Make a function that simulates drawing a number of cards\n",
    "Hint: [random.randrange()](https://www.w3schools.com/python/ref_random_randrange.asp) and [random.choice()](https://www.w3schools.com/python/ref_random_choice.asp)\n",
    "      \n",
    "Test your Card class with a function, `drawCards(n)`, that returns a list of `n` randomly generated card objects and their associated value as a tuples of length 2.\n",
    "___\n",
    "Example of requested behaviour:\n",
    "\n",
    "`drawCards(3)`  \n",
    "\\>\\> `[(Ace of Spades, 15), (Queen of Hearts, 10), (6 of Diamonds, 6)]`"
   ]
  },
  {
   "cell_type": "code",
   "execution_count": null,
   "metadata": {},
   "outputs": [],
   "source": []
  },
  {
   "cell_type": "markdown",
   "metadata": {},
   "source": [
    "### 16.6. Make a function that simulates a single round of the card game \"war\"\n",
    "Using the class created for playing cards, make a function, `war()` that simulates a single round of the children's card game \"war\". The rules are simple: \n",
    "- There are two players, A and B.\n",
    "- Each player is given 1 random card.\n",
    "- The player with the highest card value wins (suits do not matter).\n",
    "\n",
    "Use your `drawCards()` function from exercise 16.7 to draw the card for each player.\n",
    "\n",
    "The function should return one of three options: `'A wins!'`, `'B wins!'` or `'Tie'`.\n",
    "\n",
    "For a **bonus challenge**, ensure that the two players cannot draw the same card, i.e. they should not be able to both draw the Queen of Hearts at the same time. \n",
    "___\n",
    "\n",
    "Example of requested behaviour:\n",
    "\n",
    "`war()`  \n",
    "\\>\\> `A wins!`"
   ]
  },
  {
   "cell_type": "code",
   "execution_count": null,
   "metadata": {},
   "outputs": [],
   "source": []
  },
  {
   "cell_type": "markdown",
   "metadata": {},
   "source": [
    "## Bonus Questions"
   ]
  },
  {
   "cell_type": "markdown",
   "metadata": {},
   "source": [
    "### BONUS\n",
    "Create a regular deck of 52 playing cards (use a list containing Card objects). Remember to [shuffle](https://www.w3schools.com/python/ref_random_shuffle.asp) the deck!\n",
    "\n",
    "Write a script to simulate a complete game of \"war\" with two players.  \n",
    "The full rules are as follows:\n",
    "- The two players get dealt half the deck each. Each player should begin the game with 26 cards in their pile.\n",
    "- A round is played. The person who has the higher card value wins the cards played in the round.\n",
    "- If the round is a tie, players put the tied cards -- as well as three additional cards each from the top of their piles -- in the 'ante' and play another round. The winner of this round also wins all cards in the 'ante'.\n",
    "- Cards won go on the bottom of the winning player's pile.\n",
    "- The order of the cards when they go to the bottom of a player's pile is arbitrary. You may shuffle them if you like.\n",
    "- The players keep playing rounds until one player has *all* the cards and thus wins the game.\n",
    "- If there is a tie, and a player has too few cards to do the ante (and flip a new card after), they lose the game.\n",
    "\n",
    "Hint: https://www.geeksforgeeks.org/python-list-pop/\n",
    "\n",
    "Try to figure out a way to detect whether a player's stack of cards is empty before trying to draw a card. Otherwise you might run into an `IndexError` when trying to pop from an empty list.\n",
    "\n",
    "**This means that you should not rely on a try-except!**"
   ]
  },
  {
   "cell_type": "code",
   "execution_count": null,
   "metadata": {},
   "outputs": [],
   "source": []
  }
 ],
 "metadata": {
  "kernelspec": {
   "display_name": "Python 3 (ipykernel)",
   "language": "python",
   "name": "python3"
  },
  "language_info": {
   "codemirror_mode": {
    "name": "ipython",
    "version": 3
   },
   "file_extension": ".py",
   "mimetype": "text/x-python",
   "name": "python",
   "nbconvert_exporter": "python",
   "pygments_lexer": "ipython3",
   "version": "3.9.7"
  }
 },
 "nbformat": 4,
 "nbformat_minor": 4
}
