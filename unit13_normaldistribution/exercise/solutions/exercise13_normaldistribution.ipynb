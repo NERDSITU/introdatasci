{
 "cells": [
  {
   "cell_type": "markdown",
   "metadata": {},
   "source": [
    "<div class=\"frontmatter text-center\">\n",
    "<h1> Introduction to Data Science and Programming</h1>\n",
    "<h2>Exercise 13: Normal distribution</h2>\n",
    "<h3>IT University of Copenhagen, Fall 2023</h3>\n",
    "</div>"
   ]
  },
  {
   "cell_type": "code",
   "execution_count": null,
   "metadata": {},
   "outputs": [],
   "source": [
    "import numpy as np\n",
    "import matplotlib.pyplot as plt\n",
    "import re\n",
    "import scipy.stats as stats"
   ]
  },
  {
   "cell_type": "markdown",
   "metadata": {},
   "source": [
    "# A Data Riddle"
   ]
  },
  {
   "cell_type": "markdown",
   "metadata": {},
   "source": [
    "The Riddler is a weekly column at [fivethirtyeight](https://fivethirtyeight.com/), where they offer puzzles on maths, logic and probability. These puzzles are often solved using data analysis approaches. Here we focus on the normal distribution.\n",
    "\n",
    "The following puzzle could originally be found [here](https://fivethirtyeight.com/features/are-you-the-best-warlord/). The puzzle received submissions from around 1500 users, and their submissions are available [here](https://github.com/fivethirtyeight/data/blob/master/riddler-castles/castle-solutions-3.csv)."
   ]
  },
  {
   "cell_type": "markdown",
   "metadata": {},
   "source": [
    "___\n",
    "#### Are you The Best Warlord?\n",
    "\n",
    "In a distant, war-torn land, there are two warlords: you and your archenemy.\n",
    "\n",
    "In this land, there are ten castles. Each castle has its own strategic value for a would-be conqueror. Specifically, the castles are worth 1, 2, 3, …, 9, and 10 victory points (corresponding to the castle number). This means there are 55 victory points in total up for grabs points in the war.\n",
    "\n",
    "You and your enemy each have 100 soldiers to distribute, any way you like, to fight at any of the ten castles. Whoever sends more soldiers to a given castle conquers that castle and wins its victory points. If you each send the same number of troops, you split the points. \n",
    "\n",
    "You don’t know what distribution of forces your enemy has chosen until the battles begin. Whoever wins the most points wins the war.\n",
    "___"
   ]
  },
  {
   "cell_type": "markdown",
   "metadata": {},
   "source": [
    "In the exercises for today you will be working with these submitted solutions to the puzzle, which can be found in `submissions.txt`.\n",
    "\n",
    "The file has the following variables:\n",
    "\n",
    "| Column index | Variable | Definition |\n",
    "| -:- | :- | :- | \n",
    "| 0 | Castle 1 | The number of troops deployed to the castle |\n",
    "| 1 | Castle 2 | The number of troops deployed to the castle |\n",
    "| 2 | Castle 3 | The number of troops deployed to the castle |\n",
    "| 3 | Castle 4 | The number of troops deployed to the castle |\n",
    "| 4 | Castle 5 | The number of troops deployed to the castle |\n",
    "| 5 | Castle 6 | The number of troops deployed to the castle |\n",
    "| 6 | Castle 7 | The number of troops deployed to the castle |\n",
    "| 7 | Castle 8 | The number of troops deployed to the castle |\n",
    "| 8 | Castle 9 | The number of troops deployed to the castle |\n",
    "| 9 | Castle 10 | The number of troops deployed to the castle |\n",
    "| 10 | Why did you choose your troop deployment? | String containing the reasoning behind the submission |\n"
   ]
  },
  {
   "cell_type": "markdown",
   "metadata": {},
   "source": [
    "### 13.0. Load the data and convert it to a numpy array\n",
    "Inspect the `submissions.txt` file and read through the provided function below to understand what each line does\n",
    "\n",
    "Once you've done that, apply the function to the `submissions.txt` file and convert the resulting data structure into a numpy array which you will use for the rest of the exercises."
   ]
  },
  {
   "cell_type": "code",
   "execution_count": null,
   "metadata": {},
   "outputs": [],
   "source": [
    "def read_csv(filepath):\n",
    "    output = []\n",
    "    regex = \"^\\d+,\\d+,\\d+,\\d+,\\d+,\\d+,\\d+,\\d+,\\d+,\\d+\"\n",
    "    with open(filepath, \"r\", errors=\"replace\") as file:\n",
    "        lines = file.readlines()\n",
    "    for line in lines:\n",
    "        regex_find = re.search(regex,line)\n",
    "        if regex_find:\n",
    "            line = regex_find.group() \n",
    "            line = line.split(\",\") \n",
    "            line = [int(value) for value in line]\n",
    "            output.append(line)\n",
    "    return output"
   ]
  },
  {
   "cell_type": "code",
   "execution_count": null,
   "metadata": {
    "scrolled": true
   },
   "outputs": [],
   "source": [
    "data = np.array(read_csv('files/submissions.txt'))\n",
    "data.shape"
   ]
  },
  {
   "cell_type": "markdown",
   "metadata": {},
   "source": [
    "### 13.1. Clean the data\n",
    "\n",
    "We know that there are supposed to be 100 deployed troops in total per submission. This is not the case for all of the submissions, however, so we need to clean the data.\n",
    "\n",
    "Extract the rows where the sum over all the castles of the row is 100 and store your cleaned data in a new numpy array. \n",
    "___\n",
    "\n",
    "Clean data array shape: `(1321,10)`"
   ]
  },
  {
   "cell_type": "code",
   "execution_count": null,
   "metadata": {},
   "outputs": [],
   "source": [
    "data = data[np.sum(data, axis=1)==100, :]\n",
    "data.shape"
   ]
  },
  {
   "cell_type": "markdown",
   "metadata": {},
   "source": [
    "### 13.2. Find the mean and standard deviation of each castle's number of deployed troops\n",
    "Hint: Check the jupyter notebook from today's lecture.\n",
    "\n",
    "For each castle, fit the distribution as a normal distribution (using `stats.norm.fit`) and obtain its mean, `mu`, and standard deviation, `sigma`. \n",
    "___\n",
    "\n",
    "For `Castle 1`, at column index 0, you should get mu `2.025` and sigma `3.875`."
   ]
  },
  {
   "cell_type": "code",
   "execution_count": null,
   "metadata": {},
   "outputs": [],
   "source": [
    "# fits = [stats.norm.fit(data[:, i]) for i in range(data.shape[1])]\n",
    "fits = np.array(list((zip(np.mean(data, axis=0), np.std(data, axis=0))))) # double the speed\n",
    "fits"
   ]
  },
  {
   "cell_type": "markdown",
   "metadata": {},
   "source": [
    "### 13.3. Plot histogram and corresponding normal distribution\n",
    "Hint: Check the lecture jupyter notebook\n",
    "\n",
    "For the castle (column) with the **highest mean value**, plot the histogram and the corresponding normal distribution. This normal distribution can be obtained using `stats.norm.fit()`."
   ]
  },
  {
   "cell_type": "code",
   "execution_count": null,
   "metadata": {},
   "outputs": [],
   "source": [
    "max_mean_castle = np.argmax(fits[:, 0])\n",
    "\n",
    "def plot_dist(castle_id):\n",
    "    fig, ax = plt.subplots()\n",
    "    ax.hist(data[:, castle_id], bins=25, density=True);\n",
    "    xs = np.linspace(min(data[:, castle_id]), max(data[:, castle_id]), 100)\n",
    "    ax.plot(xs, stats.norm.pdf(xs, fits[castle_id, 0], fits[castle_id, 1]), c='red')\n",
    "    ax.set_title('Troop Deployment Distribution');\n",
    "    ax.set_xlabel('Number of Troops deployed');\n",
    "    ax.set_ylabel('Frequency');\n",
    "\n",
    "plot_dist(max_mean_castle)"
   ]
  },
  {
   "cell_type": "markdown",
   "metadata": {},
   "source": [
    "### 13.4. Plot histogram and corresponding normal distribution\n",
    "Hint: Check the lecture jupyter notebook\n",
    "\n",
    "For the castle (column) with the **lowest standard deviation value**, plot the histogram and the corresponding normal distribution. This normal distribution can be obtained using `stats.norm.fit()`."
   ]
  },
  {
   "cell_type": "code",
   "execution_count": null,
   "metadata": {},
   "outputs": [],
   "source": [
    "min_std_castle = np.argmin(fits[:, 1])\n",
    "\n",
    "plot_dist(min_std_castle)"
   ]
  },
  {
   "cell_type": "markdown",
   "metadata": {},
   "source": [
    "### 13.5. Plot histogram and corresponding normal distribution\n",
    "Hint: Check the lecture jupyter notebook\n",
    "\n",
    "For the castle (column) with the **highest standard deviation value**, plot the histogram and the corresponding normal distribution. This normal distribution can be obtained using `stats.norm.fit()`."
   ]
  },
  {
   "cell_type": "code",
   "execution_count": null,
   "metadata": {},
   "outputs": [],
   "source": [
    "max_std_castle = np.argmax(fits[:, 1])\n",
    "\n",
    "plot_dist(max_std_castle)"
   ]
  },
  {
   "cell_type": "markdown",
   "metadata": {},
   "source": [
    "### 13.6. Check if the above data distributions are good fits as normal distribution \n",
    "Hint: Check the lecture jupyter notebook\n",
    "\n",
    "Plot the Q-Q plots for the three castles from the prior exercises and verify, and if the above data distributions are good fits as normal distribution."
   ]
  },
  {
   "cell_type": "code",
   "execution_count": null,
   "metadata": {},
   "outputs": [],
   "source": [
    "import statsmodels.api as sm"
   ]
  },
  {
   "cell_type": "code",
   "execution_count": null,
   "metadata": {},
   "outputs": [],
   "source": [
    "fig, ax = plt.subplots(ncols=3, figsize=(6*3, 4))\n",
    "for i, x in enumerate([max_mean_castle, min_std_castle, max_std_castle]):\n",
    "    sm.qqplot(data[:, x], dist=\"norm\", ax=ax[i], line='45')\n",
    "    ax[i].set_title(f'QQ-Plot for Normal fit on Castle {x+1}')"
   ]
  },
  {
   "cell_type": "markdown",
   "metadata": {},
   "source": [
    "### 13.7. Find the mode(s) and median for each of the 10 castles\n",
    "\n",
    "Hint: \n",
    "- https://docs.scipy.org/doc/scipy/reference/generated/scipy.stats.mode.html\n",
    "- https://numpy.org/doc/stable/reference/generated/numpy.median.html\n",
    "\n",
    "___\n",
    "Mode: `[[ 1,  1,  1,  1,  1,  0,  0, 20,  0,  0]]`\n",
    "Median: `[ 1.  2.  3.  6.  9. 12. 14. 18. 18. 14.]`"
   ]
  },
  {
   "cell_type": "code",
   "execution_count": null,
   "metadata": {},
   "outputs": [],
   "source": [
    "print(list(stats.mode(data, axis=0))[0][0])\n",
    "print(np.median(data, axis=0).astype(int))"
   ]
  },
  {
   "cell_type": "markdown",
   "metadata": {},
   "source": [
    "### 13.8. Calculate the scores for all of the potential 'battles' of each player\n",
    "For each submission (row), compare it with every other row and calculate the score for each player in each of the simulated 'battles'.\n",
    "\n",
    "The result will be 1321x1321 matrix. Each value at position (i,j) in the matrix will represent the score of player i in the battle against player j. So the first value in the first row is the result of submission 0 against itself, the second value in the first row is the result of submission 0 against submission 1, etc.\n",
    "\n",
    "Recall the rules:\n",
    "\n",
    "- The castles are worth 1, 2, 3, …, 9, and 10 victory points (corresponding to the castle number).\n",
    "- Whoever sends more soldiers to a given castle conquers that castle and wins its victory points.\n",
    "- If you each send the same number of troops, you split the points equally.\n",
    "\n",
    "Remember there are 55 points at stake in each 'battle'. This means that the sum of (i,j) and (j,i) should be 55. Check that this holds for your finished matrix.\n",
    "\n",
    "The matrix will contain the value `22.5` along the diagonal (because you are of course evenly matched with yourself as an oponent). \n",
    "___\n",
    "\n",
    "The player with the submission in the original row 0 in the data (who is therefore also at row 0 in the score matrix) has the following scores: \n",
    "\n",
    "`[22.5, 27. , 17. , ..., 22. , 21. , 30. ]`"
   ]
  },
  {
   "cell_type": "code",
   "execution_count": null,
   "metadata": {},
   "outputs": [],
   "source": [
    "results = np.zeros((1321, 1321))\n",
    "points = np.array(range(1, 11))\n",
    "for i in range(data.shape[0]):\n",
    "    for j in range(data.shape[0]):\n",
    "        # compute points of i against player j\n",
    "        results[i][j] = sum(points[data[i] > data[j]]) + sum(points[data[i] == data[j]] / 2)"
   ]
  },
  {
   "cell_type": "code",
   "execution_count": null,
   "metadata": {},
   "outputs": [],
   "source": [
    "for i in range(1321):\n",
    "    for j in range(1321):\n",
    "        if results[i][j] + results[j][i] != 55:\n",
    "            print('non equal')\n",
    "print('all good')"
   ]
  },
  {
   "cell_type": "markdown",
   "metadata": {},
   "source": [
    "### 13.9. Calculate the number of wins, ties, and losses for each of the submissions\n",
    " \n",
    "The result should be a 1321x3 matrix with the three columns `[wins ties losses]`.\n",
    "___\n",
    "Result for submission at row 0: `[754, 17, 550]`"
   ]
  },
  {
   "cell_type": "code",
   "execution_count": null,
   "metadata": {},
   "outputs": [],
   "source": [
    "stats = []\n",
    "for i, results in enumerate(results):\n",
    "    w = t = l = 0\n",
    "    for r in results:\n",
    "        if r > 27.5:\n",
    "            w+=1\n",
    "        elif r < 27.5:\n",
    "            l+=1\n",
    "        else: \n",
    "            t+=1\n",
    "    stats.append([w, t, l])\n",
    "\n",
    "stats = np.array(stats)"
   ]
  },
  {
   "cell_type": "code",
   "execution_count": null,
   "metadata": {},
   "outputs": [],
   "source": [
    "stats[0]"
   ]
  },
  {
   "cell_type": "markdown",
   "metadata": {},
   "source": [
    "### 13.10. Plot the histogram based on the number of wins per submission\n",
    "Hint: Check the lecture jupyter notebook"
   ]
  },
  {
   "cell_type": "code",
   "execution_count": null,
   "metadata": {},
   "outputs": [],
   "source": [
    "fig, ax = plt.subplots()\n",
    "ax.hist(stats[:, 0]);"
   ]
  },
  {
   "cell_type": "markdown",
   "metadata": {},
   "source": [
    "### 13.11. Plot the histogram based on the number of losses per submission\n",
    "Hint: Check the lecture jupyter notebook\n"
   ]
  },
  {
   "cell_type": "code",
   "execution_count": null,
   "metadata": {},
   "outputs": [],
   "source": [
    "fig, ax = plt.subplots()\n",
    "ax.hist(stats[:, -1]);"
   ]
  },
  {
   "cell_type": "markdown",
   "metadata": {},
   "source": [
    "### 13.12. Check if the distributions in exercise 13.10 and 13.11 follow a normal distribution\n",
    "Hint: Make QQ plots (check the lecture notebook)"
   ]
  },
  {
   "cell_type": "code",
   "execution_count": null,
   "metadata": {},
   "outputs": [],
   "source": [
    "# use same code on other data"
   ]
  },
  {
   "cell_type": "markdown",
   "metadata": {},
   "source": [
    "### 13.13. Find the top 5 submissions based on their number of wins\n",
    "Hint: https://numpy.org/doc/stable/reference/generated/numpy.argsort.html\n",
    "\n",
    "Find the indices of the 5 submissions with the highest number of wins.\n",
    "___\n",
    "Indices: `609, 805, 178, 1222, 470`"
   ]
  },
  {
   "cell_type": "code",
   "execution_count": null,
   "metadata": {},
   "outputs": [],
   "source": [
    "indices = list(reversed(np.argsort(stats[:, 0])[-5:]))\n",
    "\n",
    "for i, index in enumerate(indices):\n",
    "    print(f'Submission #{indices[i]} won {stats[index][0]}: {data[index]}')"
   ]
  }
 ],
 "metadata": {
  "kernelspec": {
   "display_name": "Python 3 (ipykernel)",
   "language": "python",
   "name": "python3"
  },
  "language_info": {
   "codemirror_mode": {
    "name": "ipython",
    "version": 3
   },
   "file_extension": ".py",
   "mimetype": "text/x-python",
   "name": "python",
   "nbconvert_exporter": "python",
   "pygments_lexer": "ipython3",
   "version": "3.9.7"
  }
 },
 "nbformat": 4,
 "nbformat_minor": 4
}
