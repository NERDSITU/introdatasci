{
 "cells": [
  {
   "cell_type": "markdown",
   "metadata": {
    "slideshow": {
     "slide_type": "slide"
    },
    "tags": []
   },
   "source": [
    "<div class=\"frontmatter text-center\">\n",
    "<h1>Introduction to Data Science and Programming</h1>\n",
    "<h2>Lecture 13: Normal distributions</h2>\n",
    "<h3>IT University of Copenhagen, Fall 2023</h3>\n",
    "<h3>Instructor: Michael Szell</h3>\n",
    "</div>"
   ]
  },
  {
   "cell_type": "code",
   "execution_count": null,
   "metadata": {},
   "outputs": [],
   "source": [
    "import numpy as np\n",
    "import matplotlib.pyplot as plt"
   ]
  },
  {
   "cell_type": "markdown",
   "metadata": {
    "slideshow": {
     "slide_type": "slide"
    }
   },
   "source": [
    "## Loading a data set and initial data analysis"
   ]
  },
  {
   "cell_type": "code",
   "execution_count": null,
   "metadata": {
    "slideshow": {
     "slide_type": "-"
    }
   },
   "outputs": [],
   "source": [
    "# Data set downloaded from: https://www.kaggle.com/mustafaali96/weight-height/downloads/weight-height.zip/1\n",
    "!head files/weightheight.csv"
   ]
  },
  {
   "cell_type": "markdown",
   "metadata": {},
   "source": [
    "This data set contains gender, height [inches], and weight [pounds] about individuals."
   ]
  },
  {
   "cell_type": "code",
   "execution_count": null,
   "metadata": {
    "slideshow": {
     "slide_type": "slide"
    }
   },
   "outputs": [],
   "source": [
    "dataweightheight = np.loadtxt('files/weightheight.csv', skiprows=1, delimiter=',')"
   ]
  },
  {
   "cell_type": "code",
   "execution_count": null,
   "metadata": {},
   "outputs": [],
   "source": [
    "print(dataweightheight.shape)"
   ]
  },
  {
   "cell_type": "code",
   "execution_count": null,
   "metadata": {
    "slideshow": {
     "slide_type": "slide"
    }
   },
   "outputs": [],
   "source": [
    "# Turn data metric\n",
    "dataweightheight[:,1] *= 2.54\n",
    "dataweightheight[:,2] *= 0.453592\n",
    "dataweightheight[:10,:]"
   ]
  },
  {
   "cell_type": "markdown",
   "metadata": {
    "slideshow": {
     "slide_type": "slide"
    }
   },
   "source": [
    "## Exploratory data analysis of quantitative variables"
   ]
  },
  {
   "cell_type": "code",
   "execution_count": null,
   "metadata": {
    "slideshow": {
     "slide_type": "-"
    }
   },
   "outputs": [],
   "source": [
    "bins = [5, 30, 200, 2000]\n",
    "fig, axes = plt.subplots(nrows=1, ncols=4, figsize=(16, 3))\n",
    "\n",
    "maskmale = (dataweightheight[:,0] == 0)\n",
    "for ax, i in zip(axes, range(4)):\n",
    "    ax.hist(dataweightheight[maskmale,1], bins[i], density=True);\n",
    "    ax.set_ylim([0,0.1])\n",
    "    ax.set_xlabel('Height')\n",
    "    if i==0:\n",
    "        ax.set_ylabel('Relative frequency')\n",
    "    ax.set_title('Histogram of male heights');"
   ]
  },
  {
   "cell_type": "markdown",
   "metadata": {},
   "source": [
    "***\n",
    "What is going on?\n",
    "***"
   ]
  },
  {
   "cell_type": "code",
   "execution_count": null,
   "metadata": {
    "slideshow": {
     "slide_type": "slide"
    }
   },
   "outputs": [],
   "source": [
    "fig = plt.figure(figsize=(4, 3)) # create figure object with a (width,height)\n",
    "axes = fig.add_axes([0, 0, 1, 1]) # left, bottom, width, height (range 0 to 1)\n",
    "\n",
    "# Plot histogram of data\n",
    "axes.hist(dataweightheight[maskmale,1], 40, density=True, alpha=0.6, color='g', edgecolor='black', linewidth=1.2);\n",
    "axes.set_xlabel('Height')\n",
    "axes.set_ylabel('Relative frequency')\n",
    "axes.set_title('Histogram of male heights');\n",
    "\n",
    "# Plot a normal distribution on top\n",
    "import scipy.stats as stats\n",
    "mu, sigma = stats.norm.fit(dataweightheight[maskmale,1])\n",
    "\n",
    "xmin, xmax = axes.get_xlim()\n",
    "x = np.linspace(xmin, xmax, 100)\n",
    "y = stats.norm.pdf(x, mu, sigma)\n",
    "axes.plot(x, y, 'k', linewidth=2.5);"
   ]
  },
  {
   "cell_type": "code",
   "execution_count": null,
   "metadata": {},
   "outputs": [],
   "source": [
    "x"
   ]
  },
  {
   "cell_type": "code",
   "execution_count": null,
   "metadata": {
    "slideshow": {
     "slide_type": "slide"
    }
   },
   "outputs": [],
   "source": [
    "# Interactive version\n",
    "from ipywidgets import interact\n",
    "import ipywidgets as widgets\n",
    "\n",
    "def plot_func(bins):\n",
    "    fig = plt.figure(figsize=(4, 3)) # create figure object with a (width,height)\n",
    "    axes = fig.add_axes([0, 0, 1, 1])\n",
    "    axes.hist(dataweightheight[maskmale,1], int(bins), density=True, alpha=0.6, color='g', edgecolor='black', linewidth=1);\n",
    "    axes.set_ylim([0,0.06])\n",
    "    axes.set_xlabel('Height')\n",
    "    axes.set_ylabel('Relative frequency')\n",
    "    axes.set_title('Histogram of male heights');\n",
    "    axes.plot(x, y, 'k', linewidth=2.5);\n",
    "\n",
    "interact(plot_func, bins = widgets.FloatSlider(value=3, min=3, max=40, step=1));"
   ]
  },
  {
   "cell_type": "markdown",
   "metadata": {
    "slideshow": {
     "slide_type": "slide"
    }
   },
   "source": [
    "We plotted a normal distribution on top. Visually it looks like a good fit. Play around with the bins.\n",
    "\n",
    "This normal distribution has two parameters: the mean mu and standard deviation sigma.\n",
    "They completely determine the shape of the whole curve."
   ]
  },
  {
   "cell_type": "code",
   "execution_count": null,
   "metadata": {},
   "outputs": [],
   "source": [
    "mu, sigma"
   ]
  },
  {
   "cell_type": "markdown",
   "metadata": {
    "slideshow": {
     "slide_type": "slide"
    }
   },
   "source": [
    "Back to presentation"
   ]
  },
  {
   "cell_type": "markdown",
   "metadata": {
    "slideshow": {
     "slide_type": "slide"
    }
   },
   "source": [
    "Play around with different spreads. The area under the whole curve always has to be 1."
   ]
  },
  {
   "cell_type": "code",
   "execution_count": null,
   "metadata": {
    "slideshow": {
     "slide_type": "-"
    }
   },
   "outputs": [],
   "source": [
    "# Interactive version\n",
    "from ipywidgets import interact\n",
    "import ipywidgets as widgets\n",
    "\n",
    "def plot_func(sigma):\n",
    "    fig = plt.figure(figsize=(4, 3)) # create figure object with a (width,height)\n",
    "    axes = fig.add_axes([0, 0, 1, 1])\n",
    "    y = stats.norm.pdf(x, mu, sigma)\n",
    "    axes.plot(x, y, 'k', linewidth=2.5);\n",
    "    axes.set_ylim([0,0.07])\n",
    "    axes.set_xlim([x.min(),x.max()])\n",
    "    axes.set_xlabel('Height')\n",
    "    axes.set_ylabel('Relative frequency')\n",
    "    axes.set_title('Model of male heights with different spreads');\n",
    "    \n",
    "interact(plot_func, sigma = widgets.FloatSlider(value=7, min=1, max=12, step=0.5));"
   ]
  },
  {
   "cell_type": "markdown",
   "metadata": {
    "slideshow": {
     "slide_type": "slide"
    }
   },
   "source": [
    "### Q-Q plots"
   ]
  },
  {
   "cell_type": "code",
   "execution_count": null,
   "metadata": {},
   "outputs": [],
   "source": [
    "import statsmodels.api as sm  # For the Q-Q plot\n",
    "import scipy.stats as stats  # For generating random data and for fitting"
   ]
  },
  {
   "cell_type": "markdown",
   "metadata": {
    "slideshow": {
     "slide_type": "slide"
    }
   },
   "source": [
    "Let's check if the male heights are normally distributed:"
   ]
  },
  {
   "cell_type": "code",
   "execution_count": null,
   "metadata": {
    "scrolled": true
   },
   "outputs": [],
   "source": [
    "fig = plt.figure(figsize=(3, 3))\n",
    "axes = fig.add_axes([0, 0, 1, 1])\n",
    "sm.qqplot(dataweightheight[maskmale,1], stats.norm, fit=True, line='45',ax=axes)\n",
    "# fit=True just means that the quantiles are formed from the standardized data\n",
    "\n",
    "# Few commands to make the plot look nicer:\n",
    "axes.set_ylim([-4,4]); axes.set_xlim([-4,4])\n",
    "axes.set_xticks(axes.get_yticks()); axes.grid()\n",
    "axes.set_title(\"Q-Q plot for male heights\");"
   ]
  },
  {
   "cell_type": "markdown",
   "metadata": {},
   "source": [
    "All the points lie on the straight line, so the normal distribution is a good assumption."
   ]
  },
  {
   "cell_type": "code",
   "execution_count": null,
   "metadata": {
    "slideshow": {
     "slide_type": "slide"
    }
   },
   "outputs": [],
   "source": [
    "# Alternatively, use s.cipy.statsprobplot\n",
    "\n",
    "fig = plt.figure(figsize=(3, 3)) # create figure object with a (width,height)\n",
    "axes = fig.add_axes([0, 0, 1, 1])\n",
    "stats.probplot(dataweightheight[maskmale,1], dist='norm', plot=axes);"
   ]
  },
  {
   "cell_type": "markdown",
   "metadata": {
    "slideshow": {
     "slide_type": "slide"
    }
   },
   "source": [
    "We now generate a new data set of 500 \"alien heights\" that is unimodal and symmetric to test normality. Notice anything particular when you scroll through the data?"
   ]
  },
  {
   "cell_type": "code",
   "execution_count": null,
   "metadata": {
    "slideshow": {
     "slide_type": "-"
    }
   },
   "outputs": [],
   "source": [
    "np.random.seed(seed=6)\n",
    "dataalienheights = stats.cauchy.rvs(loc=175, scale=6.7, size=514)\n",
    "dataalienheights = dataalienheights[dataalienheights > 100]\n",
    "\n",
    "print(dataalienheights.mean())\n",
    "dataalienheights"
   ]
  },
  {
   "cell_type": "code",
   "execution_count": null,
   "metadata": {
    "slideshow": {
     "slide_type": "slide"
    }
   },
   "outputs": [],
   "source": [
    "fig = plt.figure(figsize=(4, 3))\n",
    "axes = fig.add_axes([0, 0, 1, 1])\n",
    "\n",
    "# Plot histogram of data\n",
    "axes.hist(dataalienheights, 30, range=(145,205), density=True, alpha=0.6, color='g', edgecolor='black', linewidth=1.2);\n",
    "axes.set_xlabel('Height')\n",
    "axes.set_ylabel('Relative frequency')\n",
    "axes.set_title('Histogram of alien heights');"
   ]
  },
  {
   "cell_type": "code",
   "execution_count": null,
   "metadata": {
    "scrolled": true,
    "slideshow": {
     "slide_type": "slide"
    }
   },
   "outputs": [],
   "source": [
    "fig = plt.figure(figsize=(4, 3))\n",
    "axes = fig.add_axes([0, 0, 1, 1]) \n",
    "\n",
    "# Plot histogram of data\n",
    "axes.hist(dataalienheights, 30, range=(145,205), density=True, alpha=0.6, color='g', edgecolor='black', linewidth=1.2);\n",
    "axes.set_xlabel('Height')\n",
    "axes.set_ylabel('Relative frequency')\n",
    "axes.set_title('Histogram of alien heights');\n",
    "\n",
    "# Plot a normal distribution on top\n",
    "axes.plot(x, y, 'k', linewidth=2.5);"
   ]
  },
  {
   "cell_type": "markdown",
   "metadata": {
    "slideshow": {
     "slide_type": "-"
    }
   },
   "source": [
    "Looks like this could be a normal distribution. To make sure let's check the Q-Q plot."
   ]
  },
  {
   "cell_type": "code",
   "execution_count": null,
   "metadata": {
    "slideshow": {
     "slide_type": "slide"
    }
   },
   "outputs": [],
   "source": [
    "fig = plt.figure(figsize=(3, 3)) # create figure object with a (width,height)\n",
    "axes = fig.add_axes([0, 0, 1, 1])\n",
    "sm.qqplot(dataalienheights, stats.norm, fit=True, line='45',ax=axes);\n",
    "\n",
    "# Few commands to make the plot look nicer:\n",
    "axes.set_ylim([-5,20]); axes.set_xlim([-5,20])\n",
    "axes.grid()\n",
    "axes.set_title(\"Q-Q plot for alien heights\");"
   ]
  },
  {
   "cell_type": "markdown",
   "metadata": {},
   "source": [
    "This is definitely not a normal distribution!"
   ]
  },
  {
   "cell_type": "markdown",
   "metadata": {
    "slideshow": {
     "slide_type": "slide"
    }
   },
   "source": [
    "If we remove the \"outliers\" it is still a bad fit:"
   ]
  },
  {
   "cell_type": "code",
   "execution_count": null,
   "metadata": {},
   "outputs": [],
   "source": [
    "fig = plt.figure(figsize=(3, 3)) # create figure object with a (width,height)\n",
    "axes = fig.add_axes([0, 0, 1, 1])\n",
    "sm.qqplot(dataalienheights[dataalienheights<250], stats.norm, fit=True, line='45',ax=axes);\n",
    "\n",
    "# Few commands to make the plot look nicer:\n",
    "axes.set_ylim([-5,5]); axes.set_xlim([-5,5])\n",
    "axes.grid()\n",
    "axes.set_title(\"Q-Q plot for alien heights without outliers\");"
   ]
  },
  {
   "cell_type": "markdown",
   "metadata": {
    "slideshow": {
     "slide_type": "slide"
    }
   },
   "source": [
    "If you had a normal distribution with outliers, this would be different:"
   ]
  },
  {
   "cell_type": "code",
   "execution_count": null,
   "metadata": {},
   "outputs": [],
   "source": [
    "datanormalwithoutliers = np.append(np.random.normal(mu, sigma, 495), [260,300,400,600,700]);\n",
    "fig = plt.figure(figsize=(4, 3)) # create figure object with a (width,height)\n",
    "axes = fig.add_axes([0, 0, 1, 1]) # left, bottom, width, height (range 0 to 1)\n",
    "\n",
    "# Plot histogram of data\n",
    "axes.hist(datanormalwithoutliers, 30, range=(145,205), density=True, alpha=0.6, color='g', edgecolor='black', linewidth=1.2);\n",
    "axes.set_xlabel('Height')\n",
    "axes.set_ylabel('Relative frequency')\n",
    "axes.set_title('Histogram of normal data with outliers');\n",
    "\n",
    "# Plot a normal distribution on top\n",
    "axes.plot(x, y, 'k', linewidth=2.5);"
   ]
  },
  {
   "cell_type": "code",
   "execution_count": null,
   "metadata": {
    "scrolled": true,
    "slideshow": {
     "slide_type": "slide"
    },
    "tags": []
   },
   "outputs": [],
   "source": [
    "fig, axes = plt.subplots(nrows=1, ncols=2, figsize=(9, 4))\n",
    "\n",
    "axes[0].set_title(\"Q-Q plot for normal data with outliers\");\n",
    "sm.qqplot(datanormalwithoutliers, stats.norm, fit=True, line='45',ax=axes[0]);\n",
    "\n",
    "axes[1].set_title(\"Q-Q plot for normal data without outliers\");\n",
    "sm.qqplot(datanormalwithoutliers[datanormalwithoutliers < 230], stats.norm, fit=True, line='45',ax=axes[1]);\n",
    "\n",
    "# Few commands to make the plot look nicer:\n",
    "for ax in axes:\n",
    "    ax.set_ylim([-4,4]); ax.set_xlim([-4,4])\n",
    "    ax.set_xticks(ax.get_yticks()); ax.grid()"
   ]
  },
  {
   "cell_type": "markdown",
   "metadata": {},
   "source": [
    "Back to presentation"
   ]
  },
  {
   "cell_type": "markdown",
   "metadata": {},
   "source": [
    "## Kernel density estimation"
   ]
  },
  {
   "cell_type": "markdown",
   "metadata": {},
   "source": [
    "Source: https://scikit-learn.org/stable/auto_examples/neighbors/plot_kde_1d.html"
   ]
  },
  {
   "cell_type": "code",
   "execution_count": null,
   "metadata": {
    "scrolled": true
   },
   "outputs": [],
   "source": [
    "from scipy.stats import norm\n",
    "from sklearn.neighbors import KernelDensity\n",
    "\n",
    "# Create some sample data from two normal distributions\n",
    "N = 100\n",
    "np.random.seed(1)\n",
    "X = np.concatenate(\n",
    "    (np.random.normal(0, 1, int(0.3 * N)), np.random.normal(5, 1, int(0.7 * N)))\n",
    ")[:, np.newaxis]\n",
    "X_plot = np.linspace(-5, 10, 1000)[:, np.newaxis]\n",
    "true_dens = 0.3 * norm(0, 1).pdf(X_plot[:, 0]) + 0.7 * norm(5, 1).pdf(X_plot[:, 0])\n",
    "\n",
    "\n",
    "# Calculate and plot KDEs for different bandwiths\n",
    "fig, ax = plt.subplots(figsize=(14, 6))\n",
    "ax.fill(X_plot[:, 0], true_dens, fc=\"black\", alpha=0.2, label=\"input distribution\")\n",
    "colors = [\"navy\", \"green\", \"darkorange\"]\n",
    "bws = [0.125, 0.5, 2]\n",
    "for color, bw in zip(colors, bws):\n",
    "    kde = KernelDensity(kernel='gaussian', bandwidth=bw).fit(X)\n",
    "    log_dens = kde.score_samples(X_plot)\n",
    "    ax.plot(\n",
    "        X_plot[:, 0],\n",
    "        np.exp(log_dens),\n",
    "        color=color,\n",
    "        linestyle=\"-\",\n",
    "        label=\"bandwidth = {:0.1f}\".format(bw),\n",
    "    )\n",
    "ax.plot(X[:, 0], -0.007 - 0.01 * np.zeros(X.shape[0]), \"|k\") # Rugplot of the data\n",
    "\n",
    "ax.text(7, 0.44, \"N={0} points\".format(N))\n",
    "ax.legend(loc=\"upper left\")\n",
    "ax.set_xlim(-4, 9)\n",
    "ax.set_ylim(-0.015, 0.47);"
   ]
  }
 ],
 "metadata": {
  "kernelspec": {
   "display_name": "Python 3 (ipykernel)",
   "language": "python",
   "name": "python3"
  },
  "language_info": {
   "codemirror_mode": {
    "name": "ipython",
    "version": 3
   },
   "file_extension": ".py",
   "mimetype": "text/x-python",
   "name": "python",
   "nbconvert_exporter": "python",
   "pygments_lexer": "ipython3",
   "version": "3.9.7"
  }
 },
 "nbformat": 4,
 "nbformat_minor": 4
}
